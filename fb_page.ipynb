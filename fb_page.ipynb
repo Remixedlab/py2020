{
 "cells": [
  {
   "cell_type": "code",
   "execution_count": 2,
   "metadata": {},
   "outputs": [],
   "source": [
    "import json\n",
    "with open(\"data/fb_page_sample.json\", \"r\") as f:\n",
    "    fb_data = json.load(f)"
   ]
  },
  {
   "cell_type": "code",
   "execution_count": 9,
   "metadata": {},
   "outputs": [
    {
     "data": {
      "text/plain": [
       "100"
      ]
     },
     "execution_count": 9,
     "metadata": {},
     "output_type": "execute_result"
    }
   ],
   "source": [
    "len(fb_data)"
   ]
  },
  {
   "cell_type": "code",
   "execution_count": 11,
   "metadata": {},
   "outputs": [
    {
     "data": {
      "text/plain": [
       "dict"
      ]
     },
     "execution_count": 11,
     "metadata": {},
     "output_type": "execute_result"
    }
   ],
   "source": [
    "type(fb_data[0])"
   ]
  },
  {
   "cell_type": "code",
   "execution_count": 29,
   "metadata": {},
   "outputs": [
    {
     "data": {
      "text/plain": [
       "dict_keys(['text', 'created_time', 'comment_count', 'reaction_count', 'share_count', 'reactions', 'reshares', 'comments'])"
      ]
     },
     "execution_count": 29,
     "metadata": {},
     "output_type": "execute_result"
    }
   ],
   "source": [
    "fb_data[0].keys()"
   ]
  },
  {
   "cell_type": "code",
   "execution_count": 17,
   "metadata": {},
   "outputs": [
    {
     "data": {
      "text/plain": [
       "35"
      ]
     },
     "execution_count": 17,
     "metadata": {},
     "output_type": "execute_result"
    }
   ],
   "source": [
    "len(fb_data[0][\"comments\"])"
   ]
  },
  {
   "cell_type": "code",
   "execution_count": 20,
   "metadata": {},
   "outputs": [
    {
     "data": {
      "text/plain": [
       "dict"
      ]
     },
     "execution_count": 20,
     "metadata": {},
     "output_type": "execute_result"
    }
   ],
   "source": [
    "type(fb_data[0][\"comments\"][0])"
   ]
  },
  {
   "cell_type": "code",
   "execution_count": 23,
   "metadata": {},
   "outputs": [
    {
     "data": {
      "text/plain": [
       "dict_keys(['node', 'cursor'])"
      ]
     },
     "execution_count": 23,
     "metadata": {},
     "output_type": "execute_result"
    }
   ],
   "source": [
    "fb_data[0][\"comments\"][0].keys()"
   ]
  },
  {
   "cell_type": "code",
   "execution_count": 30,
   "metadata": {},
   "outputs": [
    {
     "data": {
      "text/plain": [
       "{'created_time': 1546309640,\n",
       " 'author': {'__typename': 'User',\n",
       "  'id': '100003330860146',\n",
       "  'name': 'Jia-Feng Lin',\n",
       "  'profile_picture_depth_0': {'uri': 'https://scontent.ftpe8-1.fna.fbcdn.net/v/t1.0-1/p32x32/52011392_2020497241404618_1095831764221296640_n.jpg?_nc_cat=105&_nc_ht=scontent.ftpe8-1.fna&oh=fd78ff76249e0b6b8813bdc461cc0ae6&oe=5D448587'},\n",
       "  'profile_picture_depth_1': {'uri': 'https://scontent.ftpe8-1.fna.fbcdn.net/v/t1.0-1/p24x24/52011392_2020497241404618_1095831764221296640_n.jpg?_nc_cat=105&_nc_ht=scontent.ftpe8-1.fna&oh=54cf5bc6cbddddd16ba53c50c2403a5a&oe=5D0F3560'},\n",
       "  'www_url': 'https://www.facebook.com/night771006',\n",
       "  'first_name': 'Jia-Feng',\n",
       "  'friendship_status': 'CAN_REQUEST',\n",
       "  'gender': 'FEMALE',\n",
       "  'is_work_user': False,\n",
       "  'url': 'https://www.facebook.com/night771006',\n",
       "  'is_verified': False,\n",
       "  'short_name': 'Jia-Feng Lin'},\n",
       " 'id': 'Y29tbWVudDoxOTQ4OTA2Njg4NDk2NjQ5XzE5NTA0NTk0NTE2NzQ3MDY=',\n",
       " 'is_author_weak_reference': False,\n",
       " 'spam_display_mode': 'none',\n",
       " 'attachments': [],\n",
       " 'attached_story': None,\n",
       " 'legacy_fbid': '1950459451674706',\n",
       " 'parent_post_story': {'id': 'UzpfSTIwMDM2MzA3Mzc1MzE1MzpWSzoxOTQ4OTA2Njg4NDk2NjQ5'},\n",
       " 'group_comment_info': None,\n",
       " 'legacy_token': '1948906688496649_1950459451674706',\n",
       " 'comment_menu_tooltip': '隱藏或檢舉此留言',\n",
       " 'comment_menu_items': [{'__typename': 'CommentMenuItemHide'},\n",
       "  {'__typename': 'CommentMenuItemGiveFeedbackOrReport'}],\n",
       " 'is_author_banned_by_content_owner': False,\n",
       " 'parent_feedback': {'can_viewer_ban_user': False,\n",
       "  'id': 'ZmVlZGJhY2s6MTk0ODkwNjY4ODQ5NjY0OQ==',\n",
       "  'viewer_acts_as_page': None},\n",
       " 'body': {'text': '謝謝你們', 'ranges': []},\n",
       " 'chat_to_buy': None,\n",
       " 'edit_history': {'count': 0},\n",
       " 'feedback': {'id': 'ZmVlZGJhY2s6MTk0ODkwNjY4ODQ5NjY0OV8xOTUwNDU5NDUxNjc0NzA2',\n",
       "  'viewer_feedback_reaction_info': None,\n",
       "  'viewer_current_actor': {'__typename': 'User',\n",
       "   'id': '100034078548241',\n",
       "   'name': '林旺中',\n",
       "   'url': 'https://www.facebook.com/profile.php?id=100034078548241',\n",
       "   'profile_picture_depth_0': {'uri': 'https://scontent.ftpe8-1.fna.fbcdn.net/v/t1.0-1/c9.0.32.32a/p32x32/10354686_10150004552801856_220367501106153455_n.jpg?_nc_cat=1&_nc_ht=scontent.ftpe8-1.fna&oh=db629be4680e6cd15e61f722eb39a203&oe=5D4795F1'},\n",
       "   'profile_picture_depth_1': {'uri': 'https://scontent.ftpe8-1.fna.fbcdn.net/v/t1.0-1/c7.0.24.24a/p24x24/10354686_10150004552801856_220367501106153455_n.jpg?_nc_cat=1&_nc_ht=scontent.ftpe8-1.fna&oh=8ff099fe9cf43ac4c8b07be9b523be78&oe=5D4FADD1'},\n",
       "   'www_url': 'https://www.facebook.com/profile.php?id=100034078548241'},\n",
       "  'supported_reactions': [{'key': 1},\n",
       "   {'key': 2},\n",
       "   {'key': 4},\n",
       "   {'key': 3},\n",
       "   {'key': 7},\n",
       "   {'key': 8}],\n",
       "  'associated_video': None,\n",
       "  'top_reactions': {'edges': []},\n",
       "  'reactors': {'count': 0, 'count_reduced': '0'},\n",
       "  'page_private_reply': None,\n",
       "  'can_viewer_react': True,\n",
       "  'can_viewer_comment': True,\n",
       "  'comment_composer_placeholder': '回覆……',\n",
       "  'share_fbid': '1950459451674706',\n",
       "  'political_figure_data': None,\n",
       "  'subscription_target_id': '1950459451674706',\n",
       "  'display_comments': {'after_count': 1,\n",
       "   'before_count': 0,\n",
       "   'count': 1,\n",
       "   'edges': [],\n",
       "   'highlighted_comments': [],\n",
       "   'is_initially_expanded': False,\n",
       "   'page_size': 50,\n",
       "   'should_render_composer_preemptively': False,\n",
       "   'view_option': 'TOPLEVEL',\n",
       "   'page_info': {'end_cursor': None,\n",
       "    'has_next_page': True,\n",
       "    'has_previous_page': False,\n",
       "    'start_cursor': None}}},\n",
       " 'page_admin_actor_info': None,\n",
       " 'private_reply_context': None,\n",
       " 'preferred_body': {'__typename': 'TextWithEntities',\n",
       "  'translation_type': 'ORIGINAL',\n",
       "  'delight_ranges': [],\n",
       "  'ranges': [],\n",
       "  'text': '謝謝你們'},\n",
       " 'translatability_for_viewer': {'source_dialect_name': '中文（繁體）'},\n",
       " 'translation_available_for_viewer': False,\n",
       " 'url': 'https://www.facebook.com/equallovetw/videos/1948906688496649/?comment_id=1950459451674706',\n",
       " 'can_see_constituent_badge_upsell': False,\n",
       " 'has_constituent_badge': False,\n",
       " 'banner_text': None,\n",
       " 'can_viewer_disable_preview': False,\n",
       " 'is_hidden_by_content_owner': None,\n",
       " 'www_layout_renderer': None,\n",
       " 'is_markdown_enabled': False,\n",
       " 'can_comment': {'can_viewer_comment': True,\n",
       "  'id': 'ZmVlZGJhY2s6MTk0ODkwNjY4ODQ5NjY0OV8xOTUwNDU5NDUxNjc0NzA2'},\n",
       " 'inline_survey_config': None,\n",
       " '__typename': 'Comment'}"
      ]
     },
     "execution_count": 30,
     "metadata": {},
     "output_type": "execute_result"
    }
   ],
   "source": [
    "fb_data[0][\"comments\"][1]['node']"
   ]
  },
  {
   "cell_type": "code",
   "execution_count": 27,
   "metadata": {},
   "outputs": [
    {
     "data": {
      "text/plain": [
       "'AQHRfnDdVF7hxn75vYExdx0dc44SX2sUzSVcAjk21qhASzrnis3OHw7nyQdmhSE6UVT6moM3XdkekMhAMxYA6oefOQ'"
      ]
     },
     "execution_count": 27,
     "metadata": {},
     "output_type": "execute_result"
    }
   ],
   "source": [
    "fb_data[0][\"comments\"][0]['cursor']"
   ]
  }
 ],
 "metadata": {
  "kernelspec": {
   "display_name": "Python 3",
   "language": "python",
   "name": "python3"
  },
  "language_info": {
   "codemirror_mode": {
    "name": "ipython",
    "version": 3
   },
   "file_extension": ".py",
   "mimetype": "text/x-python",
   "name": "python",
   "nbconvert_exporter": "python",
   "pygments_lexer": "ipython3",
   "version": "3.6.8"
  },
  "toc": {
   "base_numbering": 1,
   "nav_menu": {},
   "number_sections": true,
   "sideBar": true,
   "skip_h1_title": false,
   "title_cell": "Table of Contents",
   "title_sidebar": "Contents",
   "toc_cell": false,
   "toc_position": {},
   "toc_section_display": true,
   "toc_window_display": false
  }
 },
 "nbformat": 4,
 "nbformat_minor": 2
}
