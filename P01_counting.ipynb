{
 "cells": [
  {
   "cell_type": "markdown",
   "metadata": {},
   "source": [
    "# 數水果的問題 The fruit-counting problem\n",
    "寫程式是模仿你解決問題的邏輯，讓電腦幫你重複做，大量的做。因此，重要的是你解決問題的邏輯。數物件、數水果就是個很實用的演算法邏輯，教你怎麼計算一堆物品中，每個物件各有幾個。相關範例有：\n",
    "* 全班有這麼多人，我想算算每個科系有多少人，好知道系所比例安排專題。\n",
    "* 你被當好人跑腿，幫全班買飲料，結果一票人買了很多種飲料，只好一杯一杯畫正字。\n",
    "* 計算某一篇文章裡面，每個字出現幾次（字頻）；依照0~10、10~20依此類推計算學生的成績分布。\n",
    "\n",
    "## 問題定義\n",
    "\n",
    "考慮一個狀況，有一個跟一座山一樣多的水果，不知道有幾種水果，也不知道有幾顆，你必須要數出各種水果有幾顆，你會怎麼數？\n",
    "\n",
    "**Solution**: \n",
    "* 若你今天在用Excel處理的話，會使用`COUNTIF`函式，作法如下[Excel skills: How do I get the distinct/uniq](https://paper.dropbox.com/doc/Excel-skills--AMhtEb1RwJRKglJS17HxOonIAQ-oFgGCjW9W1m7UXBsdq6UG)\n",
    "* 如果你是用R來處理的話，那就會是`count(vec)`。\n",
    "---"
   ]
  },
  {
   "cell_type": "markdown",
   "metadata": {},
   "source": [
    "# Programming the fruit-counting problem\n",
    "以下這個例子將帶你從最基礎的語法，用Python最基礎的資料型態來「計數（counting）」\n",
    "\n",
    "\n",
    "## Progammable thinking\n",
    "先想想若你在數水果實際上你是怎麼數？Ans. 一顆一顆數。\n",
    "\n",
    "那你怎麼記住哪一種水果有幾顆？Ans. 拿出一張紙，看到一種沒看過的水果，就新增一個「對應」，將水果名稱對應到0，然後在對應的欄位數值遞增一。若已經看過該水果，那就直接找到那個欄位遞增一即可。\n",
    "\n",
    "## Elaborated thinking\n",
    "1. 先拿出一張紙做對應表，上面一行要寫水果名，下面一行為他所對應到的水果數量\n",
    "2. 把水果排成一列準備一個一個數\n",
    "3. 對在該列中的每顆水果\n",
    "    * 如果我沒看過他\n",
    "        * 就在對應表記下該水果，登記該水果為1顆。\n",
    "    * 若我有看過他\n",
    "        * 就把對應表上的那個水果所對應到的格子下面的數字加1。"
   ]
  },
  {
   "cell_type": "markdown",
   "metadata": {},
   "source": [
    "---\n",
    "## Describing in in English\n",
    "1. build a look-up table to record each fruit and number of the fruit(calls it dictionary), naming as `fruit_count`\n",
    "2. keep all fruits in a list named `fruit_list`\n",
    "3. for each `fruit` in `fruit_list`: \n",
    "    * If the fruit does not appear in `fruit_count`\n",
    "        * Create a mapping in `fruit_count` to map the `fruit` name to 1\n",
    "    * else\n",
    "        * increase the mapped value of the `fruit` name in `fruit_count`"
   ]
  },
  {
   "cell_type": "markdown",
   "metadata": {},
   "source": [
    "# Convert it to python\n",
    "* Assignment\n",
    "`variable = value`\n",
    "* Assigning an empty dictionary to a vriable\n",
    "`fruit_count = {}`\n",
    "* Assigning an list containing value to a variable\n",
    "`fruit_list = ['a', 'b', 'c', 'a', 'd', 'a', 'w', 'b']`\n",
    "* var[] Brackes are used to access a list or a dictionry\n",
    "`fruit_list[1]`\n",
    "`fruit_count[\"a\"]`\n",
    "* a = a + 1 is a typical incrementer 遞增運算\n",
    "`fruit_count[fruit] = fruit_count[fruit] + 1`\n",
    "* list is ordered `fruit_list[2]`\n",
    "* dictionary is unordered `fruit_count[\"b\"]`"
   ]
  },
  {
   "cell_type": "code",
   "execution_count": 2,
   "metadata": {
    "ExecuteTime": {
     "end_time": "2020-03-07T11:09:29.785844Z",
     "start_time": "2020-03-07T11:09:29.770640Z"
    }
   },
   "outputs": [
    {
     "name": "stdout",
     "output_type": "stream",
     "text": [
      "{'apple': 4, 'banana': 3, 'grape': 1}\n"
     ]
    },
    {
     "data": {
      "text/plain": [
       "{'apple': 4, 'banana': 3, 'grape': 1}"
      ]
     },
     "execution_count": 2,
     "metadata": {},
     "output_type": "execute_result"
    }
   ],
   "source": [
    "# Create an empty dictionry to store the key to value pairs\n",
    "fruit_count = {} # dictionary, key to value pairs\n",
    "\n",
    "# Create a list to store all things to count\n",
    "fruit_list = ['apple', 'apple', 'banana', 'apple', 'banana', 'grape', 'banana', 'apple'] # A list of fruit\n",
    "\n",
    "# For each fruit in the list...\n",
    "for fruit in fruit_list:\n",
    "    if fruit not in fruit_count:\n",
    "        fruit_count[fruit] = 1\n",
    "    else:\n",
    "        fruit_count[fruit] += 1  \n",
    "\n",
    "print(fruit_count)\n",
    "fruit_count"
   ]
  },
  {
   "cell_type": "markdown",
   "metadata": {},
   "source": [
    "# Dictionary: Print out all pair of data by for-loop"
   ]
  },
  {
   "cell_type": "code",
   "execution_count": 3,
   "metadata": {
    "ExecuteTime": {
     "end_time": "2020-03-07T11:09:39.402253Z",
     "start_time": "2020-03-07T11:09:39.397849Z"
    }
   },
   "outputs": [
    {
     "name": "stdout",
     "output_type": "stream",
     "text": [
      "{'apple': 4, 'banana': 3, 'grape': 1}\n",
      "dict_keys(['apple', 'banana', 'grape'])\n",
      "dict_values([4, 3, 1])\n",
      "dict_items([('apple', 4), ('banana', 3), ('grape', 1)])\n"
     ]
    }
   ],
   "source": [
    "# Print the dictionary\n",
    "print(fruit_count)\n",
    "\n",
    "# Print all keys\n",
    "print(fruit_count.keys())\n",
    "\n",
    "# Print all values mapped by keys\n",
    "print(fruit_count.values())\n",
    "\n",
    "# Print all key-to-value pairs\n",
    "print(fruit_count.items())"
   ]
  },
  {
   "cell_type": "code",
   "execution_count": 4,
   "metadata": {
    "ExecuteTime": {
     "end_time": "2020-03-07T11:09:41.140189Z",
     "start_time": "2020-03-07T11:09:41.135998Z"
    }
   },
   "outputs": [
    {
     "name": "stdout",
     "output_type": "stream",
     "text": [
      "apple 4\n",
      "banana 3\n",
      "grape 1\n"
     ]
    }
   ],
   "source": [
    "for key in fruit_count:\n",
    "    print(key, fruit_count[key])"
   ]
  },
  {
   "cell_type": "markdown",
   "metadata": {},
   "source": [
    "# Shorter versions\n",
    "## Using list.count(key) to count the frequency of something"
   ]
  },
  {
   "cell_type": "code",
   "execution_count": 3,
   "metadata": {
    "ExecuteTime": {
     "end_time": "2020-03-09T02:17:34.194805Z",
     "start_time": "2020-03-09T02:17:34.185881Z"
    }
   },
   "outputs": [
    {
     "name": "stdout",
     "output_type": "stream",
     "text": [
      "{'apple': 4, 'banana': 3, 'grape': 1}\n"
     ]
    },
    {
     "data": {
      "text/plain": [
       "{'apple': 4, 'banana': 3, 'grape': 1}"
      ]
     },
     "execution_count": 3,
     "metadata": {},
     "output_type": "execute_result"
    }
   ],
   "source": [
    "fruit_count = {} # dictionary, key to value pairs\n",
    "\n",
    "fruit_list = ['apple', 'apple', 'banana', 'apple', 'banana', 'grape', 'banana', 'apple'] # A list of fruit\n",
    "\n",
    "for fruit in fruit_list:\n",
    "    if fruit not in fruit_count:\n",
    "        fruit_count[fruit] = fruit_list.count(fruit)\n",
    "print(fruit_count)\n",
    "fruit_count"
   ]
  },
  {
   "cell_type": "markdown",
   "metadata": {},
   "source": [
    "## Using set(fruit_list) to gaurantee unique value in the list¶"
   ]
  },
  {
   "cell_type": "code",
   "execution_count": 5,
   "metadata": {
    "ExecuteTime": {
     "end_time": "2020-03-09T02:17:44.573652Z",
     "start_time": "2020-03-09T02:17:44.569892Z"
    }
   },
   "outputs": [
    {
     "data": {
      "text/plain": [
       "{'grape': 1, 'apple': 4, 'banana': 3}"
      ]
     },
     "execution_count": 5,
     "metadata": {},
     "output_type": "execute_result"
    }
   ],
   "source": [
    "fruit_count = {}\n",
    "for k in set(fruit_list):\n",
    "    fruit_count[k] = fruit_list.count(k)\n",
    "fruit_count"
   ]
  },
  {
   "cell_type": "markdown",
   "metadata": {},
   "source": [
    "## by Comprehensive dictionary"
   ]
  },
  {
   "cell_type": "code",
   "execution_count": 7,
   "metadata": {
    "ExecuteTime": {
     "end_time": "2020-03-09T02:18:05.340528Z",
     "start_time": "2020-03-09T02:18:05.337058Z"
    }
   },
   "outputs": [
    {
     "data": {
      "text/plain": [
       "{'grape': 1, 'apple': 4, 'banana': 3}"
      ]
     },
     "execution_count": 7,
     "metadata": {},
     "output_type": "execute_result"
    }
   ],
   "source": [
    "fruit_count = {k:fruit_list.count(k) for k in set(fruit_list)}\n",
    "fruit_count"
   ]
  },
  {
   "cell_type": "markdown",
   "metadata": {},
   "source": [
    "## by Counter()"
   ]
  },
  {
   "cell_type": "code",
   "execution_count": 8,
   "metadata": {
    "ExecuteTime": {
     "end_time": "2020-03-09T02:18:09.629193Z",
     "start_time": "2020-03-09T02:18:09.625244Z"
    }
   },
   "outputs": [
    {
     "data": {
      "text/plain": [
       "Counter({'apple': 4, 'banana': 3, 'grape': 1})"
      ]
     },
     "execution_count": 8,
     "metadata": {},
     "output_type": "execute_result"
    }
   ],
   "source": [
    "from collections import Counter\n",
    "fruit_list = ['apple', 'apple', 'banana', 'apple', 'banana', 'grape', 'banana', 'apple'] # A list of fruit\n",
    "fruit_count = Counter(fruit_list)\n",
    "fruit_count"
   ]
  },
  {
   "cell_type": "markdown",
   "metadata": {},
   "source": [
    "# Counting Word frequency: A document as your \"fruits\"\n",
    "* Now we want to count the occurrence of words in a document. Let treat each word as a distinct fruit. So you must seperate a document (or a sentence) into a list of words. \n",
    "* We want to use wikipedia sentences to demonstrate how counting can help us to understand the wording of text.\n",
    "* Before importing and using the wikipedia package, using `pip install wikipedia` to install it in your computer."
   ]
  },
  {
   "cell_type": "code",
   "execution_count": 16,
   "metadata": {
    "ExecuteTime": {
     "end_time": "2020-03-07T11:17:45.235573Z",
     "start_time": "2020-03-07T11:17:41.912874Z"
    }
   },
   "outputs": [
    {
     "data": {
      "text/plain": [
       "'Big data is a field that treats ways to analyze, systematically extract information from, or otherwise deal with data sets that are too large or complex to be dealt with by traditional data-processing application software. Data with many cases (rows) offer greater statistical power, while data with higher complexity (more attributes or columns) may lead to a higher false discovery rate. Big data challenges include capturing data, data storage, data analysis, search, sharing, transfer, visualization, querying, updating, information privacy and data source. Big data was originally associated with three key concepts: volume, variety, and velocity. When we handle big data, we may not sample but simply observe and track what happens. Therefore, big data often includes data with sizes that exceed the capacity of traditional software to process within an acceptable time and value.\\nCurrent usage of the term big data tends to refer to the use of predictive analytics, user behavior analytics, or certain other advanced data analytics methods that extract value from data, and seldom to a particular size of data set. \"There is little doubt that the quantities of data now available are indeed large, but that\\'s not the most relevant characteristic of this new data ecosystem.\"\\nAnalysis of data sets can find new correlations to \"spot business trends, prevent diseases, combat crime and so on.\" Scientists, business executives, practitioners of medicine, advertising and governments alike regularly meet difficulties with large data-sets in areas including Internet searches, fintech, urban informatics, and business informatics.  Scientists encounter limitations in e-Science work, including meteorology, genomics, connectomics, complex physics simulations, biology and environmental research.Data sets grow rapidly, to a certain extent because they are increasingly gathered by cheap and numerous information-sensing Internet of things devices such as mobile devices, aerial (remote sensing), software logs, cameras, microphones, radio-frequency identification (RFID) readers and wireless sensor networks. The world\\'s technological per-capita capacity to store information has roughly doubled every 40 months since the 1980s; as of 2012, every day 2.5 exabytes (2.5×260 bytes) of data are generated.'"
      ]
     },
     "execution_count": 16,
     "metadata": {},
     "output_type": "execute_result"
    }
   ],
   "source": [
    "import wikipedia \n",
    "import string\n",
    "string_a  = wikipedia.summary(\"Big_data\", sentences = 10)\n",
    "type(string_a)\n",
    "string_a\n",
    "# string_a = \"In 2004, Obama received national attention during his campaign to represent Illinois in the United States Senate with his victory in the March Democratic Party primary, his keynote address at the Democratic National Convention in July, and his election to the Senate in November. He began his presidential campaign in 2007 and, after a close primary campaign against Hillary Rodham Clinton in 2008, he won sufficient delegates in the Democratic Party primaries to receive the presidential nomination. He then defeated Republican nominee John McCain in the general election, and was inaugurated as president on January 20, 2009. Nine months after his inauguration, Obama was named the 2009 Nobel Peace Prize laureate\""
   ]
  },
  {
   "cell_type": "markdown",
   "metadata": {},
   "source": [
    "## text preprocessing"
   ]
  },
  {
   "cell_type": "code",
   "execution_count": 17,
   "metadata": {
    "ExecuteTime": {
     "end_time": "2020-03-07T11:17:48.006040Z",
     "start_time": "2020-03-07T11:17:47.996689Z"
    }
   },
   "outputs": [
    {
     "name": "stdout",
     "output_type": "stream",
     "text": [
      "<class 'str'>\n",
      "<class 'list'>\n"
     ]
    },
    {
     "data": {
      "text/plain": [
       "['big', 'data', 'is', 'a', 'field', 'that', 'treats', 'ways', 'to', 'analyze']"
      ]
     },
     "execution_count": 17,
     "metadata": {},
     "output_type": "execute_result"
    }
   ],
   "source": [
    "print(type(string.punctuation))\n",
    "# astring = astring.translate(None, string.punctuation) for python 2.x\n",
    "translator = str.maketrans('','',string.punctuation)\n",
    "string_a = string_a.translate(translator)\n",
    "string_a = string_a.lower()\n",
    "\n",
    "words = string_a.split()\n",
    "print(type(words))\n",
    "words[:10]"
   ]
  },
  {
   "cell_type": "code",
   "execution_count": 18,
   "metadata": {
    "ExecuteTime": {
     "end_time": "2020-03-07T11:17:52.964384Z",
     "start_time": "2020-03-07T11:17:52.957793Z"
    }
   },
   "outputs": [
    {
     "data": {
      "text/plain": [
       "218"
      ]
     },
     "execution_count": 18,
     "metadata": {},
     "output_type": "execute_result"
    }
   ],
   "source": [
    "word_freq = {}\n",
    "for w in words:\n",
    "    if w not in word_freq: # dictionary key-value initilization\n",
    "        word_freq[w] = 0\n",
    "    word_freq[w] += 1\n",
    "len(word_freq)"
   ]
  },
  {
   "cell_type": "markdown",
   "metadata": {},
   "source": [
    "## Plot histogram of word frequency"
   ]
  },
  {
   "cell_type": "code",
   "execution_count": 19,
   "metadata": {
    "ExecuteTime": {
     "end_time": "2020-03-07T11:17:57.307440Z",
     "start_time": "2020-03-07T11:17:56.990520Z"
    }
   },
   "outputs": [
    {
     "data": {
      "text/plain": [
       "(array([177.,  24.,   6.,   3.,   1.,   1.,   2.,   0.,   0.,   1.,   2.,\n",
       "          0.,   0.,   0.,   0.,   0.,   0.,   0.,   0.,   1.]),\n",
       " array([ 1.,  2.,  3.,  4.,  5.,  6.,  7.,  8.,  9., 10., 11., 12., 13.,\n",
       "        14., 15., 16., 17., 18., 19., 20., 21.]),\n",
       " <a list of 20 Patch objects>)"
      ]
     },
     "execution_count": 19,
     "metadata": {},
     "output_type": "execute_result"
    },
    {
     "data": {
      "image/png": "[encoded data removed]",
      "text/plain": [
       "<Figure size 432x288 with 1 Axes>"
      ]
     },
     "metadata": {
      "needs_background": "light"
     },
     "output_type": "display_data"
    }
   ],
   "source": [
    "%matplotlib inline\n",
    "import matplotlib.pyplot as plt\n",
    "plt.hist(word_freq.values(), facecolor='green', alpha=0.5, bins=20)"
   ]
  },
  {
   "cell_type": "markdown",
   "metadata": {},
   "source": [
    "## More: A shortest version to count word frequency"
   ]
  },
  {
   "cell_type": "code",
   "execution_count": 20,
   "metadata": {
    "ExecuteTime": {
     "end_time": "2020-03-07T11:18:00.722894Z",
     "start_time": "2020-03-07T11:18:00.717568Z"
    }
   },
   "outputs": [],
   "source": [
    "word_freq = {k:words.count(k) for k in set(words)}"
   ]
  },
  {
   "cell_type": "markdown",
   "metadata": {},
   "source": [
    "## More:Sorting all pairs of key and value"
   ]
  },
  {
   "cell_type": "code",
   "execution_count": 21,
   "metadata": {
    "ExecuteTime": {
     "end_time": "2020-03-07T11:22:10.044374Z",
     "start_time": "2020-03-07T11:22:10.039248Z"
    }
   },
   "outputs": [
    {
     "name": "stdout",
     "output_type": "stream",
     "text": [
      "('data', 21)\n",
      "('of', 11)\n",
      "('and', 11)\n",
      "('to', 10)\n",
      "('with', 7)\n",
      "('the', 7)\n"
     ]
    }
   ],
   "source": [
    "import operator\n",
    "sorted_x = sorted(word_freq.items(), \n",
    "                  key=operator.itemgetter(1), \n",
    "                  reverse=True)\n",
    "\n",
    "for k in sorted_x[:6]:\n",
    "    print(k)"
   ]
  },
  {
   "cell_type": "markdown",
   "metadata": {},
   "source": [
    "# Sort the data by value"
   ]
  },
  {
   "cell_type": "code",
   "execution_count": 21,
   "metadata": {},
   "outputs": [
    {
     "name": "stdout",
     "output_type": "stream",
     "text": [
      "['apple', 'banana', 'grape']\n"
     ]
    }
   ],
   "source": [
    "sorted_keys = sorted(fruit_count, key=fruit_count.get, reverse=True)\n",
    "print(sorted_keys)"
   ]
  },
  {
   "cell_type": "code",
   "execution_count": 1,
   "metadata": {
    "ExecuteTime": {
     "end_time": "2020-03-09T02:15:56.401538Z",
     "start_time": "2020-03-09T02:15:56.318744Z"
    }
   },
   "outputs": [
    {
     "ename": "NameError",
     "evalue": "name 'sorted_keys' is not defined",
     "output_type": "error",
     "traceback": [
      "\u001b[0;31m---------------------------------------------------------------------------\u001b[0m",
      "\u001b[0;31mNameError\u001b[0m                                 Traceback (most recent call last)",
      "\u001b[0;32m<ipython-input-1-86f7acf57faf>\u001b[0m in \u001b[0;36m<module>\u001b[0;34m\u001b[0m\n\u001b[0;32m----> 1\u001b[0;31m \u001b[0;32mfor\u001b[0m \u001b[0mkey\u001b[0m \u001b[0;32min\u001b[0m \u001b[0msorted_keys\u001b[0m\u001b[0;34m:\u001b[0m\u001b[0;34m\u001b[0m\u001b[0;34m\u001b[0m\u001b[0m\n\u001b[0m\u001b[1;32m      2\u001b[0m     \u001b[0mprint\u001b[0m\u001b[0;34m(\u001b[0m\u001b[0mkey\u001b[0m\u001b[0;34m,\u001b[0m \u001b[0mfruit_count\u001b[0m\u001b[0;34m[\u001b[0m\u001b[0mkey\u001b[0m\u001b[0;34m]\u001b[0m\u001b[0;34m)\u001b[0m\u001b[0;34m\u001b[0m\u001b[0;34m\u001b[0m\u001b[0m\n",
      "\u001b[0;31mNameError\u001b[0m: name 'sorted_keys' is not defined"
     ]
    }
   ],
   "source": [
    "for key in sorted_keys:\n",
    "    print(key, fruit_count[key])"
   ]
  },
  {
   "cell_type": "markdown",
   "metadata": {},
   "source": [
    "# Counting grading distribution"
   ]
  },
  {
   "cell_type": "code",
   "execution_count": 38,
   "metadata": {},
   "outputs": [
    {
     "data": {
      "text/plain": [
       "75"
      ]
     },
     "execution_count": 38,
     "metadata": {},
     "output_type": "execute_result"
    }
   ],
   "source": [
    "import random\n",
    "grades  =  [random.randint(35, 100) for i in range(0, 75)]\n",
    "len(grades)\n",
    "# grades"
   ]
  },
  {
   "cell_type": "code",
   "execution_count": 40,
   "metadata": {},
   "outputs": [
    {
     "name": "stdout",
     "output_type": "stream",
     "text": [
      "{'F': 27, 'C': 12, 'B': 12, 'A': 24}\n"
     ]
    }
   ],
   "source": [
    "grade_dict = {'F':0, \"C\":0, \"B\":0, \"A\":0}\n",
    "for g in grades:\n",
    "    if 100 >= g >= 80:\n",
    "        grade_dict[\"A\"] += 1\n",
    "    elif 79 >= g >= 72:\n",
    "        grade_dict[\"B\"] += 1\n",
    "    elif 71 >= g >= 60:\n",
    "        grade_dict[\"C\"] += 1\n",
    "    else:\n",
    "        grade_dict[\"F\"] += 1\n",
    "print(grade_dict)"
   ]
  },
  {
   "cell_type": "markdown",
   "metadata": {},
   "source": [
    "# ANS: Convert to Python\n",
    "You can copy the following code to your code area. But I recommend that you can type it line by line.\n",
    "```\n",
    "    fruit_count = {}\n",
    "    fruit_list = ['a', 'b', 'c', 'a', 'd', 'a', 'w', 'b']\n",
    "    for fruit in fruit_list:\n",
    "      if fruit not in fruit_count:\n",
    "        fruit_count[fruit] = 1\n",
    "      else:\n",
    "        fruit_count[fruit] = fruit_count[fruit] + 1\n",
    "```"
   ]
  },
  {
   "cell_type": "code",
   "execution_count": 8,
   "metadata": {},
   "outputs": [
    {
     "name": "stdout",
     "output_type": "stream",
     "text": [
      "{'soc': 2, 'econ': 3, 'bio': 1, 'psy': 2, 'poli': 1}\n"
     ]
    }
   ],
   "source": [
    "stu_dict = {}\n",
    "stu_list = [\"soc\", \"soc\", \"econ\", \"bio\", \"psy\", \"psy\", \"econ\", \"poli\", \"econ\"]\n",
    "for student in stu_list:\n",
    "    stu_dict[student] = 0\n",
    "for student in stu_list:\n",
    "    stu_dict[student] += 1\n",
    "print(stu_dict)"
   ]
  }
 ],
 "metadata": {
  "kernelspec": {
   "display_name": "Python 3",
   "language": "python",
   "name": "python3"
  },
  "language_info": {
   "codemirror_mode": {
    "name": "ipython",
    "version": 3
   },
   "file_extension": ".py",
   "mimetype": "text/x-python",
   "name": "python",
   "nbconvert_exporter": "python",
   "pygments_lexer": "ipython3",
   "version": "3.7.4"
  },
  "toc": {
   "base_numbering": 1,
   "nav_menu": {},
   "number_sections": true,
   "sideBar": true,
   "skip_h1_title": false,
   "title_cell": "Table of Contents",
   "title_sidebar": "Contents",
   "toc_cell": false,
   "toc_position": {
    "height": "calc(100% - 180px)",
    "left": "10px",
    "top": "150px",
    "width": "222px"
   },
   "toc_section_display": true,
   "toc_window_display": true
  },
  "varInspector": {
   "cols": {
    "lenName": 16,
    "lenType": 16,
    "lenVar": 40
   },
   "kernels_config": {
    "python": {
     "delete_cmd_postfix": "",
     "delete_cmd_prefix": "del ",
     "library": "var_list.py",
     "varRefreshCmd": "print(var_dic_list())"
    },
    "r": {
     "delete_cmd_postfix": ") ",
     "delete_cmd_prefix": "rm(",
     "library": "var_list.r",
     "varRefreshCmd": "cat(var_dic_list()) "
    }
   },
   "types_to_exclude": [
    "module",
    "function",
    "builtin_function_or_method",
    "instance",
    "_Feature"
   ],
   "window_display": false
  }
 },
 "nbformat": 4,
 "nbformat_minor": 1
}
