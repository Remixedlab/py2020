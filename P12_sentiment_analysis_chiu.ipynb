{
 "cells": [
  {
   "cell_type": "markdown",
   "metadata": {},
   "source": [
    "# Sentiment Analysis"
   ]
  },
  {
   "cell_type": "markdown",
   "metadata": {},
   "source": [
    "先確認已安裝以下套件：\n",
    "pandas, jieba, numpy, matplotlib, gensim, sklearn"
   ]
  },
  {
   "cell_type": "markdown",
   "metadata": {},
   "source": [
    "## Load data "
   ]
  },
  {
   "cell_type": "code",
   "execution_count": 1,
   "metadata": {},
   "outputs": [
    {
     "data": {
      "text/html": [
       "<div>\n",
       "<style scoped>\n",
       "    .dataframe tbody tr th:only-of-type {\n",
       "        vertical-align: middle;\n",
       "    }\n",
       "\n",
       "    .dataframe tbody tr th {\n",
       "        vertical-align: top;\n",
       "    }\n",
       "\n",
       "    .dataframe thead th {\n",
       "        text-align: right;\n",
       "    }\n",
       "</style>\n",
       "<table border=\"1\" class=\"dataframe\">\n",
       "  <thead>\n",
       "    <tr style=\"text-align: right;\">\n",
       "      <th></th>\n",
       "      <th>tag</th>\n",
       "      <th>text</th>\n",
       "    </tr>\n",
       "  </thead>\n",
       "  <tbody>\n",
       "    <tr>\n",
       "      <th>0</th>\n",
       "      <td>P</td>\n",
       "      <td>店家很給力，快遞也是相當快，第三次光顧啦</td>\n",
       "    </tr>\n",
       "    <tr>\n",
       "      <th>1</th>\n",
       "      <td>N</td>\n",
       "      <td>這樣的配置用Vista系統還是有點卡。 指紋收集器。 沒送原裝滑鼠還需要自己買，不太好。</td>\n",
       "    </tr>\n",
       "    <tr>\n",
       "      <th>2</th>\n",
       "      <td>P</td>\n",
       "      <td>不錯，在同等檔次酒店中應該是值得推薦的！</td>\n",
       "    </tr>\n",
       "    <tr>\n",
       "      <th>3</th>\n",
       "      <td>N</td>\n",
       "      <td>哎！ 不會是蒙牛乾的吧 嚴懲真凶！</td>\n",
       "    </tr>\n",
       "    <tr>\n",
       "      <th>4</th>\n",
       "      <td>N</td>\n",
       "      <td>空尤其是三立電視臺女主播做的序尤其無趣像是硬湊那麼多字</td>\n",
       "    </tr>\n",
       "  </tbody>\n",
       "</table>\n",
       "</div>"
      ],
      "text/plain": [
       "  tag                                          text\n",
       "0   P                          店家很給力，快遞也是相當快，第三次光顧啦\n",
       "1   N  這樣的配置用Vista系統還是有點卡。 指紋收集器。 沒送原裝滑鼠還需要自己買，不太好。\n",
       "2   P                          不錯，在同等檔次酒店中應該是值得推薦的！\n",
       "3   N                             哎！ 不會是蒙牛乾的吧 嚴懲真凶！\n",
       "4   N                   空尤其是三立電視臺女主播做的序尤其無趣像是硬湊那麼多字"
      ]
     },
     "execution_count": 1,
     "metadata": {},
     "output_type": "execute_result"
    }
   ],
   "source": [
    "import pandas as pd\n",
    "\n",
    "df = pd.read_csv('data/sentiment.csv')\n",
    "df.head(5)"
   ]
  },
  {
   "cell_type": "code",
   "execution_count": 2,
   "metadata": {},
   "outputs": [
    {
     "name": "stdout",
     "output_type": "stream",
     "text": [
      "6388\n",
      "N    3347\n",
      "P    3041\n",
      "Name: tag, dtype: int64\n"
     ]
    }
   ],
   "source": [
    "print(len(df))\n",
    "print(df['tag'].value_counts())"
   ]
  },
  {
   "cell_type": "markdown",
   "metadata": {},
   "source": [
    "## Tokenization"
   ]
  },
  {
   "cell_type": "code",
   "execution_count": 3,
   "metadata": {},
   "outputs": [
    {
     "name": "stderr",
     "output_type": "stream",
     "text": [
      "Building prefix dict from the default dictionary ...\n",
      "Loading model from cache /var/folders/0p/7xy1_dzx0_s5rnf06c0b316w0000gn/T/jieba.cache\n",
      "Loading model cost 0.575 seconds.\n",
      "Prefix dict has been built succesfully.\n"
     ]
    },
    {
     "data": {
      "text/html": [
       "<div>\n",
       "<style scoped>\n",
       "    .dataframe tbody tr th:only-of-type {\n",
       "        vertical-align: middle;\n",
       "    }\n",
       "\n",
       "    .dataframe tbody tr th {\n",
       "        vertical-align: top;\n",
       "    }\n",
       "\n",
       "    .dataframe thead th {\n",
       "        text-align: right;\n",
       "    }\n",
       "</style>\n",
       "<table border=\"1\" class=\"dataframe\">\n",
       "  <thead>\n",
       "    <tr style=\"text-align: right;\">\n",
       "      <th></th>\n",
       "      <th>tag</th>\n",
       "      <th>text</th>\n",
       "      <th>token_text</th>\n",
       "    </tr>\n",
       "  </thead>\n",
       "  <tbody>\n",
       "    <tr>\n",
       "      <th>0</th>\n",
       "      <td>P</td>\n",
       "      <td>店家很給力，快遞也是相當快，第三次光顧啦</td>\n",
       "      <td>[店家, 很, 給力, ，, 快遞, 也, 是, 相當快, ，, 第三次, 光顧, 啦]</td>\n",
       "    </tr>\n",
       "    <tr>\n",
       "      <th>1</th>\n",
       "      <td>N</td>\n",
       "      <td>這樣的配置用Vista系統還是有點卡。 指紋收集器。 沒送原裝滑鼠還需要自己買，不太好。</td>\n",
       "      <td>[這樣, 的, 配置, 用, Vista, 系統, 還是, 有點, 卡, 。,  , 指紋,...</td>\n",
       "    </tr>\n",
       "    <tr>\n",
       "      <th>2</th>\n",
       "      <td>P</td>\n",
       "      <td>不錯，在同等檔次酒店中應該是值得推薦的！</td>\n",
       "      <td>[不錯, ，, 在, 同等, 檔次, 酒店, 中應, 該, 是, 值得, 推薦, 的, ！]</td>\n",
       "    </tr>\n",
       "    <tr>\n",
       "      <th>3</th>\n",
       "      <td>N</td>\n",
       "      <td>哎！ 不會是蒙牛乾的吧 嚴懲真凶！</td>\n",
       "      <td>[哎, ！,  , 不會, 是, 蒙牛, 乾, 的, 吧,  , 嚴懲, 真凶, ！]</td>\n",
       "    </tr>\n",
       "    <tr>\n",
       "      <th>4</th>\n",
       "      <td>N</td>\n",
       "      <td>空尤其是三立電視臺女主播做的序尤其無趣像是硬湊那麼多字</td>\n",
       "      <td>[空, 尤其, 是, 三立, 電視, 臺, 女主播, 做, 的, 序, 尤其, 無趣, 像是...</td>\n",
       "    </tr>\n",
       "  </tbody>\n",
       "</table>\n",
       "</div>"
      ],
      "text/plain": [
       "  tag                                          text  \\\n",
       "0   P                          店家很給力，快遞也是相當快，第三次光顧啦   \n",
       "1   N  這樣的配置用Vista系統還是有點卡。 指紋收集器。 沒送原裝滑鼠還需要自己買，不太好。   \n",
       "2   P                          不錯，在同等檔次酒店中應該是值得推薦的！   \n",
       "3   N                             哎！ 不會是蒙牛乾的吧 嚴懲真凶！   \n",
       "4   N                   空尤其是三立電視臺女主播做的序尤其無趣像是硬湊那麼多字   \n",
       "\n",
       "                                          token_text  \n",
       "0       [店家, 很, 給力, ，, 快遞, 也, 是, 相當快, ，, 第三次, 光顧, 啦]  \n",
       "1  [這樣, 的, 配置, 用, Vista, 系統, 還是, 有點, 卡, 。,  , 指紋,...  \n",
       "2     [不錯, ，, 在, 同等, 檔次, 酒店, 中應, 該, 是, 值得, 推薦, 的, ！]  \n",
       "3        [哎, ！,  , 不會, 是, 蒙牛, 乾, 的, 吧,  , 嚴懲, 真凶, ！]  \n",
       "4  [空, 尤其, 是, 三立, 電視, 臺, 女主播, 做, 的, 序, 尤其, 無趣, 像是...  "
      ]
     },
     "execution_count": 3,
     "metadata": {},
     "output_type": "execute_result"
    }
   ],
   "source": [
    "import jieba\n",
    "df['token_text'] = df['text'].apply(lambda x:list(jieba.cut(x)))\n",
    "df.head(5)"
   ]
  },
  {
   "cell_type": "markdown",
   "metadata": {},
   "source": [
    "# Log odds ratio "
   ]
  },
  {
   "cell_type": "markdown",
   "metadata": {},
   "source": [
    "$$\\text{log odds ratio} = \\ln{\\left(\\frac{\\left[\\frac{n+1}{\\text{total}+1}\\right]_\\text{Positive}}{\\left[\\frac{n+1}{\\text{total}+1}\\right]_\\text{Negative}}\\right)}$$"
   ]
  },
  {
   "cell_type": "code",
   "execution_count": 4,
   "metadata": {},
   "outputs": [
    {
     "data": {
      "text/html": [
       "<div>\n",
       "<style scoped>\n",
       "    .dataframe tbody tr th:only-of-type {\n",
       "        vertical-align: middle;\n",
       "    }\n",
       "\n",
       "    .dataframe tbody tr th {\n",
       "        vertical-align: top;\n",
       "    }\n",
       "\n",
       "    .dataframe thead th {\n",
       "        text-align: right;\n",
       "    }\n",
       "</style>\n",
       "<table border=\"1\" class=\"dataframe\">\n",
       "  <thead>\n",
       "    <tr style=\"text-align: right;\">\n",
       "      <th></th>\n",
       "      <th>TF_p</th>\n",
       "      <th>word</th>\n",
       "      <th>TF_n</th>\n",
       "    </tr>\n",
       "  </thead>\n",
       "  <tbody>\n",
       "    <tr>\n",
       "      <th>0</th>\n",
       "      <td>7</td>\n",
       "      <td>店家</td>\n",
       "      <td>1</td>\n",
       "    </tr>\n",
       "    <tr>\n",
       "      <th>1</th>\n",
       "      <td>18</td>\n",
       "      <td>快遞</td>\n",
       "      <td>9</td>\n",
       "    </tr>\n",
       "    <tr>\n",
       "      <th>2</th>\n",
       "      <td>10</td>\n",
       "      <td>第三次</td>\n",
       "      <td>1</td>\n",
       "    </tr>\n",
       "    <tr>\n",
       "      <th>3</th>\n",
       "      <td>855</td>\n",
       "      <td>不錯</td>\n",
       "      <td>52</td>\n",
       "    </tr>\n",
       "    <tr>\n",
       "      <th>4</th>\n",
       "      <td>7</td>\n",
       "      <td>同等</td>\n",
       "      <td>1</td>\n",
       "    </tr>\n",
       "  </tbody>\n",
       "</table>\n",
       "</div>"
      ],
      "text/plain": [
       "   TF_p word  TF_n\n",
       "0     7   店家     1\n",
       "1    18   快遞     9\n",
       "2    10  第三次     1\n",
       "3   855   不錯    52\n",
       "4     7   同等     1"
      ]
     },
     "execution_count": 4,
     "metadata": {},
     "output_type": "execute_result"
    }
   ],
   "source": [
    "df_p = df[df['tag']==\"P\"]\n",
    "df_n = df[df['tag']==\"N\"]\n",
    "\n",
    "def count(data):\n",
    "    term_dict = {}\n",
    "    for doc in data:\n",
    "        for term in doc:\n",
    "            if term not in term_dict:\n",
    "                term_dict[term] = 1\n",
    "            else:\n",
    "                term_dict[term] = term_dict[term] +1\n",
    "    return term_dict\n",
    "\n",
    "word_p = count(df_p['token_text'])\n",
    "word_p = pd.DataFrame(list(word_p.items()), columns=['word', 'TF_p'])\n",
    "\n",
    "word_n = count(df_n['token_text'])\n",
    "word_n = pd.DataFrame(list(word_n.items()), columns=['word', 'TF_n'])\n",
    "\n",
    "word_p['len'] = word_p['word'].apply(lambda x: len(x))\n",
    "word_n['len'] = word_n['word'].apply(lambda x: len(x))\n",
    "\n",
    "word_p = word_p[word_p.len>1]\n",
    "word_n = word_n[word_n.len>1]\n",
    "word_all = pd.merge(word_p[['TF_p','word']], word_n[['TF_n','word']], how='inner')\n",
    "word_all.head(5)"
   ]
  },
  {
   "cell_type": "code",
   "execution_count": 5,
   "metadata": {},
   "outputs": [
    {
     "data": {
      "text/html": [
       "<div>\n",
       "<style scoped>\n",
       "    .dataframe tbody tr th:only-of-type {\n",
       "        vertical-align: middle;\n",
       "    }\n",
       "\n",
       "    .dataframe tbody tr th {\n",
       "        vertical-align: top;\n",
       "    }\n",
       "\n",
       "    .dataframe thead th {\n",
       "        text-align: right;\n",
       "    }\n",
       "</style>\n",
       "<table border=\"1\" class=\"dataframe\">\n",
       "  <thead>\n",
       "    <tr style=\"text-align: right;\">\n",
       "      <th></th>\n",
       "      <th>TF_p</th>\n",
       "      <th>word</th>\n",
       "      <th>TF_n</th>\n",
       "      <th>positive</th>\n",
       "      <th>negative</th>\n",
       "      <th>log_ratio</th>\n",
       "      <th>type</th>\n",
       "    </tr>\n",
       "  </thead>\n",
       "  <tbody>\n",
       "    <tr>\n",
       "      <th>453</th>\n",
       "      <td>64</td>\n",
       "      <td>比高</td>\n",
       "      <td>1</td>\n",
       "      <td>0.002964</td>\n",
       "      <td>0.000046</td>\n",
       "      <td>4.175464</td>\n",
       "      <td>Positive</td>\n",
       "    </tr>\n",
       "    <tr>\n",
       "      <th>298</th>\n",
       "      <td>49</td>\n",
       "      <td>時尚</td>\n",
       "      <td>1</td>\n",
       "      <td>0.002269</td>\n",
       "      <td>0.000046</td>\n",
       "      <td>3.908401</td>\n",
       "      <td>Positive</td>\n",
       "    </tr>\n",
       "    <tr>\n",
       "      <th>372</th>\n",
       "      <td>29</td>\n",
       "      <td>光明</td>\n",
       "      <td>1</td>\n",
       "      <td>0.001343</td>\n",
       "      <td>0.000046</td>\n",
       "      <td>3.383877</td>\n",
       "      <td>Positive</td>\n",
       "    </tr>\n",
       "    <tr>\n",
       "      <th>103</th>\n",
       "      <td>29</td>\n",
       "      <td>感謝</td>\n",
       "      <td>1</td>\n",
       "      <td>0.001343</td>\n",
       "      <td>0.000046</td>\n",
       "      <td>3.383877</td>\n",
       "      <td>Positive</td>\n",
       "    </tr>\n",
       "    <tr>\n",
       "      <th>416</th>\n",
       "      <td>27</td>\n",
       "      <td>正品</td>\n",
       "      <td>1</td>\n",
       "      <td>0.001250</td>\n",
       "      <td>0.000046</td>\n",
       "      <td>3.312418</td>\n",
       "      <td>Positive</td>\n",
       "    </tr>\n",
       "    <tr>\n",
       "      <th>334</th>\n",
       "      <td>26</td>\n",
       "      <td>合適</td>\n",
       "      <td>1</td>\n",
       "      <td>0.001204</td>\n",
       "      <td>0.000046</td>\n",
       "      <td>3.274677</td>\n",
       "      <td>Positive</td>\n",
       "    </tr>\n",
       "    <tr>\n",
       "      <th>418</th>\n",
       "      <td>26</td>\n",
       "      <td>好吃</td>\n",
       "      <td>1</td>\n",
       "      <td>0.001204</td>\n",
       "      <td>0.000046</td>\n",
       "      <td>3.274677</td>\n",
       "      <td>Positive</td>\n",
       "    </tr>\n",
       "    <tr>\n",
       "      <th>800</th>\n",
       "      <td>25</td>\n",
       "      <td>挺快</td>\n",
       "      <td>1</td>\n",
       "      <td>0.001158</td>\n",
       "      <td>0.000046</td>\n",
       "      <td>3.235457</td>\n",
       "      <td>Positive</td>\n",
       "    </tr>\n",
       "    <tr>\n",
       "      <th>162</th>\n",
       "      <td>25</td>\n",
       "      <td>幸福</td>\n",
       "      <td>1</td>\n",
       "      <td>0.001158</td>\n",
       "      <td>0.000046</td>\n",
       "      <td>3.235457</td>\n",
       "      <td>Positive</td>\n",
       "    </tr>\n",
       "    <tr>\n",
       "      <th>411</th>\n",
       "      <td>123</td>\n",
       "      <td>漂亮</td>\n",
       "      <td>5</td>\n",
       "      <td>0.005697</td>\n",
       "      <td>0.000228</td>\n",
       "      <td>3.219327</td>\n",
       "      <td>Positive</td>\n",
       "    </tr>\n",
       "  </tbody>\n",
       "</table>\n",
       "</div>"
      ],
      "text/plain": [
       "     TF_p word  TF_n  positive  negative  log_ratio      type\n",
       "453    64   比高     1  0.002964  0.000046   4.175464  Positive\n",
       "298    49   時尚     1  0.002269  0.000046   3.908401  Positive\n",
       "372    29   光明     1  0.001343  0.000046   3.383877  Positive\n",
       "103    29   感謝     1  0.001343  0.000046   3.383877  Positive\n",
       "416    27   正品     1  0.001250  0.000046   3.312418  Positive\n",
       "334    26   合適     1  0.001204  0.000046   3.274677  Positive\n",
       "418    26   好吃     1  0.001204  0.000046   3.274677  Positive\n",
       "800    25   挺快     1  0.001158  0.000046   3.235457  Positive\n",
       "162    25   幸福     1  0.001158  0.000046   3.235457  Positive\n",
       "411   123   漂亮     5  0.005697  0.000228   3.219327  Positive"
      ]
     },
     "execution_count": 5,
     "metadata": {},
     "output_type": "execute_result"
    }
   ],
   "source": [
    "import numpy as np\n",
    "word_all['positive'] = word_all.TF_p/sum(word_all.TF_p)\n",
    "word_all['negative'] = word_all.TF_n/sum(word_all.TF_n)\n",
    "word_all['log_ratio'] = np.log(word_all['positive']/word_all['negative'])\n",
    "word_all['type'] = word_all['log_ratio'].apply(lambda x: 'Positive' if x>=0 else 'Negative')\n",
    "word_all = word_all.sort_values(by='log_ratio', ascending=False)\n",
    "most_p = word_all[:10]\n",
    "most_p"
   ]
  },
  {
   "cell_type": "code",
   "execution_count": 6,
   "metadata": {},
   "outputs": [
    {
     "data": {
      "text/html": [
       "<div>\n",
       "<style scoped>\n",
       "    .dataframe tbody tr th:only-of-type {\n",
       "        vertical-align: middle;\n",
       "    }\n",
       "\n",
       "    .dataframe tbody tr th {\n",
       "        vertical-align: top;\n",
       "    }\n",
       "\n",
       "    .dataframe thead th {\n",
       "        text-align: right;\n",
       "    }\n",
       "</style>\n",
       "<table border=\"1\" class=\"dataframe\">\n",
       "  <thead>\n",
       "    <tr style=\"text-align: right;\">\n",
       "      <th></th>\n",
       "      <th>TF_p</th>\n",
       "      <th>word</th>\n",
       "      <th>TF_n</th>\n",
       "      <th>positive</th>\n",
       "      <th>negative</th>\n",
       "      <th>log_ratio</th>\n",
       "      <th>type</th>\n",
       "    </tr>\n",
       "  </thead>\n",
       "  <tbody>\n",
       "    <tr>\n",
       "      <th>506</th>\n",
       "      <td>3</td>\n",
       "      <td>不如</td>\n",
       "      <td>51</td>\n",
       "      <td>0.000139</td>\n",
       "      <td>0.002323</td>\n",
       "      <td>-2.816632</td>\n",
       "      <td>Negative</td>\n",
       "    </tr>\n",
       "    <tr>\n",
       "      <th>1164</th>\n",
       "      <td>1</td>\n",
       "      <td>招待所</td>\n",
       "      <td>17</td>\n",
       "      <td>0.000046</td>\n",
       "      <td>0.000774</td>\n",
       "      <td>-2.816632</td>\n",
       "      <td>Negative</td>\n",
       "    </tr>\n",
       "    <tr>\n",
       "      <th>2052</th>\n",
       "      <td>1</td>\n",
       "      <td>太慢</td>\n",
       "      <td>17</td>\n",
       "      <td>0.000046</td>\n",
       "      <td>0.000774</td>\n",
       "      <td>-2.816632</td>\n",
       "      <td>Negative</td>\n",
       "    </tr>\n",
       "    <tr>\n",
       "      <th>738</th>\n",
       "      <td>2</td>\n",
       "      <td>再也</td>\n",
       "      <td>36</td>\n",
       "      <td>0.000093</td>\n",
       "      <td>0.001640</td>\n",
       "      <td>-2.873791</td>\n",
       "      <td>Negative</td>\n",
       "    </tr>\n",
       "    <tr>\n",
       "      <th>1364</th>\n",
       "      <td>2</td>\n",
       "      <td>太差</td>\n",
       "      <td>48</td>\n",
       "      <td>0.000093</td>\n",
       "      <td>0.002186</td>\n",
       "      <td>-3.161473</td>\n",
       "      <td>Negative</td>\n",
       "    </tr>\n",
       "    <tr>\n",
       "      <th>1883</th>\n",
       "      <td>2</td>\n",
       "      <td>垃圾</td>\n",
       "      <td>63</td>\n",
       "      <td>0.000093</td>\n",
       "      <td>0.002870</td>\n",
       "      <td>-3.433407</td>\n",
       "      <td>Negative</td>\n",
       "    </tr>\n",
       "    <tr>\n",
       "      <th>1860</th>\n",
       "      <td>4</td>\n",
       "      <td>抵制</td>\n",
       "      <td>134</td>\n",
       "      <td>0.000185</td>\n",
       "      <td>0.006104</td>\n",
       "      <td>-3.494965</td>\n",
       "      <td>Negative</td>\n",
       "    </tr>\n",
       "    <tr>\n",
       "      <th>1972</th>\n",
       "      <td>1</td>\n",
       "      <td>不了</td>\n",
       "      <td>36</td>\n",
       "      <td>0.000046</td>\n",
       "      <td>0.001640</td>\n",
       "      <td>-3.566938</td>\n",
       "      <td>Negative</td>\n",
       "    </tr>\n",
       "    <tr>\n",
       "      <th>2370</th>\n",
       "      <td>1</td>\n",
       "      <td>根本</td>\n",
       "      <td>39</td>\n",
       "      <td>0.000046</td>\n",
       "      <td>0.001777</td>\n",
       "      <td>-3.646981</td>\n",
       "      <td>Negative</td>\n",
       "    </tr>\n",
       "    <tr>\n",
       "      <th>1795</th>\n",
       "      <td>2</td>\n",
       "      <td>內容</td>\n",
       "      <td>116</td>\n",
       "      <td>0.000093</td>\n",
       "      <td>0.005284</td>\n",
       "      <td>-4.043862</td>\n",
       "      <td>Negative</td>\n",
       "    </tr>\n",
       "  </tbody>\n",
       "</table>\n",
       "</div>"
      ],
      "text/plain": [
       "      TF_p word  TF_n  positive  negative  log_ratio      type\n",
       "506      3   不如    51  0.000139  0.002323  -2.816632  Negative\n",
       "1164     1  招待所    17  0.000046  0.000774  -2.816632  Negative\n",
       "2052     1   太慢    17  0.000046  0.000774  -2.816632  Negative\n",
       "738      2   再也    36  0.000093  0.001640  -2.873791  Negative\n",
       "1364     2   太差    48  0.000093  0.002186  -3.161473  Negative\n",
       "1883     2   垃圾    63  0.000093  0.002870  -3.433407  Negative\n",
       "1860     4   抵制   134  0.000185  0.006104  -3.494965  Negative\n",
       "1972     1   不了    36  0.000046  0.001640  -3.566938  Negative\n",
       "2370     1   根本    39  0.000046  0.001777  -3.646981  Negative\n",
       "1795     2   內容   116  0.000093  0.005284  -4.043862  Negative"
      ]
     },
     "execution_count": 6,
     "metadata": {},
     "output_type": "execute_result"
    }
   ],
   "source": [
    "most_n = word_all[-10:]\n",
    "most_n"
   ]
  },
  {
   "cell_type": "markdown",
   "metadata": {},
   "source": [
    "[Matplotlib中文顯示問題](https://medium.com/marketingdatascience/%E8%A7%A3%E6%B1%BApython-3-matplotlib%E8%88%87seaborn%E8%A6%96%E8%A6%BA%E5%8C%96%E5%A5%97%E4%BB%B6%E4%B8%AD%E6%96%87%E9%A1%AF%E7%A4%BA%E5%95%8F%E9%A1%8C-f7b3773a889b)"
   ]
  },
  {
   "cell_type": "code",
   "execution_count": 8,
   "metadata": {},
   "outputs": [
    {
     "data": {
      "image/png": "[encoded data removed]",
      "text/plain": [
       "<Figure size 576x432 with 1 Axes>"
      ]
     },
     "metadata": {},
     "output_type": "display_data"
    }
   ],
   "source": [
    "import matplotlib.pyplot as plt\n",
    "plt.figure(figsize=(8, 6)) \n",
    "plt.rcParams.update({'font.size': 12})\n",
    "\n",
    "plt.barh(most_p['word'],most_p['log_ratio'], label=\"Positive\")\n",
    "plt.barh(most_n['word'],most_n['log_ratio'], label=\"Nagative\")\n",
    "plt.legend()\n",
    "plt.show()"
   ]
  },
  {
   "cell_type": "markdown",
   "metadata": {},
   "source": [
    "## Word2Vec "
   ]
  },
  {
   "cell_type": "markdown",
   "metadata": {},
   "source": [
    "<b>sg=1:skip-gram, sg=0:cbow</b>"
   ]
  },
  {
   "cell_type": "code",
   "execution_count": 9,
   "metadata": {},
   "outputs": [],
   "source": [
    "from gensim.models import Word2Vec\n",
    "model = Word2Vec(df['token_text'], min_count=1, size=300, window=5, sg=1, workers=2)"
   ]
  },
  {
   "cell_type": "code",
   "execution_count": 10,
   "metadata": {},
   "outputs": [
    {
     "name": "stdout",
     "output_type": "stream",
     "text": [
      "300\n",
      "[('光明', 0.9960816502571106), ('香蕉', 0.9904806613922119), ('純', 0.9894379377365112), ('哎', 0.9892876744270325), ('愛', 0.9889395236968994), ('好喝', 0.9882735013961792), ('死', 0.9856466054916382), ('奶', 0.9845889806747437), ('今天', 0.9836926460266113), ('幸福', 0.9831520318984985)]\n"
     ]
    },
    {
     "name": "stderr",
     "output_type": "stream",
     "text": [
      "/anaconda3/lib/python3.6/site-packages/ipykernel_launcher.py:1: DeprecationWarning: Call to deprecated `__getitem__` (Method will be removed in 4.0.0, use self.wv.__getitem__() instead).\n",
      "  \"\"\"Entry point for launching an IPython kernel.\n",
      "/anaconda3/lib/python3.6/site-packages/ipykernel_launcher.py:2: DeprecationWarning: Call to deprecated `most_similar` (Method will be removed in 4.0.0, use self.wv.most_similar() instead).\n",
      "  \n"
     ]
    }
   ],
   "source": [
    "print(len(model['好吃']))\n",
    "print(model.most_similar('好吃'))"
   ]
  },
  {
   "cell_type": "markdown",
   "metadata": {},
   "source": [
    "### Load pre-trained embedding model"
   ]
  },
  {
   "cell_type": "code",
   "execution_count": 12,
   "metadata": {},
   "outputs": [
    {
     "name": "stdout",
     "output_type": "stream",
     "text": [
      "300\n",
      "[('美味', 0.726396918296814), ('好喝', 0.7173787355422974), ('可口', 0.6769967675209045), ('吃起來', 0.6553618311882019), ('對味', 0.6405134797096252), ('夠味', 0.6377977132797241), ('難吃', 0.6371718049049377), ('涮嘴', 0.6310038566589355), ('超美味', 0.6008162498474121), ('吃', 0.5944895148277283)]\n"
     ]
    }
   ],
   "source": [
    "from gensim.models import KeyedVectors\n",
    "model = KeyedVectors.load_word2vec_format(\"../data/CBOW_iter15_2017-2018.bin\", binary = True)\n",
    "print(len(model['好吃']))\n",
    "print(model.most_similar('好吃'))"
   ]
  },
  {
   "cell_type": "markdown",
   "metadata": {},
   "source": [
    "### Visualize "
   ]
  },
  {
   "cell_type": "markdown",
   "metadata": {},
   "source": [
    "![Alt text](https://adriancolyer.files.wordpress.com/2016/04/word2vec-king-queen-vectors.png?w=600)"
   ]
  },
  {
   "cell_type": "code",
   "execution_count": 13,
   "metadata": {},
   "outputs": [
    {
     "name": "stdout",
     "output_type": "stream",
     "text": [
      "[ -6.1520131 -11.0369106]\n"
     ]
    }
   ],
   "source": [
    "from sklearn.decomposition import PCA\n",
    "\n",
    "labels = []\n",
    "tokens = []\n",
    "\n",
    "for word in model.vocab:\n",
    "    tokens.append(model[word])\n",
    "    labels.append(word)\n",
    "\n",
    "X_reduced = PCA(n_components=2).fit_transform(tokens)\n",
    "print(X_reduced[0])"
   ]
  },
  {
   "cell_type": "code",
   "execution_count": 14,
   "metadata": {},
   "outputs": [
    {
     "data": {
      "image/png": "[encoded data removed]",
      "text/plain": [
       "<Figure size 432x288 with 1 Axes>"
      ]
     },
     "metadata": {},
     "output_type": "display_data"
    }
   ],
   "source": [
    "tsne_output = []\n",
    "words = ['爸爸','媽媽','先生','小姐','哥哥','姐姐']\n",
    "\n",
    "for w in words:\n",
    "    index = labels.index(w)\n",
    "    tsne_output.append(X_reduced[index])\n",
    "\n",
    "x = []\n",
    "y = []\n",
    "for value in tsne_output:\n",
    "    x.append(value[0])\n",
    "    y.append(value[1])\n",
    "\n",
    "for i in range(0, len(x), 2):\n",
    "    plt.plot(x[i:i+2], y[i:i+2], 'r--',color = \"grey\")\n",
    "\n",
    "for i in range(len(x)):\n",
    "    plt.annotate(words[i],xy=(x[i], y[i]))\n",
    "\n",
    "plt.ylim(-10, 10)\n",
    "plt.xlim(-20, 0)\n",
    "plt.show()"
   ]
  },
  {
   "cell_type": "code",
   "execution_count": 15,
   "metadata": {},
   "outputs": [
    {
     "data": {
      "image/png": "[encoded data removed]",
      "text/plain": [
       "<Figure size 936x504 with 1 Axes>"
      ]
     },
     "metadata": {},
     "output_type": "display_data"
    }
   ],
   "source": [
    "plt.figure(figsize=(13, 7)) \n",
    "plt.rcParams.update({'font.size': 16})\n",
    "\n",
    "def w2vec_plot(word,color):\n",
    "    text = [x[0] for x in model.most_similar(word)]\n",
    "    text.append(word)\n",
    "    tsne_output = []\n",
    "    for w in text:\n",
    "        index = labels.index(w)\n",
    "        tsne_output.append(X_reduced[index])\n",
    "    for i in range(len(text)):\n",
    "        plt.scatter(tsne_output[i][0], tsne_output[i][1], color=color)\n",
    "        plt.annotate(text[i], xy=(tsne_output[i][0], tsne_output[i][1]))\n",
    "\n",
    "w2vec_plot('python','red')\n",
    "w2vec_plot('管中閔','blue')\n",
    "w2vec_plot('聖誕節','yellow')"
   ]
  },
  {
   "cell_type": "code",
   "execution_count": 16,
   "metadata": {},
   "outputs": [
    {
     "data": {
      "text/html": [
       "<div>\n",
       "<style scoped>\n",
       "    .dataframe tbody tr th:only-of-type {\n",
       "        vertical-align: middle;\n",
       "    }\n",
       "\n",
       "    .dataframe tbody tr th {\n",
       "        vertical-align: top;\n",
       "    }\n",
       "\n",
       "    .dataframe thead th {\n",
       "        text-align: right;\n",
       "    }\n",
       "</style>\n",
       "<table border=\"1\" class=\"dataframe\">\n",
       "  <thead>\n",
       "    <tr style=\"text-align: right;\">\n",
       "      <th></th>\n",
       "      <th>tag</th>\n",
       "      <th>text</th>\n",
       "      <th>token_text</th>\n",
       "      <th>doc_vec</th>\n",
       "    </tr>\n",
       "  </thead>\n",
       "  <tbody>\n",
       "    <tr>\n",
       "      <th>0</th>\n",
       "      <td>P</td>\n",
       "      <td>店家很給力，快遞也是相當快，第三次光顧啦</td>\n",
       "      <td>[店家, 很, 給力, ，, 快遞, 也, 是, 相當快, ，, 第三次, 光顧, 啦]</td>\n",
       "      <td>[-0.13636722415685654, -0.1987149938941002, -0...</td>\n",
       "    </tr>\n",
       "    <tr>\n",
       "      <th>1</th>\n",
       "      <td>N</td>\n",
       "      <td>這樣的配置用Vista系統還是有點卡。 指紋收集器。 沒送原裝滑鼠還需要自己買，不太好。</td>\n",
       "      <td>[這樣, 的, 配置, 用, Vista, 系統, 還是, 有點, 卡, 。,  , 指紋,...</td>\n",
       "      <td>[0.4003312134742737, -0.19052192769944667, 0.3...</td>\n",
       "    </tr>\n",
       "    <tr>\n",
       "      <th>2</th>\n",
       "      <td>P</td>\n",
       "      <td>不錯，在同等檔次酒店中應該是值得推薦的！</td>\n",
       "      <td>[不錯, ，, 在, 同等, 檔次, 酒店, 中應, 該, 是, 值得, 推薦, 的, ！]</td>\n",
       "      <td>[-0.0580126393872958, -3.047916441009595, 0.11...</td>\n",
       "    </tr>\n",
       "    <tr>\n",
       "      <th>3</th>\n",
       "      <td>N</td>\n",
       "      <td>哎！ 不會是蒙牛乾的吧 嚴懲真凶！</td>\n",
       "      <td>[哎, ！,  , 不會, 是, 蒙牛, 乾, 的, 吧,  , 嚴懲, 真凶, ！]</td>\n",
       "      <td>[-0.40312377306131214, 0.23361539869354322, 0....</td>\n",
       "    </tr>\n",
       "    <tr>\n",
       "      <th>4</th>\n",
       "      <td>N</td>\n",
       "      <td>空尤其是三立電視臺女主播做的序尤其無趣像是硬湊那麼多字</td>\n",
       "      <td>[空, 尤其, 是, 三立, 電視, 臺, 女主播, 做, 的, 序, 尤其, 無趣, 像是...</td>\n",
       "      <td>[-0.07393615035449758, -1.5223093111725414, -1...</td>\n",
       "    </tr>\n",
       "  </tbody>\n",
       "</table>\n",
       "</div>"
      ],
      "text/plain": [
       "  tag                                          text  \\\n",
       "0   P                          店家很給力，快遞也是相當快，第三次光顧啦   \n",
       "1   N  這樣的配置用Vista系統還是有點卡。 指紋收集器。 沒送原裝滑鼠還需要自己買，不太好。   \n",
       "2   P                          不錯，在同等檔次酒店中應該是值得推薦的！   \n",
       "3   N                             哎！ 不會是蒙牛乾的吧 嚴懲真凶！   \n",
       "4   N                   空尤其是三立電視臺女主播做的序尤其無趣像是硬湊那麼多字   \n",
       "\n",
       "                                          token_text  \\\n",
       "0       [店家, 很, 給力, ，, 快遞, 也, 是, 相當快, ，, 第三次, 光顧, 啦]   \n",
       "1  [這樣, 的, 配置, 用, Vista, 系統, 還是, 有點, 卡, 。,  , 指紋,...   \n",
       "2     [不錯, ，, 在, 同等, 檔次, 酒店, 中應, 該, 是, 值得, 推薦, 的, ！]   \n",
       "3        [哎, ！,  , 不會, 是, 蒙牛, 乾, 的, 吧,  , 嚴懲, 真凶, ！]   \n",
       "4  [空, 尤其, 是, 三立, 電視, 臺, 女主播, 做, 的, 序, 尤其, 無趣, 像是...   \n",
       "\n",
       "                                             doc_vec  \n",
       "0  [-0.13636722415685654, -0.1987149938941002, -0...  \n",
       "1  [0.4003312134742737, -0.19052192769944667, 0.3...  \n",
       "2  [-0.0580126393872958, -3.047916441009595, 0.11...  \n",
       "3  [-0.40312377306131214, 0.23361539869354322, 0....  \n",
       "4  [-0.07393615035449758, -1.5223093111725414, -1...  "
      ]
     },
     "execution_count": 16,
     "metadata": {},
     "output_type": "execute_result"
    }
   ],
   "source": [
    "def avg_w2v_vector(text_list):\n",
    "    sum_vec = sum([model[word] if word in model else np.zeros(300) for word in text_list])\n",
    "    result = sum_vec/len(text_list)  \n",
    "    return result\n",
    "\n",
    "df['doc_vec'] = df['token_text'].apply(lambda x: avg_w2v_vector(x))\n",
    "df.head(5)"
   ]
  },
  {
   "cell_type": "markdown",
   "metadata": {},
   "source": [
    "## Model"
   ]
  },
  {
   "cell_type": "markdown",
   "metadata": {},
   "source": [
    "### train/test split "
   ]
  },
  {
   "cell_type": "code",
   "execution_count": 17,
   "metadata": {},
   "outputs": [
    {
     "name": "stdout",
     "output_type": "stream",
     "text": [
      "5110\n",
      "1278\n"
     ]
    },
    {
     "name": "stderr",
     "output_type": "stream",
     "text": [
      "/anaconda3/lib/python3.6/site-packages/sklearn/cross_validation.py:41: DeprecationWarning: This module was deprecated in version 0.18 in favor of the model_selection module into which all the refactored classes and functions are moved. Also note that the interface of the new CV iterators are different from that of this module. This module will be removed in 0.20.\n",
      "  \"This module will be removed in 0.20.\", DeprecationWarning)\n"
     ]
    }
   ],
   "source": [
    "from sklearn.cross_validation import train_test_split\n",
    "train, test = train_test_split(df, test_size = 0.2, random_state = 123)\n",
    "print(len(train))\n",
    "print(len(test))"
   ]
  },
  {
   "cell_type": "markdown",
   "metadata": {},
   "source": [
    "### train "
   ]
  },
  {
   "cell_type": "code",
   "execution_count": 18,
   "metadata": {},
   "outputs": [
    {
     "data": {
      "text/plain": [
       "SVC(C=1.0, cache_size=200, class_weight=None, coef0=0.0,\n",
       "  decision_function_shape='ovr', degree=3, gamma='auto', kernel='rbf',\n",
       "  max_iter=-1, probability=False, random_state=None, shrinking=True,\n",
       "  tol=0.001, verbose=False)"
      ]
     },
     "execution_count": 18,
     "metadata": {},
     "output_type": "execute_result"
    }
   ],
   "source": [
    "from sklearn.svm import SVC\n",
    "svm_model = SVC()\n",
    "svm_model.fit(list(train['doc_vec']), train['tag'])"
   ]
  },
  {
   "cell_type": "markdown",
   "metadata": {},
   "source": [
    "### test "
   ]
  },
  {
   "cell_type": "code",
   "execution_count": 19,
   "metadata": {},
   "outputs": [
    {
     "name": "stdout",
     "output_type": "stream",
     "text": [
      "['N' 'P' 'P' ... 'P' 'N' 'P']\n"
     ]
    }
   ],
   "source": [
    "result = svm_model.predict(list(test['doc_vec']))\n",
    "print(result)"
   ]
  },
  {
   "cell_type": "code",
   "execution_count": 20,
   "metadata": {},
   "outputs": [
    {
     "name": "stderr",
     "output_type": "stream",
     "text": [
      "/anaconda3/lib/python3.6/site-packages/ipykernel_launcher.py:1: SettingWithCopyWarning: \n",
      "A value is trying to be set on a copy of a slice from a DataFrame.\n",
      "Try using .loc[row_indexer,col_indexer] = value instead\n",
      "\n",
      "See the caveats in the documentation: http://pandas.pydata.org/pandas-docs/stable/indexing.html#indexing-view-versus-copy\n",
      "  \"\"\"Entry point for launching an IPython kernel.\n"
     ]
    },
    {
     "data": {
      "text/html": [
       "<div>\n",
       "<style scoped>\n",
       "    .dataframe tbody tr th:only-of-type {\n",
       "        vertical-align: middle;\n",
       "    }\n",
       "\n",
       "    .dataframe tbody tr th {\n",
       "        vertical-align: top;\n",
       "    }\n",
       "\n",
       "    .dataframe thead th {\n",
       "        text-align: right;\n",
       "    }\n",
       "</style>\n",
       "<table border=\"1\" class=\"dataframe\">\n",
       "  <thead>\n",
       "    <tr style=\"text-align: right;\">\n",
       "      <th></th>\n",
       "      <th>tag</th>\n",
       "      <th>text</th>\n",
       "      <th>token_text</th>\n",
       "      <th>doc_vec</th>\n",
       "      <th>predict_svm</th>\n",
       "    </tr>\n",
       "  </thead>\n",
       "  <tbody>\n",
       "    <tr>\n",
       "      <th>2019</th>\n",
       "      <td>N</td>\n",
       "      <td>好，物流也快，就是安裝費花了200，有點貴。</td>\n",
       "      <td>[好, ，, 物流, 也, 快, ，, 就是, 安裝費花, 了, 200, ，, 有點, 貴...</td>\n",
       "      <td>[1.184736122643309, -0.5257228527750287, -0.14...</td>\n",
       "      <td>N</td>\n",
       "    </tr>\n",
       "    <tr>\n",
       "      <th>2881</th>\n",
       "      <td>P</td>\n",
       "      <td>質感，輕巧。外觀時尚，價格合理</td>\n",
       "      <td>[質感, ，, 輕巧, 。, 外觀, 時尚, ，, 價格, 合理]</td>\n",
       "      <td>[1.5225927631060283, 1.0276670902967453, -1.18...</td>\n",
       "      <td>P</td>\n",
       "    </tr>\n",
       "    <tr>\n",
       "      <th>4037</th>\n",
       "      <td>P</td>\n",
       "      <td>很滿意，全5分</td>\n",
       "      <td>[很, 滿意, ，, 全, 5, 分]</td>\n",
       "      <td>[2.388674815495809, -1.9856864288449287, 1.092...</td>\n",
       "      <td>P</td>\n",
       "    </tr>\n",
       "    <tr>\n",
       "      <th>222</th>\n",
       "      <td>P</td>\n",
       "      <td>金屬外殼，看起比較上檔次。攜帶方便，大一點的包都裝的下。還有正版系統盤，馬上感到放心多了。</td>\n",
       "      <td>[金屬, 外殼, ，, 看起, 比, 較, 上, 檔次, 。, 攜帶, 方便, ，, 大一點...</td>\n",
       "      <td>[0.9405831903989973, -0.2657707593692788, 0.43...</td>\n",
       "      <td>P</td>\n",
       "    </tr>\n",
       "    <tr>\n",
       "      <th>1479</th>\n",
       "      <td>P</td>\n",
       "      <td>優點大家說得都差不多了.對於支援國產品牌來說,聯想真的是個不錯的選擇.</td>\n",
       "      <td>[優點, 大家, 說, 得, 都, 差不多, 了, ., 對, 於, 支援, 國產, 品牌,...</td>\n",
       "      <td>[-0.49978763548036415, -0.41773459625740844, -...</td>\n",
       "      <td>P</td>\n",
       "    </tr>\n",
       "  </tbody>\n",
       "</table>\n",
       "</div>"
      ],
      "text/plain": [
       "     tag                                           text  \\\n",
       "2019   N                         好，物流也快，就是安裝費花了200，有點貴。   \n",
       "2881   P                                質感，輕巧。外觀時尚，價格合理   \n",
       "4037   P                                        很滿意，全5分   \n",
       "222    P  金屬外殼，看起比較上檔次。攜帶方便，大一點的包都裝的下。還有正版系統盤，馬上感到放心多了。   \n",
       "1479   P            優點大家說得都差不多了.對於支援國產品牌來說,聯想真的是個不錯的選擇.   \n",
       "\n",
       "                                             token_text  \\\n",
       "2019  [好, ，, 物流, 也, 快, ，, 就是, 安裝費花, 了, 200, ，, 有點, 貴...   \n",
       "2881                  [質感, ，, 輕巧, 。, 外觀, 時尚, ，, 價格, 合理]   \n",
       "4037                                [很, 滿意, ，, 全, 5, 分]   \n",
       "222   [金屬, 外殼, ，, 看起, 比, 較, 上, 檔次, 。, 攜帶, 方便, ，, 大一點...   \n",
       "1479  [優點, 大家, 說, 得, 都, 差不多, 了, ., 對, 於, 支援, 國產, 品牌,...   \n",
       "\n",
       "                                                doc_vec predict_svm  \n",
       "2019  [1.184736122643309, -0.5257228527750287, -0.14...           N  \n",
       "2881  [1.5225927631060283, 1.0276670902967453, -1.18...           P  \n",
       "4037  [2.388674815495809, -1.9856864288449287, 1.092...           P  \n",
       "222   [0.9405831903989973, -0.2657707593692788, 0.43...           P  \n",
       "1479  [-0.49978763548036415, -0.41773459625740844, -...           P  "
      ]
     },
     "execution_count": 20,
     "metadata": {},
     "output_type": "execute_result"
    }
   ],
   "source": [
    "test['predict_svm'] = result\n",
    "test.head(5)"
   ]
  },
  {
   "cell_type": "markdown",
   "metadata": {},
   "source": [
    "### accuracy "
   ]
  },
  {
   "cell_type": "code",
   "execution_count": 21,
   "metadata": {
    "scrolled": true
   },
   "outputs": [
    {
     "name": "stdout",
     "output_type": "stream",
     "text": [
      "0.8755868544600939\n"
     ]
    }
   ],
   "source": [
    "print(sum(test['tag']==test['predict_svm'])/len(test))"
   ]
  },
  {
   "cell_type": "markdown",
   "metadata": {},
   "source": [
    "### confusion matrix "
   ]
  },
  {
   "cell_type": "code",
   "execution_count": 22,
   "metadata": {},
   "outputs": [
    {
     "name": "stdout",
     "output_type": "stream",
     "text": [
      "[[534  88]\n",
      " [ 71 585]]\n"
     ]
    },
    {
     "data": {
      "text/html": [
       "<div>\n",
       "<style scoped>\n",
       "    .dataframe tbody tr th:only-of-type {\n",
       "        vertical-align: middle;\n",
       "    }\n",
       "\n",
       "    .dataframe tbody tr th {\n",
       "        vertical-align: top;\n",
       "    }\n",
       "\n",
       "    .dataframe thead th {\n",
       "        text-align: right;\n",
       "    }\n",
       "</style>\n",
       "<table border=\"1\" class=\"dataframe\">\n",
       "  <thead>\n",
       "    <tr style=\"text-align: right;\">\n",
       "      <th></th>\n",
       "      <th>pred(P)</th>\n",
       "      <th>pred(N)</th>\n",
       "    </tr>\n",
       "  </thead>\n",
       "  <tbody>\n",
       "    <tr>\n",
       "      <th>true(P)</th>\n",
       "      <td>534</td>\n",
       "      <td>88</td>\n",
       "    </tr>\n",
       "    <tr>\n",
       "      <th>true(N)</th>\n",
       "      <td>71</td>\n",
       "      <td>585</td>\n",
       "    </tr>\n",
       "  </tbody>\n",
       "</table>\n",
       "</div>"
      ],
      "text/plain": [
       "         pred(P)  pred(N)\n",
       "true(P)      534       88\n",
       "true(N)       71      585"
      ]
     },
     "execution_count": 22,
     "metadata": {},
     "output_type": "execute_result"
    }
   ],
   "source": [
    "from sklearn.metrics import confusion_matrix\n",
    "conf = confusion_matrix(test['tag'],test['predict_svm'],labels=['P', 'N'])\n",
    "print(conf)\n",
    "pd.DataFrame(conf, index=['true(P)', 'true(N)'], columns=['pred(P)', 'pred(N)'])"
   ]
  },
  {
   "cell_type": "code",
   "execution_count": 23,
   "metadata": {},
   "outputs": [
    {
     "data": {
      "text/plain": [
       "LogisticRegression(C=1.0, class_weight=None, dual=False, fit_intercept=True,\n",
       "          intercept_scaling=1, max_iter=100, multi_class='ovr', n_jobs=1,\n",
       "          penalty='l2', random_state=None, solver='liblinear', tol=0.0001,\n",
       "          verbose=0, warm_start=False)"
      ]
     },
     "execution_count": 23,
     "metadata": {},
     "output_type": "execute_result"
    }
   ],
   "source": [
    "from sklearn.linear_model import LogisticRegression\n",
    "logreg = LogisticRegression()\n",
    "logreg.fit(list(train['doc_vec']), train['tag'])"
   ]
  },
  {
   "cell_type": "code",
   "execution_count": 24,
   "metadata": {},
   "outputs": [
    {
     "name": "stderr",
     "output_type": "stream",
     "text": [
      "/anaconda3/lib/python3.6/site-packages/ipykernel_launcher.py:2: SettingWithCopyWarning: \n",
      "A value is trying to be set on a copy of a slice from a DataFrame.\n",
      "Try using .loc[row_indexer,col_indexer] = value instead\n",
      "\n",
      "See the caveats in the documentation: http://pandas.pydata.org/pandas-docs/stable/indexing.html#indexing-view-versus-copy\n",
      "  \n"
     ]
    },
    {
     "data": {
      "text/html": [
       "<div>\n",
       "<style scoped>\n",
       "    .dataframe tbody tr th:only-of-type {\n",
       "        vertical-align: middle;\n",
       "    }\n",
       "\n",
       "    .dataframe tbody tr th {\n",
       "        vertical-align: top;\n",
       "    }\n",
       "\n",
       "    .dataframe thead th {\n",
       "        text-align: right;\n",
       "    }\n",
       "</style>\n",
       "<table border=\"1\" class=\"dataframe\">\n",
       "  <thead>\n",
       "    <tr style=\"text-align: right;\">\n",
       "      <th></th>\n",
       "      <th>tag</th>\n",
       "      <th>text</th>\n",
       "      <th>token_text</th>\n",
       "      <th>doc_vec</th>\n",
       "      <th>predict_svm</th>\n",
       "      <th>predict_log</th>\n",
       "    </tr>\n",
       "  </thead>\n",
       "  <tbody>\n",
       "    <tr>\n",
       "      <th>2019</th>\n",
       "      <td>N</td>\n",
       "      <td>好，物流也快，就是安裝費花了200，有點貴。</td>\n",
       "      <td>[好, ，, 物流, 也, 快, ，, 就是, 安裝費花, 了, 200, ，, 有點, 貴...</td>\n",
       "      <td>[1.184736122643309, -0.5257228527750287, -0.14...</td>\n",
       "      <td>N</td>\n",
       "      <td>N</td>\n",
       "    </tr>\n",
       "    <tr>\n",
       "      <th>2881</th>\n",
       "      <td>P</td>\n",
       "      <td>質感，輕巧。外觀時尚，價格合理</td>\n",
       "      <td>[質感, ，, 輕巧, 。, 外觀, 時尚, ，, 價格, 合理]</td>\n",
       "      <td>[1.5225927631060283, 1.0276670902967453, -1.18...</td>\n",
       "      <td>P</td>\n",
       "      <td>P</td>\n",
       "    </tr>\n",
       "    <tr>\n",
       "      <th>4037</th>\n",
       "      <td>P</td>\n",
       "      <td>很滿意，全5分</td>\n",
       "      <td>[很, 滿意, ，, 全, 5, 分]</td>\n",
       "      <td>[2.388674815495809, -1.9856864288449287, 1.092...</td>\n",
       "      <td>P</td>\n",
       "      <td>P</td>\n",
       "    </tr>\n",
       "    <tr>\n",
       "      <th>222</th>\n",
       "      <td>P</td>\n",
       "      <td>金屬外殼，看起比較上檔次。攜帶方便，大一點的包都裝的下。還有正版系統盤，馬上感到放心多了。</td>\n",
       "      <td>[金屬, 外殼, ，, 看起, 比, 較, 上, 檔次, 。, 攜帶, 方便, ，, 大一點...</td>\n",
       "      <td>[0.9405831903989973, -0.2657707593692788, 0.43...</td>\n",
       "      <td>P</td>\n",
       "      <td>P</td>\n",
       "    </tr>\n",
       "    <tr>\n",
       "      <th>1479</th>\n",
       "      <td>P</td>\n",
       "      <td>優點大家說得都差不多了.對於支援國產品牌來說,聯想真的是個不錯的選擇.</td>\n",
       "      <td>[優點, 大家, 說, 得, 都, 差不多, 了, ., 對, 於, 支援, 國產, 品牌,...</td>\n",
       "      <td>[-0.49978763548036415, -0.41773459625740844, -...</td>\n",
       "      <td>P</td>\n",
       "      <td>P</td>\n",
       "    </tr>\n",
       "  </tbody>\n",
       "</table>\n",
       "</div>"
      ],
      "text/plain": [
       "     tag                                           text  \\\n",
       "2019   N                         好，物流也快，就是安裝費花了200，有點貴。   \n",
       "2881   P                                質感，輕巧。外觀時尚，價格合理   \n",
       "4037   P                                        很滿意，全5分   \n",
       "222    P  金屬外殼，看起比較上檔次。攜帶方便，大一點的包都裝的下。還有正版系統盤，馬上感到放心多了。   \n",
       "1479   P            優點大家說得都差不多了.對於支援國產品牌來說,聯想真的是個不錯的選擇.   \n",
       "\n",
       "                                             token_text  \\\n",
       "2019  [好, ，, 物流, 也, 快, ，, 就是, 安裝費花, 了, 200, ，, 有點, 貴...   \n",
       "2881                  [質感, ，, 輕巧, 。, 外觀, 時尚, ，, 價格, 合理]   \n",
       "4037                                [很, 滿意, ，, 全, 5, 分]   \n",
       "222   [金屬, 外殼, ，, 看起, 比, 較, 上, 檔次, 。, 攜帶, 方便, ，, 大一點...   \n",
       "1479  [優點, 大家, 說, 得, 都, 差不多, 了, ., 對, 於, 支援, 國產, 品牌,...   \n",
       "\n",
       "                                                doc_vec predict_svm  \\\n",
       "2019  [1.184736122643309, -0.5257228527750287, -0.14...           N   \n",
       "2881  [1.5225927631060283, 1.0276670902967453, -1.18...           P   \n",
       "4037  [2.388674815495809, -1.9856864288449287, 1.092...           P   \n",
       "222   [0.9405831903989973, -0.2657707593692788, 0.43...           P   \n",
       "1479  [-0.49978763548036415, -0.41773459625740844, -...           P   \n",
       "\n",
       "     predict_log  \n",
       "2019           N  \n",
       "2881           P  \n",
       "4037           P  \n",
       "222            P  \n",
       "1479           P  "
      ]
     },
     "execution_count": 24,
     "metadata": {},
     "output_type": "execute_result"
    }
   ],
   "source": [
    "result = logreg.predict(list(test['doc_vec']))\n",
    "test['predict_log'] = result\n",
    "test.head(5)"
   ]
  },
  {
   "cell_type": "code",
   "execution_count": 25,
   "metadata": {},
   "outputs": [
    {
     "name": "stdout",
     "output_type": "stream",
     "text": [
      "0.8552425665101722\n"
     ]
    }
   ],
   "source": [
    "print(sum(test['tag']==test['predict_log'])/len(test))"
   ]
  },
  {
   "cell_type": "markdown",
   "metadata": {},
   "source": [
    "## Demo "
   ]
  },
  {
   "cell_type": "code",
   "execution_count": 26,
   "metadata": {},
   "outputs": [
    {
     "name": "stdout",
     "output_type": "stream",
     "text": [
      "['這家', '餐廳', '不', '好吃']\n",
      "['N']\n"
     ]
    }
   ],
   "source": [
    "text = '這家餐廳不好吃'\n",
    "text = list(jieba.cut(text))\n",
    "print(text)\n",
    "vec = sum([model[word] if word in model else np.zeros(300) for word in text])\n",
    "result = logreg.predict(np.reshape(vec,(1,300)))\n",
    "print(result)"
   ]
  },
  {
   "cell_type": "code",
   "execution_count": null,
   "metadata": {},
   "outputs": [],
   "source": []
  }
 ],
 "metadata": {
  "kernelspec": {
   "display_name": "Python 3",
   "language": "python",
   "name": "python3"
  },
  "language_info": {
   "codemirror_mode": {
    "name": "ipython",
    "version": 3
   },
   "file_extension": ".py",
   "mimetype": "text/x-python",
   "name": "python",
   "nbconvert_exporter": "python",
   "pygments_lexer": "ipython3",
   "version": "3.6.5"
  },
  "toc": {
   "base_numbering": 1,
   "nav_menu": {},
   "number_sections": true,
   "sideBar": true,
   "skip_h1_title": false,
   "title_cell": "Table of Contents",
   "title_sidebar": "Contents",
   "toc_cell": false,
   "toc_position": {},
   "toc_section_display": true,
   "toc_window_display": true
  }
 },
 "nbformat": 4,
 "nbformat_minor": 2
}
