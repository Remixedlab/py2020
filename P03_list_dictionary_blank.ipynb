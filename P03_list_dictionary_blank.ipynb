{
 "cells": [
  {
   "cell_type": "markdown",
   "metadata": {},
   "source": [
    "# Index\n",
    "1. List\n",
    "2. Practice: read csv into two-layers list\n",
    "3. Dictionary\n",
    "4. Practice: traversing ubike data by dictionary and list"
   ]
  },
  {
   "cell_type": "markdown",
   "metadata": {},
   "source": [
    "# LIST\n",
    "**List**（你可以中譯為串列，上課中會說List）。顧名思義，「a list of something」，通常代表的是「something arranged in order」。也就是把一群物件、東西、數值、變數照順序排好。List就是這樣的結構。只要放進List中，他就會被給予一個整數編號，而整數編號從0開始編起。在下列程式`=`（assign）右側為List（`[]`是一個空的list），當其被assign給左側時，左側的變項就是List型態。\n",
    "```\n",
    "alist = []\n",
    "alist = [3, 4, 5]\n",
    "```\n",
    "\n",
    "**Llist**所要學習的內容包含以下幾個項目\n",
    "1. **Definition**: An ordered sequence\n",
    "2. **Access**: Access by index, from head or tail\n",
    "3. **Update**: `.pop()` from tail, `.extends()` multiple element, `.append()` one element\n",
    "\n",
    "List中的內容不一定要同型態，List中也可以有List，也可以同時有float（浮點數）、int（整數）或str（字串）等多種變數型態的數值。但多半在實際寫程式時，會盡量讓list中內容的變數型態維持一致。"
   ]
  },
  {
   "cell_type": "markdown",
   "metadata": {},
   "source": [
    "## Access a list\n",
    "如上例，3就放置在`alist`的0的位置，可用`alist[0]`存取；4就放置在`alist`的1的位置，可用`alist[1]`存取。當要存取一個list中某一個內容時，就把數值或其他變數Assign給相對應的位置。例如`alist[3] = 4`"
   ]
  },
  {
   "cell_type": "code",
   "execution_count": 1,
   "metadata": {
    "ExecuteTime": {
     "end_time": "2020-03-16T17:02:15.725746Z",
     "start_time": "2020-03-16T17:02:15.719196Z"
    }
   },
   "outputs": [
    {
     "name": "stdout",
     "output_type": "stream",
     "text": [
      "[10, 9, 8, 7, 6, 5, 4, 3, 2, 1]\n",
      "1\n",
      "9\n",
      "8\n",
      "10\n"
     ]
    }
   ],
   "source": [
    "alist = [10, 9, 8, 7, 6, 5, 4, 3, 2, 1]\n",
    "\n",
    "# print whole list\n",
    "\n",
    "# print the last one element\n",
    "\n",
    "# print the first and second elements\n",
    "\n",
    "# print the length of the list by function len()\n"
   ]
  },
  {
   "cell_type": "markdown",
   "metadata": {},
   "source": [
    "## list Slicing\n",
    "有時候我們不只要取出一個元素，而是要取出list中第n個到第m個元素，這樣的動作可稱為Slicing。下面程式碼可取出list中最後一個元素，或者取其中數個元素。以`alist[1:3]`為例，其取index從1開始到3*之前*。所以是1與2。而alist[-3:-1]則是取-3開始到-1*之前*。"
   ]
  },
  {
   "cell_type": "code",
   "execution_count": 2,
   "metadata": {
    "ExecuteTime": {
     "end_time": "2020-03-16T17:03:07.184691Z",
     "start_time": "2020-03-16T17:03:07.180458Z"
    }
   },
   "outputs": [
    {
     "name": "stdout",
     "output_type": "stream",
     "text": [
      "[9, 8]\n",
      "[3, 2]\n"
     ]
    }
   ],
   "source": [
    "# print the 1 to 2 elements\n",
    "\n",
    "\n",
    "# print the last 3 to 2 elements from the end\n"
   ]
  },
  {
   "cell_type": "markdown",
   "metadata": {},
   "source": [
    "## Update a list: append() and extend() and +"
   ]
  },
  {
   "cell_type": "code",
   "execution_count": 3,
   "metadata": {
    "ExecuteTime": {
     "end_time": "2020-03-16T17:04:29.098318Z",
     "start_time": "2020-03-16T17:04:29.092636Z"
    }
   },
   "outputs": [
    {
     "name": "stdout",
     "output_type": "stream",
     "text": [
      "[10, 9, 8, 7, 6, 5, 4, 3, 2, 1, 3, 4, 3, 4, 5, [3, 4, 5]]\n"
     ]
    }
   ],
   "source": [
    "# Append two integers to alist one by one\n",
    "\n",
    "# Extend alist with another list [3, 4, 5]\n",
    "\n",
    "# Append alist with another list [3, 4, 5]\n",
    "\n",
    "# print out alist to see what happens\n"
   ]
  },
  {
   "cell_type": "markdown",
   "metadata": {},
   "source": [
    "## Using + to concatinate two lists"
   ]
  },
  {
   "cell_type": "code",
   "execution_count": 4,
   "metadata": {
    "ExecuteTime": {
     "end_time": "2020-03-16T17:04:38.001874Z",
     "start_time": "2020-03-16T17:04:37.996414Z"
    }
   },
   "outputs": [
    {
     "name": "stdout",
     "output_type": "stream",
     "text": [
      "[1, 2, 3, 4, 5, 6]\n"
     ]
    }
   ],
   "source": [
    "print([1, 2, 3] + [4, 5, 6])"
   ]
  },
  {
   "cell_type": "markdown",
   "metadata": {},
   "source": [
    "## Accessing two layers list"
   ]
  },
  {
   "cell_type": "code",
   "execution_count": 6,
   "metadata": {
    "ExecuteTime": {
     "end_time": "2020-03-16T17:06:22.343434Z",
     "start_time": "2020-03-16T17:06:22.337432Z"
    }
   },
   "outputs": [
    {
     "name": "stdout",
     "output_type": "stream",
     "text": [
      "8\n",
      "[1, 2, 3, {}] <class 'list'>\n",
      "{} <class 'dict'>\n"
     ]
    }
   ],
   "source": [
    "alist = [1, 2, 3, 4, 'abc', '123', '123.1', [1, 2, 3, bdict] ]\n",
    "print(len(alist)) #length len()\n",
    "print(alist[7], type(alist[7]))\n",
    "\n",
    "# Access any elements in the second layers of alsit\n"
   ]
  },
  {
   "cell_type": "markdown",
   "metadata": {},
   "source": [
    "# Dictionary\n",
    "\n",
    "Dictionary（你可以中譯為「字典」，但上課會直接稱之為dict）如同其字面上的意思，是給人就單字查詢意義的。在python中也不例外，他所存放的是「key to value pairs」。所以實際上他的內容並沒有順序，所以他不像list是用index 0, 1, 2...來存取。他是用key來存取value。在下面的例子中`adict[1]`所對應的值就是`3`，`2`所對應的值就是`4`。\n",
    "```\n",
    "adict = {1:3, '2':4}\n",
    "```\n",
    "\n",
    "雖然說是key和value，但其中的value也可以是list，或者是另一個dictionary。而一個list中，也可以擺放很多個dictionary，簡單地說，就是list中可以有dictionary或list，dictionary可對應到list或dictionary。唯獨要注意的是，list或dictionary，不可以當作dictionary的key，這是為了怕寫程式的人亂改list或dictionary作為key的值，導致對應錯誤。但tuple可以作為dictionary的key。"
   ]
  },
  {
   "cell_type": "code",
   "execution_count": 8,
   "metadata": {},
   "outputs": [
    {
     "ename": "TypeError",
     "evalue": "'int' object is not subscriptable",
     "output_type": "error",
     "traceback": [
      "\u001b[0;31m---------------------------------------------------------------------------\u001b[0m",
      "\u001b[0;31mTypeError\u001b[0m                                 Traceback (most recent call last)",
      "\u001b[0;32m<ipython-input-8-8d340d41c924>\u001b[0m in \u001b[0;36m<module>\u001b[0;34m()\u001b[0m\n\u001b[1;32m      1\u001b[0m \u001b[0madict\u001b[0m \u001b[0;34m=\u001b[0m \u001b[0;34m{\u001b[0m\u001b[0;36m1\u001b[0m\u001b[0;34m:\u001b[0m\u001b[0;36m3\u001b[0m\u001b[0;34m,\u001b[0m \u001b[0;36m2\u001b[0m\u001b[0;34m:\u001b[0m\u001b[0;36m4\u001b[0m\u001b[0;34m,\u001b[0m \u001b[0;36m3\u001b[0m\u001b[0;34m:\u001b[0m\u001b[0;36m5\u001b[0m\u001b[0;34m,\u001b[0m \u001b[0;36m4\u001b[0m\u001b[0;34m:\u001b[0m\u001b[0;36m6\u001b[0m\u001b[0;34m,\u001b[0m \u001b[0;34m'1'\u001b[0m\u001b[0;34m:\u001b[0m\u001b[0;36m3\u001b[0m\u001b[0;34m,\u001b[0m \u001b[0;36m1.13\u001b[0m\u001b[0;34m:\u001b[0m\u001b[0;34m'123'\u001b[0m\u001b[0;34m,\u001b[0m \u001b[0;34m'a'\u001b[0m\u001b[0;34m:\u001b[0m \u001b[0malist\u001b[0m\u001b[0;34m}\u001b[0m\u001b[0;34m\u001b[0m\u001b[0m\n\u001b[0;32m----> 2\u001b[0;31m \u001b[0mprint\u001b[0m\u001b[0;34m(\u001b[0m\u001b[0mtype\u001b[0m\u001b[0;34m(\u001b[0m\u001b[0madict\u001b[0m\u001b[0;34m[\u001b[0m\u001b[0;34m'a'\u001b[0m\u001b[0;34m]\u001b[0m\u001b[0;34m[\u001b[0m\u001b[0;36m7\u001b[0m\u001b[0;34m]\u001b[0m\u001b[0;34m[\u001b[0m\u001b[0;36m3\u001b[0m\u001b[0;34m]\u001b[0m\u001b[0;34m)\u001b[0m\u001b[0;34m,\u001b[0m \u001b[0mlen\u001b[0m\u001b[0;34m(\u001b[0m\u001b[0madict\u001b[0m\u001b[0;34m[\u001b[0m\u001b[0;34m'a'\u001b[0m\u001b[0;34m]\u001b[0m\u001b[0;34m[\u001b[0m\u001b[0;36m7\u001b[0m\u001b[0;34m]\u001b[0m\u001b[0;34m[\u001b[0m\u001b[0;36m3\u001b[0m\u001b[0;34m]\u001b[0m\u001b[0;34m)\u001b[0m\u001b[0;34m)\u001b[0m\u001b[0;34m\u001b[0m\u001b[0m\n\u001b[0m\u001b[1;32m      3\u001b[0m \u001b[0mprint\u001b[0m\u001b[0;34m(\u001b[0m\u001b[0madict\u001b[0m\u001b[0;34m[\u001b[0m\u001b[0;34m'1'\u001b[0m\u001b[0;34m]\u001b[0m\u001b[0;34m)\u001b[0m\u001b[0;34m\u001b[0m\u001b[0m\n\u001b[1;32m      4\u001b[0m \u001b[0mprint\u001b[0m\u001b[0;34m(\u001b[0m\u001b[0madict\u001b[0m\u001b[0;34m[\u001b[0m\u001b[0;36m1.13\u001b[0m\u001b[0;34m]\u001b[0m\u001b[0;34m)\u001b[0m\u001b[0;34m\u001b[0m\u001b[0m\n\u001b[1;32m      5\u001b[0m \u001b[0;34m\u001b[0m\u001b[0m\n",
      "\u001b[0;31mTypeError\u001b[0m: 'int' object is not subscriptable"
     ]
    }
   ],
   "source": [
    "adict = {1:3, 2:4, 3:5, 4:6, '1':3, 1.13:'123', 'a': alist}\n",
    "print(type(adict['a'][7][3]), len(adict['a'][7][3]))\n",
    "print(adict['1'])\n",
    "print(adict[1.13])"
   ]
  },
  {
   "cell_type": "markdown",
   "metadata": {},
   "source": [
    "## Access dictionary\n"
   ]
  },
  {
   "cell_type": "code",
   "execution_count": 7,
   "metadata": {
    "ExecuteTime": {
     "end_time": "2020-03-16T17:08:20.451697Z",
     "start_time": "2020-03-16T17:08:20.446428Z"
    }
   },
   "outputs": [
    {
     "name": "stdout",
     "output_type": "stream",
     "text": [
      "{1: 3, '1': 3, 4: [2, 4]}\n",
      "3\n",
      "3\n",
      "2\n"
     ]
    }
   ],
   "source": [
    "# access the dictionary\n",
    "\n",
    "# print whole dict\n",
    "\n",
    "# print the value of key '1'\n",
    "\n",
    "# print the value of key 1\n",
    "\n",
    "# print the first element of the list mapped by key 4\n"
   ]
  },
  {
   "cell_type": "markdown",
   "metadata": {},
   "source": [
    "# Accessing list of dic: json\n",
    "**資料說明**（[youbike data link](http://data.taipei/opendata/datalist/datasetMeta?oid=8ef1626a-892a-4218-8344-f7ac46e1aa48)）。來自台北市政府的說明「為提供更優質之資料服務，YouBike臺北市公共自行車即時資訊介接網址自10月16日起改為http://data.taipei/youbike \n",
    "檔案格式為經gz壓縮之json檔，請下載後解壓縮使用（部分瀏覽器如Chrome下載後會自動解壓縮，請留意！）；規格調整如右連結http://goo.gl/pmcIo3 此外，「最後更新時間」欄位之內容為詮釋資料更新時間，非資料檔案更新時間，實際資料檔案更新時間為「每1分鐘」，可參考檔案內容之「mday」欄位。」\n",
    "\n",
    "**獲取youbike資料的流程**\n",
    "1. 用`requests`套件的`.get()`獲取該url的回應。\n",
    "2. 將該http request response的文字抽取出來`response.text`，資料型態為`str`\n",
    "3. 將抽取出來的文字，我知道他是用json格式存，因此用`json.loads()`將其轉換為python的資料型態，也就是由層層list與dictionary所套疊起來的資料\n",
    "4. 最後一一存取其內容\n",
    "\n",
    "## 從網路上抓取資料並轉換為python的dictionary與list物件。\n",
    "> 這部分可以先不用管到底做了什麼事情。反正日後會教，單純只是用這個例子讓各位知道怎麼access dict"
   ]
  },
  {
   "cell_type": "code",
   "execution_count": 5,
   "metadata": {
    "ExecuteTime": {
     "end_time": "2020-03-17T03:55:57.037357Z",
     "start_time": "2020-03-17T03:55:55.744922Z"
    }
   },
   "outputs": [
    {
     "name": "stdout",
     "output_type": "stream",
     "text": [
      "<class 'requests.models.Response'>\n",
      "<class 'str'>\n"
     ]
    }
   ],
   "source": [
    "# import requests library to send web query\n",
    "import requests\n",
    "\n",
    "# import json library to parse json format\n",
    "import json\n",
    "\n",
    "response = requests.get('https://tcgbusfs.blob.core.windows.net/blobyoubike/YouBikeTP.gz')\n",
    "print(type(response)) # <class 'requests.models.Response'>\n",
    "print(type(response.text)) # <class 'str'>\n",
    "data = json.loads(response.text)"
   ]
  },
  {
   "cell_type": "markdown",
   "metadata": {},
   "source": [
    "## 利用測試的方法測試出一筆資料的結構\n",
    "**如果偵測出他是一個list**，那就取出第0筆資料往下追蹤。\n",
    "\n",
    "**如果偵測出他是一個dict**，就用`dict.keys()`將其所有的key給列印出來，然後挑你所需要的key往下追蹤。"
   ]
  },
  {
   "cell_type": "code",
   "execution_count": 6,
   "metadata": {
    "ExecuteTime": {
     "end_time": "2020-03-17T03:56:00.799308Z",
     "start_time": "2020-03-17T03:56:00.795300Z"
    }
   },
   "outputs": [
    {
     "name": "stdout",
     "output_type": "stream",
     "text": [
      "<class 'dict'>\n",
      "type of data <class 'dict'>\n",
      "dict_keys(['retCode', 'retVal'])\n",
      "{'sno': '0137', 'sna': '國防大學', 'tot': '46', 'sbi': '18', 'sarea': '北投區', 'mday': '20200317115327', 'lat': '25.137976', 'lng': '121.493066', 'ar': '中央北路二段/豐年路二段交叉口', 'sareaen': 'Beitou Dist.', 'snaen': 'Nat’l Defense U.', 'aren': 'Sec. 2, Zhongyang N. Rd. / Sec. 2, Fengnian Rd.', 'bemp': '28', 'act': '1'}\n",
      "18\n",
      "46\n"
     ]
    }
   ],
   "source": [
    "# print the type of whole data\n",
    "print(type(data))\n",
    "\n",
    "# print all key of the whole data\n",
    "print(data.keys())\n",
    "\n",
    "# traversing the data\n",
    "print(data['retVal']['0137'])\n",
    "print(data['retVal']['0137']['sbi'])\n",
    "print(data['retVal']['0137']['tot'])"
   ]
  },
  {
   "cell_type": "code",
   "execution_count": 1,
   "metadata": {
    "ExecuteTime": {
     "end_time": "2020-03-17T04:12:42.899591Z",
     "start_time": "2020-03-17T04:12:42.815606Z"
    }
   },
   "outputs": [
    {
     "ename": "NameError",
     "evalue": "name 'data' is not defined",
     "output_type": "error",
     "traceback": [
      "\u001b[0;31m---------------------------------------------------------------------------\u001b[0m",
      "\u001b[0;31mNameError\u001b[0m                                 Traceback (most recent call last)",
      "\u001b[0;32m<ipython-input-1-043db72735d3>\u001b[0m in \u001b[0;36m<module>\u001b[0;34m\u001b[0m\n\u001b[1;32m      1\u001b[0m \u001b[0;31m# data[\"retVal\"].keys()\u001b[0m\u001b[0;34m\u001b[0m\u001b[0;34m\u001b[0m\u001b[0;34m\u001b[0m\u001b[0m\n\u001b[0;32m----> 2\u001b[0;31m \u001b[0mdata\u001b[0m\u001b[0;34m[\u001b[0m\u001b[0;34m\"retVal\"\u001b[0m\u001b[0;34m]\u001b[0m\u001b[0;34m.\u001b[0m\u001b[0mvalues\u001b[0m\u001b[0;34m(\u001b[0m\u001b[0;34m)\u001b[0m\u001b[0;34m\u001b[0m\u001b[0;34m\u001b[0m\u001b[0m\n\u001b[0m\u001b[1;32m      3\u001b[0m \u001b[0mdata\u001b[0m\u001b[0;34m[\u001b[0m\u001b[0;34m\"retVal\"\u001b[0m\u001b[0;34m]\u001b[0m\u001b[0;34m.\u001b[0m\u001b[0mitems\u001b[0m\u001b[0;34m(\u001b[0m\u001b[0;34m)\u001b[0m\u001b[0;34m\u001b[0m\u001b[0;34m\u001b[0m\u001b[0m\n\u001b[1;32m      4\u001b[0m \u001b[0;31m# data[\"retVal\"].items()[:3]\u001b[0m\u001b[0;34m\u001b[0m\u001b[0;34m\u001b[0m\u001b[0;34m\u001b[0m\u001b[0m\n\u001b[1;32m      5\u001b[0m \u001b[0mlist\u001b[0m\u001b[0;34m(\u001b[0m\u001b[0mdata\u001b[0m\u001b[0;34m[\u001b[0m\u001b[0;34m\"retVal\"\u001b[0m\u001b[0;34m]\u001b[0m\u001b[0;34m.\u001b[0m\u001b[0mitems\u001b[0m\u001b[0;34m(\u001b[0m\u001b[0;34m)\u001b[0m\u001b[0;34m)\u001b[0m\u001b[0;34m[\u001b[0m\u001b[0;34m:\u001b[0m\u001b[0;36m3\u001b[0m\u001b[0;34m]\u001b[0m\u001b[0;34m\u001b[0m\u001b[0;34m\u001b[0m\u001b[0m\n",
      "\u001b[0;31mNameError\u001b[0m: name 'data' is not defined"
     ]
    }
   ],
   "source": [
    "# data[\"retVal\"].keys()\n",
    "data[\"retVal\"].values()\n",
    "data[\"retVal\"].items()\n",
    "# data[\"retVal\"].items()[:3]\n",
    "list(data[\"retVal\"].items())[:3]"
   ]
  },
  {
   "cell_type": "markdown",
   "metadata": {},
   "source": [
    "# Iterating a dictionary\n",
    "下列方法都可以把所有站台的sbi給列印出來，請觀察看看`.items()`和沒有`.items()`的用法有何差異。\n",
    "```\n",
    "for k in data[\"retVal\"].keys():\n",
    "    print(data[\"retVal\"][k][\"sbi\"])\n",
    "for k in data[\"retVal\"]:\n",
    "    print(data[\"retVal\"][k][\"sbi\"])\n",
    "for k in data[\"retVal\"].items():\n",
    "    print(k[1][\"sbi\"])\n",
    "for k, v in data['retVal'].items():\n",
    "    print(k, v[\"sbi\"])\n",
    "```"
   ]
  },
  {
   "cell_type": "code",
   "execution_count": 8,
   "metadata": {
    "ExecuteTime": {
     "end_time": "2020-03-17T03:58:01.028644Z",
     "start_time": "2020-03-17T03:58:01.018646Z"
    }
   },
   "outputs": [
    {
     "name": "stdout",
     "output_type": "stream",
     "text": [
      "94\n",
      "12\n",
      "18\n",
      "48\n",
      "34\n",
      "20\n",
      "40\n",
      "23\n",
      "24\n",
      "6\n",
      "19\n",
      "16\n",
      "20\n",
      "4\n",
      "22\n",
      "21\n",
      "5\n",
      "11\n",
      "1\n",
      "22\n",
      "11\n",
      "1\n",
      "4\n",
      "3\n",
      "16\n",
      "9\n",
      "5\n",
      "18\n",
      "44\n",
      "10\n",
      "6\n",
      "28\n",
      "14\n",
      "13\n",
      "34\n",
      "11\n",
      "21\n",
      "11\n",
      "1\n",
      "10\n",
      "18\n",
      "12\n",
      "25\n",
      "9\n",
      "22\n",
      "8\n",
      "0\n",
      "9\n",
      "11\n",
      "8\n",
      "9\n",
      "6\n",
      "5\n",
      "35\n",
      "19\n",
      "39\n",
      "33\n",
      "7\n",
      "2\n",
      "13\n",
      "11\n",
      "14\n",
      "27\n",
      "23\n",
      "16\n",
      "22\n",
      "18\n",
      "10\n",
      "14\n",
      "2\n",
      "19\n",
      "20\n",
      "4\n",
      "8\n",
      "7\n",
      "4\n",
      "32\n",
      "0\n",
      "12\n",
      "6\n",
      "10\n",
      "0\n",
      "16\n",
      "3\n",
      "4\n",
      "8\n",
      "3\n",
      "19\n",
      "13\n",
      "14\n",
      "17\n",
      "2\n",
      "20\n",
      "14\n",
      "5\n",
      "15\n",
      "12\n",
      "13\n",
      "18\n",
      "25\n",
      "2\n",
      "16\n",
      "22\n",
      "21\n",
      "21\n",
      "26\n",
      "15\n",
      "25\n",
      "4\n",
      "13\n",
      "41\n",
      "28\n",
      "1\n",
      "2\n",
      "28\n",
      "8\n",
      "4\n",
      "31\n",
      "9\n",
      "55\n",
      "4\n",
      "13\n",
      "1\n",
      "16\n",
      "5\n",
      "25\n",
      "4\n",
      "2\n",
      "16\n",
      "20\n",
      "8\n",
      "1\n",
      "30\n",
      "19\n",
      "20\n",
      "18\n",
      "4\n",
      "12\n",
      "28\n",
      "18\n",
      "38\n",
      "11\n",
      "26\n",
      "5\n",
      "1\n",
      "0\n",
      "8\n",
      "1\n",
      "20\n",
      "18\n",
      "23\n",
      "6\n",
      "27\n",
      "2\n",
      "8\n",
      "0\n",
      "2\n",
      "7\n",
      "19\n",
      "37\n",
      "23\n",
      "22\n",
      "6\n",
      "10\n",
      "33\n",
      "2\n",
      "24\n",
      "21\n",
      "11\n",
      "16\n",
      "23\n",
      "2\n",
      "29\n",
      "7\n",
      "14\n",
      "15\n",
      "0\n",
      "11\n",
      "17\n",
      "36\n",
      "10\n",
      "5\n",
      "13\n",
      "71\n",
      "2\n",
      "22\n",
      "5\n",
      "20\n",
      "6\n",
      "14\n",
      "10\n",
      "5\n",
      "27\n",
      "6\n",
      "9\n",
      "18\n",
      "40\n",
      "8\n",
      "22\n",
      "0\n",
      "15\n",
      "21\n",
      "16\n",
      "28\n",
      "0\n",
      "16\n",
      "10\n",
      "8\n",
      "20\n",
      "27\n",
      "31\n",
      "13\n",
      "26\n",
      "12\n",
      "7\n",
      "2\n",
      "17\n",
      "1\n",
      "3\n",
      "26\n",
      "16\n",
      "13\n",
      "8\n",
      "13\n",
      "2\n",
      "14\n",
      "9\n",
      "42\n",
      "29\n",
      "6\n",
      "10\n",
      "7\n",
      "7\n",
      "0\n",
      "34\n",
      "7\n",
      "24\n",
      "11\n",
      "13\n",
      "23\n",
      "14\n",
      "13\n",
      "1\n",
      "20\n",
      "1\n",
      "10\n",
      "7\n",
      "7\n",
      "31\n",
      "6\n",
      "20\n",
      "5\n",
      "33\n",
      "17\n",
      "18\n",
      "2\n",
      "2\n",
      "25\n",
      "17\n",
      "2\n",
      "15\n",
      "0\n",
      "2\n",
      "9\n",
      "16\n",
      "22\n",
      "5\n",
      "13\n",
      "23\n",
      "31\n",
      "7\n",
      "22\n",
      "17\n",
      "2\n",
      "17\n",
      "6\n",
      "17\n",
      "18\n",
      "4\n",
      "14\n",
      "20\n",
      "16\n",
      "50\n",
      "13\n",
      "3\n",
      "14\n",
      "19\n",
      "25\n",
      "19\n",
      "1\n",
      "17\n",
      "0\n",
      "2\n",
      "13\n",
      "10\n",
      "20\n",
      "17\n",
      "12\n",
      "0\n",
      "6\n",
      "9\n",
      "12\n",
      "13\n",
      "4\n",
      "17\n",
      "9\n",
      "5\n",
      "23\n",
      "7\n",
      "12\n",
      "11\n",
      "9\n",
      "9\n",
      "17\n",
      "1\n",
      "12\n",
      "5\n",
      "11\n",
      "11\n",
      "10\n",
      "7\n",
      "22\n",
      "21\n",
      "20\n",
      "13\n",
      "16\n",
      "7\n",
      "1\n",
      "1\n",
      "23\n",
      "4\n",
      "1\n",
      "0\n",
      "22\n",
      "8\n",
      "24\n",
      "7\n",
      "0\n",
      "15\n",
      "32\n",
      "27\n",
      "9\n",
      "3\n",
      "1\n",
      "4\n",
      "22\n",
      "13\n",
      "18\n",
      "21\n",
      "10\n",
      "11\n",
      "0\n",
      "10\n",
      "6\n",
      "22\n",
      "22\n",
      "13\n",
      "21\n",
      "9\n",
      "31\n",
      "10\n",
      "10\n",
      "23\n",
      "24\n",
      "0\n",
      "26\n",
      "12\n",
      "3\n",
      "10\n",
      "27\n",
      "17\n",
      "3\n",
      "11\n",
      "14\n",
      "13\n",
      "17\n",
      "31\n",
      "9\n",
      "11\n",
      "3\n",
      "5\n",
      "1\n",
      "3\n",
      "22\n",
      "5\n",
      "14\n",
      "3\n",
      "5\n",
      "0\n",
      "14\n",
      "6\n",
      "14\n",
      "17\n",
      "23\n",
      "17\n",
      "20\n",
      "5\n",
      "9\n",
      "0\n"
     ]
    }
   ],
   "source": [
    "\n",
    "\n",
    "\n"
   ]
  },
  {
   "cell_type": "markdown",
   "metadata": {},
   "source": [
    "# Practice: 計算出每個行政區有多少個ubike站台"
   ]
  },
  {
   "cell_type": "code",
   "execution_count": 14,
   "metadata": {},
   "outputs": [
    {
     "data": {
      "text/plain": [
       "{'信義區': 38,\n",
       " '大安區': 48,\n",
       " '中山區': 46,\n",
       " '松山區': 35,\n",
       " '南港區': 22,\n",
       " '中正區': 34,\n",
       " '萬華區': 22,\n",
       " '文山區': 27,\n",
       " '大同區': 22,\n",
       " '士林區': 36,\n",
       " '內湖區': 42,\n",
       " '北投區': 28}"
      ]
     },
     "execution_count": 14,
     "metadata": {},
     "output_type": "execute_result"
    }
   ],
   "source": [
    "\n",
    "\n",
    "\n",
    "\n",
    "\n"
   ]
  }
 ],
 "metadata": {
  "kernelspec": {
   "display_name": "Python 3",
   "language": "python",
   "name": "python3"
  },
  "language_info": {
   "codemirror_mode": {
    "name": "ipython",
    "version": 3
   },
   "file_extension": ".py",
   "mimetype": "text/x-python",
   "name": "python",
   "nbconvert_exporter": "python",
   "pygments_lexer": "ipython3",
   "version": "3.7.4"
  },
  "toc": {
   "base_numbering": 1,
   "nav_menu": {},
   "number_sections": true,
   "sideBar": true,
   "skip_h1_title": false,
   "title_cell": "Table of Contents",
   "title_sidebar": "Contents",
   "toc_cell": false,
   "toc_position": {
    "height": "calc(100% - 180px)",
    "left": "10px",
    "top": "150px",
    "width": "257px"
   },
   "toc_section_display": true,
   "toc_window_display": true
  },
  "varInspector": {
   "cols": {
    "lenName": 16,
    "lenType": 16,
    "lenVar": 40
   },
   "kernels_config": {
    "python": {
     "delete_cmd_postfix": "",
     "delete_cmd_prefix": "del ",
     "library": "var_list.py",
     "varRefreshCmd": "print(var_dic_list())"
    },
    "r": {
     "delete_cmd_postfix": ") ",
     "delete_cmd_prefix": "rm(",
     "library": "var_list.r",
     "varRefreshCmd": "cat(var_dic_list()) "
    }
   },
   "types_to_exclude": [
    "module",
    "function",
    "builtin_function_or_method",
    "instance",
    "_Feature"
   ],
   "window_display": false
  }
 },
 "nbformat": 4,
 "nbformat_minor": 1
}
