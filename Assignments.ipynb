{
 "cells": [
  {
   "cell_type": "markdown",
   "metadata": {},
   "source": [
    "# Assignment 0920"
   ]
  },
  {
   "cell_type": "markdown",
   "metadata": {},
   "source": [
    "# Assignment 0927\n",
    "自政府開放資料下載一個`csv`檔，分將其轉為層套的list或dictionary。說明你下載了哪個資料集的檔案，列出該資料集的名稱與超鏈結。\n",
    "針對該資料集：\n",
    "1. 用程式列印出，該資料集包含幾筆資料。\n",
    "2. 用程式列印出，該資料集的主要資料表有哪些「變項」。這邊所指的「變項」為統計的「變項」。例如ubike的資料就有中文站名、英文站名等等。列印出的形式不拘。\n",
    "\n",
    "嘗試用上週與本週所教的「計數counting」運算，統計其中一個變數。\n",
    "\n",
    "讀取json檔案的方法\n",
    "```\n",
    "with open(\"data/your_file.json\", \"r\", encoding=\"UTF-8\") as f:\n",
    "    jdata = json.load(f)\n",
    "print(type(jdata))\n",
    "```"
   ]
  },
  {
   "cell_type": "code",
   "execution_count": 2,
   "metadata": {},
   "outputs": [
    {
     "name": "stdout",
     "output_type": "stream",
     "text": [
      "<class 'dict'>\n"
     ]
    }
   ],
   "source": [
    "import json\n",
    "with open(\"data/aqs.json\", \"r\", encoding=\"UTF-8\") as f:\n",
    "    jdata = json.load(f)\n",
    "print(type(jdata))"
   ]
  },
  {
   "cell_type": "code",
   "execution_count": 9,
   "metadata": {},
   "outputs": [
    {
     "name": "stdout",
     "output_type": "stream",
     "text": [
      "dict_keys(['Result', 'Data'])\n",
      "<class 'list'>\n",
      "{'SiteId': '84', 'SiteName': '富貴角', 'SiteKey': 'FugueiCape', 'AreaKey': 'North', 'MonobjName': '背景', 'Address': '新北市石門區富貴角海邊', 'lat': '25.294147', 'lng': '121.539141', 'AQI': '74', 'MainPollutant': '臭氧八小時', 'MainPollutantKey': 'O3_8hr', 'CityCode': '31', 'PM10': '33', 'PM10_AVG': '39', 'PM25': '9', 'PM25_AVG': '10', 'O3': '61', 'O3_8': '62', 'SO2': '0.2', 'CO': '0.13', 'CO_8': '0.10', 'NO2': '1.1', 'SO2_VFLAG': '1', 'CO_VFLAG': '1', 'O3_VFLAG': '1', 'PM10_VFLAG': '1', 'NO2_VFLAG': '1', 'THC_VFLAG': '1', 'PM25_VFLAG': '1', 'SO2_PRETXT': '', 'CO_PRETXT': '', 'O3_PRETXT': '', 'NO2_PRETXT': '', 'HO_AQI_VAL': '74', 'THC': '1.9', 'x': '121', 'y': '86', 'DataSrc': 'epa', 'Time': '2018-10-03 00:00:00', 'AQIStyle': 'AQI2'}\n",
      "The dataset has  80 data entries\n"
     ]
    }
   ],
   "source": [
    "print(jdata.keys()) # check all keys\n",
    "print(type(jdata[\"Data\"])) # list\n",
    "print(jdata[\"Data\"][0]) # get \n",
    "print(\"The dataset has \", len(jdata[\"Data\"]), \"data entries\")"
   ]
  },
  {
   "cell_type": "markdown",
   "metadata": {},
   "source": [
    "## Print variables of data entries"
   ]
  },
  {
   "cell_type": "code",
   "execution_count": 12,
   "metadata": {},
   "outputs": [
    {
     "name": "stdout",
     "output_type": "stream",
     "text": [
      "<class 'dict'>\n",
      "dict_keys(['SiteId', 'SiteName', 'SiteKey', 'AreaKey', 'MonobjName', 'Address', 'lat', 'lng', 'AQI', 'MainPollutant', 'MainPollutantKey', 'CityCode', 'PM10', 'PM10_AVG', 'PM25', 'PM25_AVG', 'O3', 'O3_8', 'SO2', 'CO', 'CO_8', 'NO2', 'SO2_VFLAG', 'CO_VFLAG', 'O3_VFLAG', 'PM10_VFLAG', 'NO2_VFLAG', 'THC_VFLAG', 'PM25_VFLAG', 'SO2_PRETXT', 'CO_PRETXT', 'O3_PRETXT', 'NO2_PRETXT', 'HO_AQI_VAL', 'THC', 'x', 'y', 'DataSrc', 'Time', 'AQIStyle'])\n",
      "Each data entry has  40 variables\n"
     ]
    }
   ],
   "source": [
    "print(type(jdata[\"Data\"][0]))\n",
    "print(jdata[\"Data\"][0].keys())\n",
    "print(\"Each data entry has \", len(jdata[\"Data\"][0].keys()), \"variables\")"
   ]
  },
  {
   "cell_type": "code",
   "execution_count": 19,
   "metadata": {},
   "outputs": [
    {
     "name": "stdout",
     "output_type": "stream",
     "text": [
      "富貴角 31 74\n",
      "陽明 1 58\n",
      "萬里 31 77\n",
      "淡水 31 41\n",
      "基隆 11 51\n",
      "士林 1 50\n",
      "林口 31 45\n",
      "三重 31 40\n",
      "菜寮 31 37\n",
      "汐止 31 37\n",
      "大同 1 43\n",
      "中山 1 38\n",
      "大園 33 45\n",
      "松山 1 37\n",
      "萬華 1 36\n",
      "新莊 31 45\n",
      "觀音 33 56\n",
      "古亭 1 42\n",
      "永和 31 35\n",
      "板橋 31 43\n",
      "桃園 33 46\n",
      "土城 31 45\n",
      "新店 31 43\n",
      "平鎮 33 46\n",
      "中壢 33 37\n",
      "龍潭 33 58\n",
      "湖口 34 48\n",
      "新竹 12 49\n",
      "竹東 34 51\n",
      "頭份 35 54\n",
      "苗栗 35 57\n",
      "三義 35 71\n",
      "豐原 13 \n",
      "沙鹿 13 51\n",
      "西屯 13 61\n",
      "忠明 13 49\n",
      "線西 37 51\n",
      "大里 13 46\n",
      "彰化 37 51\n",
      "埔里 38 77\n",
      "二林 37 53\n",
      "南投 38 65\n",
      "竹山 38 74\n",
      "麥寮 39 78\n",
      "臺西 39 74\n",
      "斗六 39 77\n",
      "新港 40 69\n",
      "朴子 40 82\n",
      "嘉義 14 73\n",
      "新營 15 71\n",
      "善化 15 70\n",
      "安南 15 81\n",
      "臺南 15 70\n",
      "美濃 2 88\n",
      "橋頭 2 103\n",
      "楠梓 2 105\n",
      "仁武 2 82\n",
      "左營 2 88\n",
      "屏東 43 94\n",
      "前金 2 \n",
      "鳳山 2 87\n",
      "復興 2 80\n",
      "前鎮 2 83\n",
      "小港 2 74\n",
      "大寮 2 73\n",
      "潮州 43 78\n",
      "林園 2 118\n",
      "恆春 43 87\n",
      "宜蘭 32 43\n",
      "冬山 32 47\n",
      "花蓮 45 51\n",
      "關山 44 59\n",
      "臺東 44 51\n",
      "馬祖 47 136\n",
      "金門 48 143\n",
      "馬公 46 108\n",
      "臺南(玉井) 15 71\n",
      "彰化(大城) 37 \n",
      "崙背 39 58\n",
      "屏東(琉球) 43 104\n"
     ]
    }
   ],
   "source": [
    "for site in jdata[\"Data\"]:\n",
    "    print(site[\"SiteName\"], site[\"CityCode\"], site[\"AQI\"])"
   ]
  },
  {
   "cell_type": "markdown",
   "metadata": {},
   "source": [
    "## An example: print out the average AQI of each county\n",
    "（這個計算在資料上沒太大意義，單純只是給各位一個練習答案）"
   ]
  },
  {
   "cell_type": "code",
   "execution_count": 1,
   "metadata": {},
   "outputs": [
    {
     "ename": "NameError",
     "evalue": "name 'jdata' is not defined",
     "output_type": "error",
     "traceback": [
      "\u001b[0;31m---------------------------------------------------------------------------\u001b[0m",
      "\u001b[0;31mNameError\u001b[0m                                 Traceback (most recent call last)",
      "\u001b[0;32m<ipython-input-1-62c17e03ec3c>\u001b[0m in \u001b[0;36m<module>\u001b[0;34m()\u001b[0m\n\u001b[1;32m      1\u001b[0m \u001b[0mcounty_len_dict\u001b[0m \u001b[0;34m=\u001b[0m \u001b[0;34m{\u001b[0m\u001b[0;34m}\u001b[0m\u001b[0;34m\u001b[0m\u001b[0m\n\u001b[1;32m      2\u001b[0m \u001b[0mcounty_aqi_dict\u001b[0m \u001b[0;34m=\u001b[0m \u001b[0;34m{\u001b[0m\u001b[0;34m}\u001b[0m\u001b[0;34m\u001b[0m\u001b[0m\n\u001b[0;32m----> 3\u001b[0;31m \u001b[0;32mfor\u001b[0m \u001b[0msite\u001b[0m \u001b[0;32min\u001b[0m \u001b[0mjdata\u001b[0m\u001b[0;34m[\u001b[0m\u001b[0;34m\"Data\"\u001b[0m\u001b[0;34m]\u001b[0m\u001b[0;34m:\u001b[0m\u001b[0;34m\u001b[0m\u001b[0m\n\u001b[0m\u001b[1;32m      4\u001b[0m     \u001b[0;32mif\u001b[0m \u001b[0msite\u001b[0m\u001b[0;34m[\u001b[0m\u001b[0;34m\"AQI\"\u001b[0m\u001b[0;34m]\u001b[0m \u001b[0;34m!=\u001b[0m \u001b[0;34m\"\"\u001b[0m\u001b[0;34m:\u001b[0m\u001b[0;34m\u001b[0m\u001b[0m\n\u001b[1;32m      5\u001b[0m         \u001b[0;32mif\u001b[0m \u001b[0msite\u001b[0m\u001b[0;34m[\u001b[0m\u001b[0;34m\"CityCode\"\u001b[0m\u001b[0;34m]\u001b[0m \u001b[0;32mnot\u001b[0m \u001b[0;32min\u001b[0m \u001b[0mcounty_len_dict\u001b[0m\u001b[0;34m:\u001b[0m\u001b[0;34m\u001b[0m\u001b[0m\n",
      "\u001b[0;31mNameError\u001b[0m: name 'jdata' is not defined"
     ]
    }
   ],
   "source": [
    "county_len_dict = {}\n",
    "county_aqi_dict = {}\n",
    "for site in jdata[\"Data\"]:\n",
    "    if site[\"AQI\"] != \"\":\n",
    "        if site[\"CityCode\"] not in county_len_dict:\n",
    "            county_len_dict[site[\"CityCode\"]] = 1\n",
    "            county_aqi_dict[site[\"CityCode\"]] = int(site[\"AQI\"])\n",
    "        else:\n",
    "            county_len_dict[site[\"CityCode\"]] += 1\n",
    "            county_aqi_dict[site[\"CityCode\"]] += int(site[\"AQI\"])\n",
    "for county in county_len_dict:\n",
    "    print(county, \"\\t\", county_aqi_dict[county]/float(county_len_dict[county]))"
   ]
  },
  {
   "cell_type": "markdown",
   "metadata": {},
   "source": [
    "# Assignment 1004\n"
   ]
  }
 ],
 "metadata": {
  "kernelspec": {
   "display_name": "Python 3",
   "language": "python",
   "name": "python3"
  },
  "language_info": {
   "codemirror_mode": {
    "name": "ipython",
    "version": 3
   },
   "file_extension": ".py",
   "mimetype": "text/x-python",
   "name": "python",
   "nbconvert_exporter": "python",
   "pygments_lexer": "ipython3",
   "version": "3.6.5"
  },
  "toc": {
   "base_numbering": 1,
   "nav_menu": {},
   "number_sections": true,
   "sideBar": true,
   "skip_h1_title": false,
   "title_cell": "Table of Contents",
   "title_sidebar": "Contents",
   "toc_cell": false,
   "toc_position": {},
   "toc_section_display": true,
   "toc_window_display": true
  }
 },
 "nbformat": 4,
 "nbformat_minor": 2
}
