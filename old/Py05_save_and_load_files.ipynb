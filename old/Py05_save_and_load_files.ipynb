{
 "cells": [
  {
   "cell_type": "markdown",
   "metadata": {},
   "source": [
    "# Save and load files"
   ]
  },
  {
   "cell_type": "markdown",
   "metadata": {},
   "source": [
    "# file and directory path\n",
    "\n",
    "電腦的folder只是一個檔案路徑視覺化的結果，標準會用directory（目錄）來稱呼一個資料夾，而指到一個目錄或檔案的路徑就直稱為路徑（path）。\n",
    "\n",
    "在python中，我們可以用「相對路徑」來讀取檔案。比方說，下列程式碼（本`.ipynb`檔）存取了與同一個目錄中的`data`目錄裡的一個`.csv`檔\n",
    "```\n",
    "with open(\"data/14196_drug_adv.csv\", \"r\") as f:\n",
    "```\n",
    "\n",
    "檔案路徑的標示通常情形分為三種：\n",
    "1. `open(\"temp.csv\", \"r\")`: `temp.csv`和現在這個`.ipynb`檔在同一個目錄底下\n",
    "2. `open(\"data/temp.csv\", \"r\")`: `temp.csv`和`.ipynb`沒有在同一個目錄底下，而是被放在與`.ipynb`同層的一個`data`目錄中。\n",
    "3. `open(\"../data/temp.csv\", \"r\")`: `temp.csv`和`.ipynb`沒有在同一個目錄底下，而是被放在與`.ipynb`外面一層的一個`data`目錄中。\n",
    "\n",
    "所以\n",
    "1. `..`代表往外一層\n",
    "2. `data/data/`代表同一個目錄下有個兩層的data目錄。"
   ]
  },
  {
   "cell_type": "code",
   "execution_count": 1,
   "metadata": {},
   "outputs": [],
   "source": [
    "all_list = []\n",
    "with open(\"data/14196_drug_adv.csv\", \"r\") as f:\n",
    "    for line in f.readlines():\n",
    "        row = line.split(\",\")\n",
    "        all_list.append(row)"
   ]
  }
 ],
 "metadata": {
  "kernelspec": {
   "display_name": "Python 3",
   "language": "python",
   "name": "python3"
  },
  "language_info": {
   "codemirror_mode": {
    "name": "ipython",
    "version": 3
   },
   "file_extension": ".py",
   "mimetype": "text/x-python",
   "name": "python",
   "nbconvert_exporter": "python",
   "pygments_lexer": "ipython3",
   "version": "3.6.5"
  },
  "toc": {
   "base_numbering": 1,
   "nav_menu": {},
   "number_sections": true,
   "sideBar": true,
   "skip_h1_title": false,
   "title_cell": "Table of Contents",
   "title_sidebar": "Contents",
   "toc_cell": false,
   "toc_position": {},
   "toc_section_display": true,
   "toc_window_display": true
  }
 },
 "nbformat": 4,
 "nbformat_minor": 2
}
