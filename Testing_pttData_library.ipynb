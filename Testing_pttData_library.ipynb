{
 "cells": [
  {
   "cell_type": "markdown",
   "metadata": {},
   "source": [
    "- https://github.com/linsamtw/PTTData\n",
    "`pip3 install PTTData`"
   ]
  },
  {
   "cell_type": "code",
   "execution_count": 3,
   "metadata": {
    "ExecuteTime": {
     "end_time": "2019-06-13T16:29:46.845818Z",
     "start_time": "2019-06-13T16:29:44.027269Z"
    }
   },
   "outputs": [
    {
     "name": "stdout",
     "output_type": "stream",
     "text": [
      "Collecting pymysql\n",
      "\u001b[?25l  Downloading https://files.pythonhosted.org/packages/ed/39/15045ae46f2a123019aa968dfcba0396c161c20f855f11dea6796bcaae95/PyMySQL-0.9.3-py2.py3-none-any.whl (47kB)\n",
      "\u001b[K    100% |████████████████████████████████| 51kB 302kB/s ta 0:00:011\n",
      "\u001b[?25hInstalling collected packages: pymysql\n",
      "Successfully installed pymysql-0.9.3\n",
      "\u001b[33mYou are using pip version 19.0.3, however version 19.1.1 is available.\n",
      "You should consider upgrading via the 'pip install --upgrade pip' command.\u001b[0m\n"
     ]
    }
   ],
   "source": [
    "# !pip install PTTData\n",
    "# !pip install --upgrade pip\n",
    "# !pip install pymysql"
   ]
  },
  {
   "cell_type": "code",
   "execution_count": 4,
   "metadata": {
    "ExecuteTime": {
     "end_time": "2019-06-13T16:29:52.755262Z",
     "start_time": "2019-06-13T16:29:51.809550Z"
    }
   },
   "outputs": [
    {
     "data": {
      "text/plain": [
       "'2019-05-15'"
      ]
     },
     "execution_count": 4,
     "metadata": {},
     "output_type": "execute_result"
    }
   ],
   "source": [
    "from PTTData import Load as PTT\n",
    "import datetime\n",
    "date = str( datetime.datetime.now().date() - datetime.timedelta(30))\n",
    "date"
   ]
  },
  {
   "cell_type": "code",
   "execution_count": 5,
   "metadata": {
    "ExecuteTime": {
     "end_time": "2019-06-13T16:30:01.094548Z",
     "start_time": "2019-06-13T16:29:59.230001Z"
    }
   },
   "outputs": [
    {
     "data": {
      "text/plain": [
       "array(['AdvEduUK', 'Anti_Cancer', 'Aquarius', 'Aries', 'Aviation',\n",
       "       'BabyMother', 'BabyProducts', 'Baseball', 'Boy_Girl', 'Bread',\n",
       "       'Broken_heart', 'Cancer', 'Capricornus', 'CarShop', 'Coffee',\n",
       "       'DC_SALE', 'Diary', 'DistantLove', 'Dreamland', 'EngTalk',\n",
       "       'EuropeTravel', 'Finance', 'Food', 'Gemini', 'GetMarry',\n",
       "       'Gossiping', 'HardwareSale', 'Hate', 'Hiking', 'HomeTeach',\n",
       "       'Hsinchu', 'IELTS', 'Ind_travel', 'JapanStudy', 'Japan_Travel',\n",
       "       'Kaohsiung', 'Korea_Travel', 'Leo', 'Libra', 'Lifeismoney', 'Loan',\n",
       "       'Lonely', 'Lucky', 'MacShop', 'MakeUp', 'Marginalman', 'MenTalk',\n",
       "       'MobileComm', 'NBA', 'Oversea_Job', 'PC_Shopping', 'Pisces', 'Sad',\n",
       "       'Sagittarius', 'Salary', 'SayLove', 'Scorpio', 'Self_Healing',\n",
       "       'Soft_Job', 'SorryPub', 'Stock', 'StupidClown', 'TOEFL_iBT',\n",
       "       'TaichungBun', 'Tainan', 'TaiwanJobs', 'Taurus', 'Tech_Job',\n",
       "       'Tour_Agency', 'VISA', 'Virgo', 'WomenTalk', 'WorkanTravel',\n",
       "       'baking', 'biker', 'car', 'chocolate', 'cookclub', 'couple',\n",
       "       'creditcard', 'e_shopping', 'forsale', 'give', 'happy',\n",
       "       'home_sale', 'hotspring', 'isLandTravel', 'job', 'joke', 'love',\n",
       "       'love_vegetal', 'marvel', 'mobilesales', 'movie', 'part_time',\n",
       "       'prozac', 'sex', 'studyabroad', 'talk', 'toberich', 'travel',\n",
       "       'travelbooks'], dtype='<U12')"
      ]
     },
     "execution_count": 5,
     "metadata": {},
     "output_type": "execute_result"
    }
   ],
   "source": [
    "PTT_data_list = PTT.LoadDataList()\n",
    "PTT_data_list"
   ]
  },
  {
   "cell_type": "code",
   "execution_count": 19,
   "metadata": {
    "ExecuteTime": {
     "end_time": "2019-06-05T07:19:58.322961Z",
     "start_time": "2019-06-05T07:18:35.280962Z"
    }
   },
   "outputs": [
    {
     "data": {
      "text/plain": [
       "57350"
      ]
     },
     "execution_count": 19,
     "metadata": {},
     "output_type": "execute_result"
    }
   ],
   "source": [
    "data = PTT.LoadData(table = 'Gossiping',start = '2018-10-01', end = '2018-10-31', select = 'article')\n",
    "len(data)"
   ]
  },
  {
   "cell_type": "code",
   "execution_count": 41,
   "metadata": {
    "ExecuteTime": {
     "end_time": "2019-06-05T07:26:46.588926Z",
     "start_time": "2019-06-05T07:26:46.583442Z"
    }
   },
   "outputs": [],
   "source": [
    "docs = list(data.article)"
   ]
  },
  {
   "cell_type": "code",
   "execution_count": 75,
   "metadata": {
    "ExecuteTime": {
     "end_time": "2019-06-05T07:35:55.826968Z",
     "start_time": "2019-06-05T07:35:55.814303Z"
    }
   },
   "outputs": [
    {
     "data": {
      "text/plain": [
       "3765"
      ]
     },
     "execution_count": 75,
     "metadata": {},
     "output_type": "execute_result"
    }
   ],
   "source": [
    "han_list = []\n",
    "for doc in docs:\n",
    "    if doc is not None and \"韓\" in doc:\n",
    "        han_list.append(doc)\n",
    "len(han_list)"
   ]
  }
 ],
 "metadata": {
  "kernelspec": {
   "display_name": "Python 3",
   "language": "python",
   "name": "python3"
  },
  "language_info": {
   "codemirror_mode": {
    "name": "ipython",
    "version": 3
   },
   "file_extension": ".py",
   "mimetype": "text/x-python",
   "name": "python",
   "nbconvert_exporter": "python",
   "pygments_lexer": "ipython3",
   "version": "3.6.8"
  },
  "toc": {
   "base_numbering": 1,
   "nav_menu": {},
   "number_sections": true,
   "sideBar": true,
   "skip_h1_title": false,
   "title_cell": "Table of Contents",
   "title_sidebar": "Contents",
   "toc_cell": false,
   "toc_position": {
    "height": "calc(100% - 180px)",
    "left": "10px",
    "top": "150px",
    "width": "248px"
   },
   "toc_section_display": true,
   "toc_window_display": true
  }
 },
 "nbformat": 4,
 "nbformat_minor": 2
}
