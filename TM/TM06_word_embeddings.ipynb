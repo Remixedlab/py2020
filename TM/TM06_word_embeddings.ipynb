{
 "cells": [
  {
   "cell_type": "markdown",
   "metadata": {},
   "source": [
    "# Word Embeddings"
   ]
  },
  {
   "cell_type": "markdown",
   "metadata": {},
   "source": [
    "## Load Pre-trained Word Embeddings"
   ]
  },
  {
   "cell_type": "markdown",
   "metadata": {},
   "source": [
    "Load the pre-trained FastText word embedding provided by Facebook. \n",
    "https://github.com/facebookresearch/fastText/blob/master/pretrained-vectors.md\n",
    "\n",
    "This version only contains top 5000 words. "
   ]
  },
  {
   "cell_type": "code",
   "execution_count": 3,
   "metadata": {},
   "outputs": [
    {
     "name": "stdout",
     "output_type": "stream",
     "text": [
      "Number of words: 5000\n"
     ]
    }
   ],
   "source": [
    "# !pip install gensim\n",
    "from gensim.models import KeyedVectors\n",
    "w2v = KeyedVectors.load_word2vec_format(\"wiki.en.5k.vec\", binary=False)\n",
    "print(\"Number of words: %d\" % len(w2v.vocab))"
   ]
  },
  {
   "cell_type": "markdown",
   "metadata": {},
   "source": [
    "## Word Similarity"
   ]
  },
  {
   "cell_type": "code",
   "execution_count": 4,
   "metadata": {},
   "outputs": [
    {
     "name": "stdout",
     "output_type": "stream",
     "text": [
      "[-3.7518e-01  2.9000e-01 -2.3914e-02  2.1455e-01 -5.8593e-02  4.8193e-02\n",
      "  3.1506e-01 -3.9259e-02 -2.7525e-02  5.3540e-01 -2.8230e-01  5.6714e-01\n",
      "  9.3813e-02  9.2664e-02  4.8761e-02 -9.4374e-02  8.4925e-02 -1.9372e-01\n",
      "  6.5348e-01  1.5214e-02 -3.3648e-01 -8.8303e-02 -3.8034e-01 -3.2440e-01\n",
      " -9.3732e-02 -1.5610e-01 -4.6248e-01  1.5584e-01  3.2326e-01  5.3039e-02\n",
      "  3.7053e-02  2.7317e-01 -7.3461e-01 -9.2249e-02 -1.5369e-01  1.9083e-01\n",
      "  8.6497e-02 -4.5127e-03 -2.0048e-01 -1.9983e-01  6.4252e-02  2.3410e-01\n",
      "  2.8670e-02  1.4806e-01  7.9216e-02  1.4361e-01 -2.4750e-01  8.3084e-02\n",
      " -2.8028e-01  6.8699e-02 -2.1377e-01 -4.2123e-01  3.9940e-01  5.9221e-02\n",
      "  1.2218e-01  2.9633e-01  1.3683e-02  1.3073e-01  5.1317e-02 -1.8742e-01\n",
      "  1.7622e-02 -4.7196e-01  2.8897e-01  1.1879e-01 -1.4669e-01  1.4271e-01\n",
      "  2.8189e-02  3.0163e-01  9.7564e-02 -1.4091e-01 -2.6867e-01  1.5017e-01\n",
      "  2.4055e-01 -2.6390e-01 -4.8686e-01  4.1241e-02  5.6252e-02 -6.4265e-02\n",
      "  1.7506e-01 -1.6706e-02  3.5092e-01  1.8170e-01 -1.1316e-01 -2.1886e-01\n",
      " -7.7267e-02 -1.1362e-01 -8.9897e-02  1.3592e-01  2.6297e-01  1.1650e-01\n",
      "  1.4325e-01  8.5233e-02  5.1829e-01 -1.3349e-01  2.2552e-01  2.1011e-02\n",
      " -1.1172e-02 -2.5199e-01  1.7661e-01  1.5065e-01  2.5251e-01 -7.1947e-02\n",
      "  3.2593e-02  1.6568e-01  2.5434e-02  4.1273e-02 -1.2043e-01  1.9151e-01\n",
      "  1.0916e-01  8.2791e-03  8.0645e-02 -8.6830e-02 -2.9643e-01  6.8512e-02\n",
      "  7.8454e-04 -2.4871e-01 -1.8441e-01 -2.2060e-01 -1.9833e-01  5.9674e-02\n",
      "  9.3457e-02 -5.5328e-03 -9.5403e-02  2.2548e-01 -2.9028e-01  8.7934e-02\n",
      " -1.6711e-01 -1.3500e-01 -1.2626e-01  3.6360e-01  5.8987e-02  4.6902e-01\n",
      " -1.6427e-01 -7.2117e-02  6.7542e-02  4.4139e-02 -1.3377e-01  3.8002e-01\n",
      " -2.3986e-02  6.5441e-01  3.2892e-01 -2.3679e-01  5.2041e-01  7.6816e-03\n",
      " -8.0834e-02  3.9328e-01 -1.5020e-01 -6.0676e-02  1.4013e-01 -3.2665e-02\n",
      "  1.0219e-01 -1.3580e-01 -4.9234e-01 -9.0217e-02 -3.9429e-01 -4.2058e-01\n",
      "  2.4903e-01 -5.0369e-02 -2.0456e-01 -1.5288e-02 -9.1494e-03  7.0333e-02\n",
      " -3.7276e-01  7.3085e-02 -5.6994e-03  1.7425e-02 -1.2920e-02 -2.5098e-01\n",
      "  1.3594e-01  2.0295e-01 -1.2952e-01 -1.7483e-01  1.7298e-01 -5.6901e-01\n",
      "  3.2767e-01  2.6931e-01 -2.4921e-02  2.2960e-01  2.4559e-02 -1.8279e-01\n",
      "  1.9382e-01 -9.9037e-02 -1.2924e-01 -7.9143e-03 -2.9852e-02  1.6518e-01\n",
      " -1.4921e-01 -5.2421e-03  2.6834e-01 -3.3291e-01 -3.4595e-01 -8.1510e-03\n",
      "  6.0822e-04  1.4195e-02 -5.4727e-01 -2.2146e-01  1.2647e-01  2.9175e-01\n",
      " -3.6658e-01  1.5511e-01 -5.2920e-02  4.7585e-01 -1.2488e-01 -9.7357e-02\n",
      "  5.8205e-02 -7.8665e-02 -3.9705e-02  4.9378e-02  4.8005e-01 -8.3775e-02\n",
      "  3.7331e-01 -2.2646e-01  2.0837e-01 -2.7248e-01 -2.4062e-01 -5.8130e-02\n",
      " -1.3064e-02 -3.3357e-01 -6.2673e-02 -1.8591e-01 -9.6532e-03  4.2218e-01\n",
      " -2.0384e-02  9.9136e-03 -1.1158e-01  7.5296e-02 -1.7870e-01 -1.7851e-01\n",
      " -6.4300e-02  1.8369e-02 -1.5820e-01 -2.8940e-01  1.2724e-01 -4.2047e-01\n",
      " -4.5396e-02  9.1702e-02  1.0790e-01  2.0359e-01 -3.4684e-01 -2.3394e-02\n",
      "  3.6144e-01  1.8299e-01  1.6680e-01  8.4126e-02 -3.9069e-01  3.2692e-01\n",
      " -1.4871e-01 -1.2071e-01 -5.4178e-02 -9.7344e-02 -5.7430e-02  3.5128e-02\n",
      " -8.6676e-02 -1.3239e-01 -3.1513e-01  1.9565e-01 -1.9557e-01 -2.6499e-01\n",
      " -1.1598e-01  2.0752e-01  7.7503e-02 -7.4465e-03 -4.2686e-01 -3.3447e-01\n",
      " -3.7755e-01 -2.1960e-01 -1.5877e-01 -9.7486e-03  9.8018e-03 -9.7204e-02\n",
      " -5.1198e-01  4.4550e-02 -1.9534e-01  1.7085e-01 -3.0830e-02 -3.2392e-02\n",
      " -2.2419e-01  3.6188e-01 -9.0711e-02 -3.1420e-01  2.4638e-01 -2.2277e-02\n",
      "  1.9827e-03 -1.6628e-01 -1.5777e-02 -1.6151e-01  1.2346e-01  1.1046e-02\n",
      " -4.3662e-02 -1.0843e-01  1.4185e-01  1.1200e-01  1.6129e-01 -8.9137e-02\n",
      "  1.1626e-01 -1.8159e-02  2.2805e-01 -1.0496e-01  4.2678e-01  1.6460e-01]\n"
     ]
    }
   ],
   "source": [
    "print(w2v[\"fast\"])"
   ]
  },
  {
   "cell_type": "code",
   "execution_count": 5,
   "metadata": {},
   "outputs": [
    {
     "name": "stdout",
     "output_type": "stream",
     "text": [
      "[ 9.6523e-03  2.9594e-01  8.7192e-02  1.4251e-02 -6.2758e-01  1.4494e-01\n",
      " -3.1512e-04 -4.3654e-01 -1.4803e-01 -3.5733e-01 -2.8666e-01 -1.9130e-01\n",
      "  9.8917e-02 -2.0994e-01  2.0118e-01 -2.8731e-01  1.0561e-01 -4.0479e-03\n",
      "  5.5040e-01  1.7419e-01 -1.5684e-01  2.4033e-01  1.0947e-01 -1.7691e-02\n",
      " -2.8782e-01  5.1930e-01  2.8683e-01  5.9717e-02 -1.8463e-01 -3.3210e-01\n",
      " -3.2824e-01  2.1625e-01 -1.5339e-01  6.8707e-01 -4.2779e-01  1.6954e-01\n",
      "  1.2408e-01 -3.6369e-01  4.0434e-01  4.6514e-01 -6.4378e-01 -2.6312e-01\n",
      "  1.8545e-01  1.6788e-01  1.3870e-01  6.9593e-02 -7.0434e-02 -4.8797e-02\n",
      " -1.1680e-01 -2.6751e-01  2.0893e-01 -3.1818e-01 -1.1809e-01 -7.2132e-02\n",
      " -4.1897e-01  1.0179e-01 -7.4415e-03  3.5534e-01  7.0169e-02  2.5135e-01\n",
      "  1.2294e-01 -9.1569e-02 -4.0842e-02 -2.3755e-01  5.4077e-02 -2.4699e-01\n",
      " -3.5040e-01 -2.5217e-01  1.2314e-01  3.9869e-02  2.5982e-02 -2.6672e-01\n",
      "  6.1487e-02  5.2644e-02 -3.6487e-01  4.8748e-01  5.0030e-01  3.7484e-01\n",
      "  7.6510e-02  1.4107e-01 -1.2549e-01 -3.0338e-02  3.4975e-02 -3.0483e-01\n",
      " -7.8405e-02 -2.6523e-01 -5.2463e-01  5.4873e-01  3.1705e-02  2.7283e-01\n",
      "  1.8115e-01 -2.1256e-01  2.9584e-01 -1.8590e-01  1.0925e-01  1.8754e-02\n",
      " -5.8304e-01  1.2989e-01 -1.5034e-02 -3.6848e-01  1.4093e-01  1.8796e-01\n",
      "  3.3456e-01 -2.6100e-01 -4.1059e-01  7.0917e-02 -1.1608e-01  3.0808e-01\n",
      "  2.4176e-01  6.4659e-02  8.0909e-03 -2.4954e-01  6.0331e-01 -1.1735e-01\n",
      "  1.5585e-01 -7.4365e-02 -2.3927e-01 -2.0352e-01  2.9225e-01 -2.0683e-01\n",
      "  2.5730e-01 -2.2697e-01 -1.3582e-01  1.2365e-01  5.1500e-01 -3.8673e-02\n",
      " -3.2073e-02 -1.1763e-01 -2.4624e-01 -2.1793e-01  2.1019e-01  4.9852e-02\n",
      "  2.0812e-01 -4.9074e-02  2.1422e-01  2.8391e-01 -2.3564e-01 -1.1722e-01\n",
      " -5.1890e-02  5.0016e-01  1.3438e-01 -1.2130e-02 -1.0971e-01  4.4193e-01\n",
      "  6.6878e-02  3.7237e-01  5.0562e-01 -3.0633e-02  2.7693e-01  3.3441e-01\n",
      "  4.7540e-02 -1.1416e-01 -3.1516e-01  2.9750e-02 -2.7162e-01  1.0309e-01\n",
      "  1.0878e-02 -2.8785e-01  9.3577e-02  2.4536e-01  4.5684e-01  1.6401e-01\n",
      " -3.3714e-01  1.7897e-01  7.0318e-01  4.0167e-02 -5.5359e-02  2.6282e-02\n",
      "  4.7133e-01  3.2762e-01  8.4115e-03 -1.1981e-01 -2.3564e-01 -7.5251e-02\n",
      "  2.5871e-01 -5.9482e-01 -2.5007e-02 -2.1002e-02  3.5705e-01  4.4600e-01\n",
      " -2.6596e-02  5.4596e-03  8.3103e-02 -1.6966e-01  2.0050e-01  4.2837e-02\n",
      "  1.3175e-01 -2.6859e-01  2.3041e-01 -8.2292e-02 -6.7622e-01 -4.4203e-01\n",
      "  2.6781e-01  4.6220e-01 -3.0663e-01 -2.0500e-01  1.4135e-01 -1.8173e-01\n",
      " -4.2665e-01  6.3585e-02  4.4941e-01 -1.0760e-01 -7.5692e-02 -1.2512e-01\n",
      "  3.7174e-01 -5.4252e-01 -1.0888e-01  9.3425e-02  6.7205e-01  3.5517e-01\n",
      "  3.3639e-01 -3.0976e-01  4.5757e-02 -3.8399e-01  5.1915e-02 -3.6973e-01\n",
      "  2.6851e-01 -3.0026e-01 -4.2189e-01  1.0450e-01 -1.5941e-01 -3.9549e-01\n",
      "  2.0662e-01 -7.3999e-02  1.7181e-01 -3.6790e-01 -5.5208e-01 -3.1249e-01\n",
      " -1.7508e-01 -1.6667e-01 -1.4078e-01 -2.5917e-02 -7.5833e-02  2.5673e-01\n",
      "  5.8753e-01 -1.7433e-01  5.6877e-02 -5.6656e-01 -3.0349e-01  5.0024e-02\n",
      "  5.6558e-02  1.4802e-01 -3.7620e-02 -2.2353e-02  1.3057e-01 -8.4798e-03\n",
      "  8.5063e-02  2.7326e-01 -2.1357e-01  2.7458e-01  5.2926e-01 -2.8615e-01\n",
      "  6.3463e-02 -9.7928e-02  3.5179e-01  5.7411e-01 -1.5099e-01 -3.8597e-01\n",
      "  5.1694e-01  2.2451e-01 -5.3734e-02 -1.2494e-01  1.7291e-01 -6.3553e-01\n",
      " -5.0112e-01 -4.3920e-01  2.9727e-01  2.4375e-01  1.2061e-01 -2.1322e-01\n",
      "  1.4090e-01  6.6010e-02 -6.6503e-02 -3.1777e-01 -1.1134e-01 -1.4056e-01\n",
      " -3.0090e-01  3.1443e-01  2.3985e-01  4.8350e-02  1.1584e-01 -3.4514e-02\n",
      "  5.1891e-02 -1.1821e-01  3.3497e-01  2.5008e-01 -7.3015e-02 -1.2232e-01\n",
      " -2.5211e-01  4.0237e-01 -3.9002e-01 -1.5639e-01 -2.0981e-01 -1.4468e-02\n",
      "  5.4258e-03 -1.1084e-01 -2.0970e-01 -2.8378e-01 -2.2145e-02 -2.5031e-01]\n"
     ]
    }
   ],
   "source": [
    "print(w2v[\"taiwan\"])"
   ]
  },
  {
   "cell_type": "code",
   "execution_count": 6,
   "metadata": {},
   "outputs": [
    {
     "ename": "KeyError",
     "evalue": "\"word 'taipei' not in vocabulary\"",
     "output_type": "error",
     "traceback": [
      "\u001b[0;31m---------------------------------------------------------------------------\u001b[0m",
      "\u001b[0;31mKeyError\u001b[0m                                  Traceback (most recent call last)",
      "\u001b[0;32m<ipython-input-6-871e56539298>\u001b[0m in \u001b[0;36m<module>\u001b[0;34m()\u001b[0m\n\u001b[0;32m----> 1\u001b[0;31m \u001b[0mprint\u001b[0m\u001b[0;34m(\u001b[0m\u001b[0mw2v\u001b[0m\u001b[0;34m[\u001b[0m\u001b[0;34m\"taipei\"\u001b[0m\u001b[0;34m]\u001b[0m\u001b[0;34m)\u001b[0m\u001b[0;34m\u001b[0m\u001b[0m\n\u001b[0m",
      "\u001b[0;32m/anaconda3/lib/python3.6/site-packages/gensim/models/keyedvectors.py\u001b[0m in \u001b[0;36m__getitem__\u001b[0;34m(self, entities)\u001b[0m\n\u001b[1;32m    345\u001b[0m         \u001b[0;32mif\u001b[0m \u001b[0misinstance\u001b[0m\u001b[0;34m(\u001b[0m\u001b[0mentities\u001b[0m\u001b[0;34m,\u001b[0m \u001b[0mstring_types\u001b[0m\u001b[0;34m)\u001b[0m\u001b[0;34m:\u001b[0m\u001b[0;34m\u001b[0m\u001b[0m\n\u001b[1;32m    346\u001b[0m             \u001b[0;31m# allow calls like trained_model['office'], as a shorthand for trained_model[['office']]\u001b[0m\u001b[0;34m\u001b[0m\u001b[0;34m\u001b[0m\u001b[0m\n\u001b[0;32m--> 347\u001b[0;31m             \u001b[0;32mreturn\u001b[0m \u001b[0mself\u001b[0m\u001b[0;34m.\u001b[0m\u001b[0mget_vector\u001b[0m\u001b[0;34m(\u001b[0m\u001b[0mentities\u001b[0m\u001b[0;34m)\u001b[0m\u001b[0;34m\u001b[0m\u001b[0m\n\u001b[0m\u001b[1;32m    348\u001b[0m \u001b[0;34m\u001b[0m\u001b[0m\n\u001b[1;32m    349\u001b[0m         \u001b[0;32mreturn\u001b[0m \u001b[0mvstack\u001b[0m\u001b[0;34m(\u001b[0m\u001b[0;34m[\u001b[0m\u001b[0mself\u001b[0m\u001b[0;34m.\u001b[0m\u001b[0mget_vector\u001b[0m\u001b[0;34m(\u001b[0m\u001b[0mentity\u001b[0m\u001b[0;34m)\u001b[0m \u001b[0;32mfor\u001b[0m \u001b[0mentity\u001b[0m \u001b[0;32min\u001b[0m \u001b[0mentities\u001b[0m\u001b[0;34m]\u001b[0m\u001b[0;34m)\u001b[0m\u001b[0;34m\u001b[0m\u001b[0m\n",
      "\u001b[0;32m/anaconda3/lib/python3.6/site-packages/gensim/models/keyedvectors.py\u001b[0m in \u001b[0;36mget_vector\u001b[0;34m(self, word)\u001b[0m\n\u001b[1;32m    463\u001b[0m \u001b[0;34m\u001b[0m\u001b[0m\n\u001b[1;32m    464\u001b[0m     \u001b[0;32mdef\u001b[0m \u001b[0mget_vector\u001b[0m\u001b[0;34m(\u001b[0m\u001b[0mself\u001b[0m\u001b[0;34m,\u001b[0m \u001b[0mword\u001b[0m\u001b[0;34m)\u001b[0m\u001b[0;34m:\u001b[0m\u001b[0;34m\u001b[0m\u001b[0m\n\u001b[0;32m--> 465\u001b[0;31m         \u001b[0;32mreturn\u001b[0m \u001b[0mself\u001b[0m\u001b[0;34m.\u001b[0m\u001b[0mword_vec\u001b[0m\u001b[0;34m(\u001b[0m\u001b[0mword\u001b[0m\u001b[0;34m)\u001b[0m\u001b[0;34m\u001b[0m\u001b[0m\n\u001b[0m\u001b[1;32m    466\u001b[0m \u001b[0;34m\u001b[0m\u001b[0m\n\u001b[1;32m    467\u001b[0m     \u001b[0;32mdef\u001b[0m \u001b[0mwords_closer_than\u001b[0m\u001b[0;34m(\u001b[0m\u001b[0mself\u001b[0m\u001b[0;34m,\u001b[0m \u001b[0mw1\u001b[0m\u001b[0;34m,\u001b[0m \u001b[0mw2\u001b[0m\u001b[0;34m)\u001b[0m\u001b[0;34m:\u001b[0m\u001b[0;34m\u001b[0m\u001b[0m\n",
      "\u001b[0;32m/anaconda3/lib/python3.6/site-packages/gensim/models/keyedvectors.py\u001b[0m in \u001b[0;36mword_vec\u001b[0;34m(self, word, use_norm)\u001b[0m\n\u001b[1;32m    460\u001b[0m             \u001b[0;32mreturn\u001b[0m \u001b[0mresult\u001b[0m\u001b[0;34m\u001b[0m\u001b[0m\n\u001b[1;32m    461\u001b[0m         \u001b[0;32melse\u001b[0m\u001b[0;34m:\u001b[0m\u001b[0;34m\u001b[0m\u001b[0m\n\u001b[0;32m--> 462\u001b[0;31m             \u001b[0;32mraise\u001b[0m \u001b[0mKeyError\u001b[0m\u001b[0;34m(\u001b[0m\u001b[0;34m\"word '%s' not in vocabulary\"\u001b[0m \u001b[0;34m%\u001b[0m \u001b[0mword\u001b[0m\u001b[0;34m)\u001b[0m\u001b[0;34m\u001b[0m\u001b[0m\n\u001b[0m\u001b[1;32m    463\u001b[0m \u001b[0;34m\u001b[0m\u001b[0m\n\u001b[1;32m    464\u001b[0m     \u001b[0;32mdef\u001b[0m \u001b[0mget_vector\u001b[0m\u001b[0;34m(\u001b[0m\u001b[0mself\u001b[0m\u001b[0;34m,\u001b[0m \u001b[0mword\u001b[0m\u001b[0;34m)\u001b[0m\u001b[0;34m:\u001b[0m\u001b[0;34m\u001b[0m\u001b[0m\n",
      "\u001b[0;31mKeyError\u001b[0m: \"word 'taipei' not in vocabulary\""
     ]
    }
   ],
   "source": [
    "print(w2v[\"taipei\"])"
   ]
  },
  {
   "cell_type": "code",
   "execution_count": 15,
   "metadata": {},
   "outputs": [
    {
     "name": "stdout",
     "output_type": "stream",
     "text": [
      "nice good 0.60910374\n",
      "nice bad 0.45045793\n",
      "nice fast 0.27487028\n",
      "good bad 0.6704173\n",
      "red sky 0.33816254\n",
      "yellow sky 0.3600589\n",
      "blue sky 0.46580052\n",
      "tiger lion 0.5232507\n",
      "tiger bird 0.30507407\n",
      "france paris 0.6153761\n",
      "italy paris 0.3688634\n",
      "italy rome 0.64244974\n",
      "paris rome 0.53335226\n",
      "good paris 0.09129018\n"
     ]
    }
   ],
   "source": [
    "print(\"nice\", \"good\", w2v.similarity(\"nice\", \"good\"))\n",
    "print(\"nice\", \"bad\", w2v.similarity(\"nice\", \"bad\"))\n",
    "print(\"nice\", \"fast\", w2v.similarity(\"nice\", \"fast\"))\n",
    "\n",
    "print(\"good\", \"bad\", w2v.similarity(\"good\", \"bad\"))\n",
    "\n",
    "\n",
    "print(\"red\", \"sky\", w2v.similarity(\"red\", \"sky\"))\n",
    "print(\"yellow\", \"sky\", w2v.similarity(\"yellow\", \"sky\"))\n",
    "print(\"blue\", \"sky\", w2v.similarity(\"blue\", \"sky\"))\n",
    "\n",
    "print(\"tiger\", \"lion\", w2v.similarity(\"tiger\", \"lion\"))\n",
    "print(\"tiger\", \"bird\", w2v.similarity(\"tiger\", \"bird\"))\n",
    "\n",
    "print(\"france\", \"paris\", w2v.similarity(\"france\", \"paris\"))\n",
    "print(\"italy\", \"paris\", w2v.similarity(\"italy\", \"paris\"))\n",
    "print(\"italy\", \"rome\", w2v.similarity(\"italy\", \"rome\"))\n",
    "print(\"paris\", \"rome\", w2v.similarity(\"paris\", \"rome\"))\n",
    "print(\"good\", \"paris\", w2v.similarity(\"good\", \"paris\"))"
   ]
  },
  {
   "cell_type": "markdown",
   "metadata": {},
   "source": [
    "Most similar words"
   ]
  },
  {
   "cell_type": "code",
   "execution_count": 16,
   "metadata": {},
   "outputs": [
    {
     "name": "stdout",
     "output_type": "stream",
     "text": [
      "[('excellent', 0.7223856449127197), ('bad', 0.670417308807373), ('nice', 0.6091036796569824), ('better', 0.5967727303504944), ('perfect', 0.5752175450325012), ('reasonable', 0.5712679028511047), ('faith', 0.5607122778892517), ('helpful', 0.5578594207763672), ('poor', 0.5506519079208374), ('definitely', 0.5472526550292969)]\n",
      "[('france', 0.6153761148452759), ('vienna', 0.5634822845458984), ('berlin', 0.5617253184318542), ('london', 0.5515710115432739), ('munich', 0.5390844345092773), ('rome', 0.5333521366119385), ('madrid', 0.5264111757278442), ('moscow', 0.5238058567047119), ('prague', 0.5211637020111084), ('french', 0.5190050601959229)]\n",
      "[('tigers', 0.5982854962348938), ('cats', 0.5247116088867188), ('lion', 0.5232507586479187), ('lions', 0.49344372749328613), ('hamilton', 0.46046364307403564), ('dragon', 0.4476792514324188), ('cat', 0.430864542722702), ('woods', 0.43060770630836487), ('bear', 0.4008936882019043), ('wolf', 0.3999537229537964)]\n",
      "[('left', 0.6660147905349731), ('hand', 0.5235728025436401), ('handed', 0.512216329574585), ('wrong', 0.47229379415512085), ('arm', 0.4591131806373596), ('just', 0.4399382174015045), ('bottom', 0.4254627227783203), ('exactly', 0.4170149564743042), ('align', 0.4089397192001343), ('way', 0.4043542742729187)]\n"
     ]
    }
   ],
   "source": [
    "print(w2v.most_similar(\"good\"))\n",
    "print(w2v.most_similar(\"paris\"))\n",
    "print(w2v.most_similar(\"tiger\"))\n",
    "print(w2v.most_similar(\"right\"))"
   ]
  },
  {
   "cell_type": "markdown",
   "metadata": {},
   "source": [
    "### Analogy"
   ]
  },
  {
   "cell_type": "code",
   "execution_count": 246,
   "metadata": {},
   "outputs": [
    {
     "name": "stdout",
     "output_type": "stream",
     "text": [
      "[('rome', 0.9118089079856873), ('milan', 0.8868755102157593), ('vienna', 0.8417394757270813), ('venice', 0.8385934829711914), ('florence', 0.8238525986671448), ('munich', 0.8000103235244751), ('prague', 0.7927053570747375), ('italian', 0.784573495388031), ('madrid', 0.7796931862831116), ('athens', 0.779522180557251)]\n",
      "[('paris', 1.0550767183303833), ('rome', 0.8601745367050171), ('munich', 0.8483597636222839), ('amsterdam', 0.8383407592773438), ('berlin', 0.8285968899726868), ('venice', 0.8250126242637634), ('french', 0.816684365272522), ('barcelona', 0.8140460848808289), ('england', 0.8124414086341858), ('vienna', 0.8115441799163818)]\n",
      "[('queen', 0.8924742341041565), ('princess', 0.8137582540512085), ('kings', 0.8062561750411987), ('reign', 0.7818456888198853), ('kingdom', 0.7693678736686707), ('throne', 0.7536834478378296), ('royal', 0.7402398586273193), ('prince', 0.7384786605834961), ('crown', 0.7332648634910583), ('elizabeth', 0.7213146090507507)]\n",
      "[('tea', 0.8334957361221313), ('beer', 0.8212700486183167), ('sugar', 0.8099021315574646), ('milk', 0.7977915406227112), ('wine', 0.7942050099372864), ('fruit', 0.7887060046195984), ('food', 0.7804027795791626), ('rice', 0.7542923092842102), ('restaurant', 0.7530092597007751), ('restaurants', 0.7307345271110535)]\n",
      "[('vehicles', 0.9059292674064636), ('cars', 0.9036244750022888), ('vehicle', 0.8967863917350769), ('motor', 0.8891515731811523), ('locomotives', 0.8754465579986572), ('engines', 0.8740256428718567), ('passenger', 0.8730894327163696), ('engine', 0.8665420413017273), ('diesel', 0.863068163394928), ('car', 0.8622881770133972)]\n",
      "[('good', 0.8663628101348877), ('wrong', 0.8139792680740356), ('hoax', 0.8080533146858215), ('poor', 0.7989814877510071), ('worse', 0.794325590133667), ('nothing', 0.7809121012687683), ('just', 0.7766373157501221), ('obviously', 0.7740558981895447), ('faith', 0.7691490650177002), ('plenty', 0.7675331234931946)]\n",
      "[('excellent', 0.8916696310043335), ('plenty', 0.8705934286117554), ('interesting', 0.8577498197555542), ('bad', 0.842410147190094), ('quick', 0.8329883217811584), ('nice', 0.828903317451477), ('better', 0.827112078666687), ('definitely', 0.8242558836936951), ('poor', 0.813267171382904), ('nothing', 0.8125601410865784)]\n"
     ]
    }
   ],
   "source": [
    "#  France : Paris = Italy : ?\n",
    "#  Pairs - France + Italy\n",
    "print(w2v.most_similar_cosmul([\"paris\", \"italy\"], [\"france\"]))\n",
    "\n",
    "#  UK : London = France : ?\n",
    "print(w2v.most_similar_cosmul([\"london\", \"france\"], [\"uk\"]))\n",
    "\n",
    "#  Male : King = Female :？\n",
    "print(w2v.most_similar_cosmul([\"king\", \"female\"], [\"male\"]))\n",
    "\n",
    "#  Black : Coffee  = Red : ?\n",
    "print(w2v.most_similar_cosmul([\"coffee\", \"red\"], [\"black\"]))\n",
    "\n",
    "#  Wing : Aircraft = Wheel : ?\n",
    "print(w2v.most_similar_cosmul([\"aircraft\", \"wheel\"], [\"wing\"]))\n",
    "\n",
    "#  Microsoft : Google = Bad : ?\n",
    "print(w2v.most_similar_cosmul([\"google\", \"bad\"], [\"microsoft\"]))\n",
    "\n",
    "#  Microsoft : Google = Good : ?\n",
    "print(w2v.most_similar_cosmul([\"google\", \"good\"], [\"microsoft\"]))\n"
   ]
  },
  {
   "cell_type": "markdown",
   "metadata": {},
   "source": [
    "## Train Word Embeddings"
   ]
  },
  {
   "cell_type": "markdown",
   "metadata": {},
   "source": [
    "Load a corpus. "
   ]
  },
  {
   "cell_type": "code",
   "execution_count": 248,
   "metadata": {},
   "outputs": [
    {
     "name": "stdout",
     "output_type": "stream",
     "text": [
      "Number of characters: 2221405\n"
     ]
    }
   ],
   "source": [
    "with open(\"wealth_of_nations.txt\", encoding=\"utf8\") as fin:\n",
    "    text = fin.read()\n",
    "print(\"Number of characters: %d\" % len(text))"
   ]
  },
  {
   "cell_type": "markdown",
   "metadata": {},
   "source": [
    "## Preprocessing"
   ]
  },
  {
   "cell_type": "markdown",
   "metadata": {},
   "source": [
    "### Sentence Tokenization"
   ]
  },
  {
   "cell_type": "code",
   "execution_count": 249,
   "metadata": {},
   "outputs": [
    {
     "name": "stdout",
     "output_type": "stream",
     "text": [
      "[nltk_data] Downloading package punkt to /home/hhhuang/nltk_data...\n",
      "[nltk_data]   Package punkt is already up-to-date!\n",
      "[nltk_data] Downloading package averaged_perceptron_tagger to\n",
      "[nltk_data]     /home/hhhuang/nltk_data...\n",
      "[nltk_data]   Package averaged_perceptron_tagger is already up-to-\n",
      "[nltk_data]       date!\n",
      "Number of sentences: 11914\n",
      "﻿AN INQUIRY INTO THE NATURE AND CAUSES OF THE WEALTH OF NATIONS.\n",
      "By Adam Smith\n",
      "\n",
      "\n",
      "\n",
      "\n",
      "INTRODUCTION AND PLAN OF THE WORK.\n",
      "['\\ufeffAN INQUIRY INTO THE NATURE AND CAUSES OF THE WEALTH OF NATIONS.', 'By Adam Smith\\n\\n\\n\\n\\nINTRODUCTION AND PLAN OF THE WORK.']\n",
      "Each individual becomes\n",
      "more expert in his own peculiar branch, more work is done upon the\n",
      "whole, and the quantity of science is considerably increased by it.\n"
     ]
    }
   ],
   "source": [
    "import nltk\n",
    "nltk.download('punkt')\n",
    "nltk.download('averaged_perceptron_tagger')\n",
    "from nltk.tokenize import sent_tokenize\n",
    "\n",
    "sents = sent_tokenize(text)\n",
    "print(\"Number of sentences: %d\" % len(sents))\n",
    "\n",
    "print(sents[0])\n",
    "print(sents[1])\n",
    "\n",
    "print(sents[:2])\n",
    "\n",
    "print(sents[100])"
   ]
  },
  {
   "cell_type": "markdown",
   "metadata": {},
   "source": [
    "### Word Tokenization"
   ]
  },
  {
   "cell_type": "code",
   "execution_count": 250,
   "metadata": {},
   "outputs": [
    {
     "name": "stdout",
     "output_type": "stream",
     "text": [
      "['\\ufeffan', 'inquiry', 'into', 'the', 'nature', 'and', 'causes', 'of', 'the', 'wealth', 'of', 'nations', '.']\n",
      "['by', 'adam', 'smith', 'introduction', 'and', 'plan', 'of', 'the', 'work', '.']\n",
      "['each', 'individual', 'becomes', 'more', 'expert', 'in', 'his', 'own', 'peculiar', 'branch', ',', 'more', 'work', 'is', 'done', 'upon', 'the', 'whole', ',', 'and', 'the', 'quantity', 'of', 'science', 'is', 'considerably', 'increased', 'by', 'it', '.']\n"
     ]
    }
   ],
   "source": [
    "from nltk.corpus import stopwords\n",
    "stopword_list = stopwords.words('english')\n",
    "\n",
    "from nltk.tokenize import word_tokenize\n",
    "\n",
    "sent_tokens = []\n",
    "for sent in sents:\n",
    "    sent_tokens.append(word_tokenize(sent.lower()))\n",
    "\n",
    "print(sent_tokens[0])\n",
    "print(sent_tokens[1])\n",
    "print(sent_tokens[100])\n"
   ]
  },
  {
   "cell_type": "markdown",
   "metadata": {},
   "source": [
    "## Train Word2Vec"
   ]
  },
  {
   "cell_type": "code",
   "execution_count": 251,
   "metadata": {
    "collapsed": true
   },
   "outputs": [],
   "source": [
    "from gensim.models import Word2Vec\n",
    "model = Word2Vec(sent_tokens, min_count=5, size=100, sg=1, hs=1, negative=5, iter=10)"
   ]
  },
  {
   "cell_type": "code",
   "execution_count": 252,
   "metadata": {},
   "outputs": [
    {
     "name": "stdout",
     "output_type": "stream",
     "text": [
      "[  4.60362583e-01   6.39535785e-01   2.04955935e-01   7.02492371e-02\n",
      "  -2.09134176e-01  -1.59309939e-01   6.65942967e-01   5.32595143e-02\n",
      "   3.25319260e-01   5.38660586e-01   4.21536922e-01   2.41224051e-01\n",
      "  -4.18766409e-01  -1.91352970e-03   2.37767380e-02   2.90381551e-01\n",
      "  -1.72626093e-01  -3.30833167e-01  -1.71195582e-01  -5.93908012e-01\n",
      "  -7.79925734e-02   6.05709493e-01  -1.10002756e-01   5.02286196e-01\n",
      "  -1.96098164e-01  -3.60251844e-01   3.18466306e-01  -1.11539602e-01\n",
      "  -1.89683270e-02   2.76317328e-01   1.30560189e-01   3.86668354e-01\n",
      "  -5.06417453e-01   2.42121562e-01   1.65266275e-01   6.27802253e-01\n",
      "   2.28064805e-01   1.05321097e+00  -1.40832454e-01   2.34805107e-01\n",
      "   5.09088933e-01  -2.42654935e-01   9.66440737e-02  -3.19354057e-01\n",
      "  -5.59546351e-01   4.51132096e-02   2.48230547e-01  -3.36633399e-02\n",
      "   4.29330736e-01   1.71067029e-01  -1.30049378e-01  -2.06958324e-01\n",
      "  -3.13035659e-02  -5.56987882e-01   2.74091452e-01  -1.95177346e-01\n",
      "  -4.89114958e-04  -1.20115422e-01   4.19248670e-01  -4.23634976e-01\n",
      "  -5.37592173e-01  -3.21276665e-01  -1.47498250e-01  -2.19905376e-01\n",
      "   1.44985601e-01  -1.90337330e-01   4.55051214e-01  -8.00901592e-01\n",
      "   1.03907323e+00  -4.73322839e-01  -3.17472458e-01  -2.12111339e-01\n",
      "  -1.28482327e-01  -5.88996768e-01   1.37879401e-01  -3.97836655e-01\n",
      "   1.04100198e-01   1.80932105e-01  -1.44065276e-01   4.08001423e-01\n",
      "   3.83697093e-01   5.45697212e-02   1.33159041e-01  -1.26420736e-01\n",
      "   1.75474845e-02   2.54808486e-01  -8.28975260e-01   5.30140638e-01\n",
      "  -4.92317826e-02   4.87783514e-02  -3.51787694e-02  -1.52100012e-01\n",
      "   2.87901074e-01   9.47769761e-01   3.68247241e-01  -4.25414294e-01\n",
      "  -6.41476870e-01  -3.11188966e-01  -1.38565868e-01  -1.64213747e-01]\n",
      "100\n"
     ]
    }
   ],
   "source": [
    "print(model[\"class\"])\n",
    "\n",
    "print(len(model[\"class\"]))"
   ]
  },
  {
   "cell_type": "code",
   "execution_count": 253,
   "metadata": {},
   "outputs": [
    {
     "name": "stdout",
     "output_type": "stream",
     "text": [
      "Number of words: 3976\n"
     ]
    }
   ],
   "source": [
    "print(\"Number of words: %d\" % len(model.wv.vocab))"
   ]
  },
  {
   "cell_type": "markdown",
   "metadata": {},
   "source": [
    "## Similarity"
   ]
  },
  {
   "cell_type": "code",
   "execution_count": 254,
   "metadata": {},
   "outputs": [
    {
     "name": "stdout",
     "output_type": "stream",
     "text": [
      "[('riches', 0.603710412979126), ('population', 0.5929688811302185), ('greatness', 0.5897786617279053), ('prosperity', 0.5635780096054077), ('scantiness', 0.5582976937294006), ('real', 0.556060254573822), ('increase', 0.5465716123580933), ('abundance', 0.5330773591995239), ('flourishing', 0.5221944451332092), ('augment', 0.517676830291748)]\n",
      "[('nations', 0.6831791400909424), ('monarchy', 0.5259580612182617), ('civilized', 0.5026169419288635), ('militia', 0.5007185935974121), ('tartar', 0.4926064908504486), ('country', 0.4818142056465149), ('barbarous', 0.4749574661254883), ('chinese', 0.4625200033187866), ('husbandmen', 0.4524790048599243), ('national', 0.44531217217445374)]\n",
      "[('holders', 0.5818991661071777), ('paper', 0.5673460960388184), ('currency', 0.5600569248199463), ('bank', 0.5552958846092224), ('nominal', 0.5460468530654907), ('sum', 0.5429784655570984), ('receipts', 0.5371195077896118), ('bullion', 0.5344173908233643), ('issuing', 0.517709493637085), ('receipt', 0.5120026469230652)]\n"
     ]
    }
   ],
   "source": [
    "print(model.most_similar(\"wealth\"))\n",
    "print(model.most_similar(\"nation\"))\n",
    "print(model.most_similar(\"money\"))"
   ]
  },
  {
   "cell_type": "code",
   "execution_count": 226,
   "metadata": {},
   "outputs": [
    {
     "name": "stdout",
     "output_type": "stream",
     "text": [
      "Distance between class and classes: 0.434105\n",
      "Distance between country and national: 0.522064\n",
      "Distance between rich and poor: 0.638376\n"
     ]
    }
   ],
   "source": [
    "print(\"Distance between %s and %s: %f\" % (\"class\", \"classes\", model.similarity(\"class\", \"classes\")))\n",
    "print(\"Distance between %s and %s: %f\" % (\"country\", \"national\", model.similarity(\"country\", \"nation\")))\n",
    "print(\"Distance between %s and %s: %f\" % (\"rich\", \"poor\", model.similarity(\"rich\", \"poor\")))"
   ]
  },
  {
   "cell_type": "code",
   "execution_count": 266,
   "metadata": {},
   "outputs": [
    {
     "name": "stdout",
     "output_type": "stream",
     "text": [
      "[('labourer', 0.8894832730293274), ('real', 0.8498735427856445), ('degrade', 0.8256235718727112), ('tenant', 0.8214815855026245), ('raise', 0.807263970375061), ('land', 0.8030595183372498), ('everybody', 0.7984280586242676), ('ignorance', 0.7888776063919067), ('rent', 0.7879635691642761), ('planter', 0.785340428352356)]\n"
     ]
    }
   ],
   "source": [
    "#  Capital : Landlord = Labour : ?\n",
    "print(model.most_similar_cosmul([\"landlord\", \"labour\"], [\"capital\"]))"
   ]
  },
  {
   "cell_type": "markdown",
   "metadata": {},
   "source": [
    "## Visualization"
   ]
  },
  {
   "cell_type": "code",
   "execution_count": 269,
   "metadata": {},
   "outputs": [],
   "source": [
    "%matplotlib inline\n",
    "import matplotlib.pyplot as plt"
   ]
  },
  {
   "cell_type": "code",
   "execution_count": 276,
   "metadata": {},
   "outputs": [
    {
     "data": {
      "image/png": "[encoded data removed]",
      "text/plain": [
       "<Figure size 432x288 with 1 Axes>"
      ]
     },
     "metadata": {},
     "output_type": "display_data"
    }
   ],
   "source": [
    "plt.scatter(x=[1, 3], y=[-2, 4])\n",
    "plt.axis('equal');"
   ]
  },
  {
   "cell_type": "markdown",
   "metadata": {},
   "source": [
    "## Principal Component Analysis"
   ]
  },
  {
   "cell_type": "code",
   "execution_count": 313,
   "metadata": {},
   "outputs": [
    {
     "data": {
      "text/plain": [
       "PCA(copy=True, iterated_power='auto', n_components=2, random_state=None,\n",
       "  svd_solver='auto', tol=0.0, whiten=False)"
      ]
     },
     "execution_count": 313,
     "metadata": {},
     "output_type": "execute_result"
    }
   ],
   "source": [
    "from sklearn.decomposition import PCA\n",
    "pca = PCA(n_components=2)\n",
    "\n",
    "words = [\"landlord\", \"labour\", \"labourer\", \"class\", \"rich\", \"money\", \"wealth\", \"farmer\"]\n",
    "X = []\n",
    "for word in words:\n",
    "    X.append(model[word])\n",
    "pca.fit(X)"
   ]
  },
  {
   "cell_type": "code",
   "execution_count": 314,
   "metadata": {},
   "outputs": [
    {
     "name": "stdout",
     "output_type": "stream",
     "text": [
      "[[-1.55475747  0.71801456]\n",
      " [ 0.55210951  0.15809895]\n",
      " [-0.93189029 -0.02882513]\n",
      " [ 2.19046523  2.30629535]\n",
      " [ 0.42683729 -1.00036743]\n",
      " [-0.81319616 -1.15857369]\n",
      " [ 1.55912344 -2.00342462]\n",
      " [-1.42869155  1.00878202]]\n"
     ]
    }
   ],
   "source": [
    "points = pca.transform(X)\n",
    "\n",
    "print(points)"
   ]
  },
  {
   "cell_type": "code",
   "execution_count": 315,
   "metadata": {},
   "outputs": [
    {
     "data": {
      "image/png": "[encoded data removed]",
      "text/plain": [
       "<Figure size 432x288 with 1 Axes>"
      ]
     },
     "metadata": {},
     "output_type": "display_data"
    }
   ],
   "source": [
    "for i in range(len(points)):\n",
    "    label = words[i]\n",
    "    x = points[i][0]\n",
    "    y = points[i][1]\n",
    "    plt.scatter(x, y)\n",
    "    plt.annotate(label, xy=(x, y))\n",
    "plt.axis('equal');"
   ]
  },
  {
   "cell_type": "code",
   "execution_count": 316,
   "metadata": {},
   "outputs": [
    {
     "data": {
      "image/png": "[encoded data removed]",
      "text/plain": [
       "<Figure size 432x288 with 1 Axes>"
      ]
     },
     "metadata": {},
     "output_type": "display_data"
    }
   ],
   "source": [
    "from sklearn.decomposition import PCA\n",
    "pca = PCA(n_components=2)\n",
    "\n",
    "words = [\"france\", \"usa\", \"uk\", \"china\", \"taiwan\", \"german\", \"italy\", \"ireland\", \"england\", \"scotland\", \"japan\", \"india\", \"russia\"]\n",
    "X = []\n",
    "for word in words:\n",
    "    X.append(w2v[word])\n",
    "pca.fit(X)\n",
    "points = pca.transform(X)\n",
    "\n",
    "for i in range(len(points)):\n",
    "    label = words[i]\n",
    "    x = points[i][0]\n",
    "    y = points[i][1]\n",
    "    plt.scatter(x, y)\n",
    "    plt.annotate(label, xy=(x, y))\n",
    "plt.axis('equal');"
   ]
  }
 ],
 "metadata": {
  "kernelspec": {
   "display_name": "Python 3",
   "language": "python",
   "name": "python3"
  },
  "language_info": {
   "codemirror_mode": {
    "name": "ipython",
    "version": 3
   },
   "file_extension": ".py",
   "mimetype": "text/x-python",
   "name": "python",
   "nbconvert_exporter": "python",
   "pygments_lexer": "ipython3",
   "version": "3.6.8"
  },
  "toc": {
   "base_numbering": 1,
   "nav_menu": {},
   "number_sections": true,
   "sideBar": true,
   "skip_h1_title": false,
   "title_cell": "Table of Contents",
   "title_sidebar": "Contents",
   "toc_cell": false,
   "toc_position": {},
   "toc_section_display": true,
   "toc_window_display": true
  }
 },
 "nbformat": 4,
 "nbformat_minor": 1
}
