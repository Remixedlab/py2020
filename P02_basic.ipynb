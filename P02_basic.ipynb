{
 "cells": [
  {
   "cell_type": "markdown",
   "metadata": {},
   "source": [
    "# Index\n",
    "1. Print and print format\n",
    "2. Variables and data types\n",
    "5. Arithemetic operations including converting variable types"
   ]
  },
  {
   "cell_type": "markdown",
   "metadata": {},
   "source": [
    "# print\n",
    "* 可用於印出字串或數字\n",
    "* 若是數字是一個「運算式」的話，那會印出運算式的結果。"
   ]
  },
  {
   "cell_type": "code",
   "execution_count": 1,
   "metadata": {},
   "outputs": [
    {
     "name": "stdout",
     "output_type": "stream",
     "text": [
      "hello world\n",
      "hello world\n",
      "\"hello world\"\n",
      "----------------------------------------------------------------------------------------------------\n",
      "123\n",
      "19311\n",
      "123*345-(188*123) = \n"
     ]
    }
   ],
   "source": [
    "print('hello world') #字串 String\n",
    "print(\"hello world\") #string\n",
    "print('\"hello world\"')\n",
    "print('-'*100)\n",
    "print(123) # number\n",
    "print(123*345-(188*123)) # number\n",
    "print(\"123*345-(188*123) = \")"
   ]
  },
  {
   "cell_type": "markdown",
   "metadata": {},
   "source": [
    "## 列印多筆資料或多項變數\n",
    "「__,__」 可用於列印出各種資料，一個接著一個地列印。逗點表示，白話來說，接下去印的意思。"
   ]
  },
  {
   "cell_type": "code",
   "execution_count": 2,
   "metadata": {},
   "outputs": [
    {
     "name": "stdout",
     "output_type": "stream",
     "text": [
      "123*345-(188*123) =  19311\n",
      "My name is  jilung hsieh my age is  36\n"
     ]
    }
   ],
   "source": [
    "print(\"123*345-(188*123) = \", 123*345-(188*123))\n",
    "print(\"My name is \", 'jilung hsieh', 'my age is ', 36)"
   ]
  },
  {
   "cell_type": "markdown",
   "metadata": {},
   "source": [
    "## Escape code 換行符號或tab\n",
    "* [Escape code](https://docs.python.org/2/reference/lexical_analysis.html)遇到這些字的時候，相當於你打開docx檔案時，他問你要不要顯示隱藏字元時的那個隱藏字元。word在換行的時候（也就是你按下Enter的時候）也都會加上換行符號（也就是\"\\n\"）。\n",
    "    * \"\\t\" --> tab\n",
    "    * \"\\n\" --> new line\n",
    "* 每個print結束後都預設print一個換行符號（\\n），若加上一個逗號（,）代表尚未結束，就不會print該換行符號"
   ]
  },
  {
   "cell_type": "code",
   "execution_count": 3,
   "metadata": {},
   "outputs": [
    {
     "name": "stdout",
     "output_type": "stream",
     "text": [
      "\tMy name is  jilung hsieh\n",
      " \tmy age is  36\n"
     ]
    }
   ],
   "source": [
    "print(\"\\tMy name is \", 'jilung hsieh\\n', '\\tmy age is ', 36)"
   ]
  },
  {
   "cell_type": "markdown",
   "metadata": {},
   "source": [
    "# Variable 變數\n",
    "\n",
    "## Assignment  =\n",
    "\n",
    "* 在幾乎所有的程式語言中，`=`的記號均為assignment，意是把右方演算的結果，Assign（指派）給左方的變數。是的，左方幾乎都是變數。\n",
    "* p.s.如果想要在程式語言中表達「相等」，通常是連續兩個等號`==`，例如`1/2 == 4/2`，為邏輯運算式，邏輯運算的結果會得到`true`或`false`。\n",
    "* Assignment的使用可以多對多，例如`a, b = 1, '2'`\n",
    "\n",
    "## Naming of variable 變數的命名規則\n",
    "\n",
    "* 不可用數字開始，例如`123b = 13a + 14b`。當然也不可以是中文。\n",
    "* 中間不得有空白，例如`my book = 13a + 14b` (why?)\n",
    "* 不可使用[reserved word](https://docs.python.org/2.5/ref/keywords.html)(why?)   \n",
    "* 關於Python程式寫作的風格，可參考[PEP 0008](https://www.python.org/dev/peps/pep-0008/)，其中，[Naming conventions](https://www.python.org/dev/peps/pep-0008/#naming-conventions)一節有提到變數要如何命名。\n",
    "    * 若全部是大寫的，多半是常數，例如最大寬度、PI的值。\n",
    "    * 若是底線開頭的，應該是區域變數（Local variable，你還不用知道）"
   ]
  },
  {
   "cell_type": "code",
   "execution_count": 4,
   "metadata": {},
   "outputs": [],
   "source": [
    "a = 3\n",
    "b = 4\n",
    "c = a + b\n",
    "_a, _b, _c = 1, 2, 3\n",
    "MAXWIDTH = 60\n",
    "# and, for = 1, 2\n",
    "# print and, for"
   ]
  },
  {
   "cell_type": "code",
   "execution_count": 5,
   "metadata": {},
   "outputs": [
    {
     "name": "stdout",
     "output_type": "stream",
     "text": [
      "3 2\n"
     ]
    }
   ],
   "source": [
    "a, b = 2, 3\n",
    "a, b = b, a\n",
    "print a, b"
   ]
  },
  {
   "cell_type": "markdown",
   "metadata": {},
   "source": [
    "## Data type 資料型態、變數型態\n",
    "* `list`, `dictionary`是python這個程式語言的內建資料型態。請參閱[5. Built-in Types](https://docs.python.org/2/library/stdtypes.html)\n",
    "* 上述章節中一共有以下幾種資料型態\n",
    "    * 真偽True and false\n",
    "    * 數值Numeric Types— `int`(整數), `float`(有小數點的), long, complex\n",
    "    * 序列Sequence Types— `str`(文字字串), unicode, `list`, `tuple`, bytearray, buffer, xrange\n",
    "    * 集合Set Types— `set`, frozenset\n",
    "    * 對應Mapping Types— `dict`\n",
    "    * 檔案File Objects\n",
    "* 範例\n",
    "    * string: e.g., `a = '12.3'`\n",
    "    * floating point number: e.g., `b = 12.3`\n",
    "    * integer: e.g., `c = 123`\n",
    "    * list: `alist = []`\n",
    "    * dictionary: `bdict = {1:2, 3:4, '5':6, '7':'8', 9:'10.11', 12:[13, 14, 15], 13:{14:'15', '16':[17, 18]}}`\n",
    "    * tuple: `ab = (1, 2, 3)`"
   ]
  },
  {
   "cell_type": "markdown",
   "metadata": {},
   "source": [
    "## 變數型態的確定：使用Assignment\n",
    "* 變數使用Assignment（指派）來讓程式知道該變數的變數型態為何。右側的運算必然會產生一個某種變數型態的值，當把這樣的變數型態assign給左側的變數時，左側的變數便會自動被設定為該型態。\n",
    "* 下例把`a = 2`，那麼`a`就是整數的`2`；若是`a = 2.0`，那麼`a`就會是浮點數（floating point，也就是有小數點的）的`a`。\n",
    "* 一定是把右方的內容（右方可能是數值也可能是變數）指定給左方的變數。"
   ]
  },
  {
   "cell_type": "code",
   "execution_count": 3,
   "metadata": {
    "ExecuteTime": {
     "end_time": "2020-02-22T14:10:36.293269Z",
     "start_time": "2020-02-22T14:10:36.289458Z"
    }
   },
   "outputs": [],
   "source": [
    "a = 2 # integer\n",
    "b = 3.0 # floating point number\n",
    "c = '1.123' # string\n",
    "d = \"2\" # string"
   ]
  },
  {
   "cell_type": "code",
   "execution_count": null,
   "metadata": {},
   "outputs": [],
   "source": [
    "# assign the right part to left part\n",
    "a = a + b\n",
    "print a, b"
   ]
  },
  {
   "cell_type": "markdown",
   "metadata": {},
   "source": [
    "## type()可用以確認變數型態"
   ]
  },
  {
   "cell_type": "code",
   "execution_count": 2,
   "metadata": {
    "ExecuteTime": {
     "end_time": "2020-02-22T14:10:33.650103Z",
     "start_time": "2020-02-22T14:10:33.641249Z"
    }
   },
   "outputs": [
    {
     "name": "stdout",
     "output_type": "stream",
     "text": [
      "<class 'int'>\n",
      "1.0\n",
      "1\n",
      "<class 'str'>\n",
      "<class 'str'> <class 'int'> <class 'float'>\n",
      "<class 'list'> <class 'dict'>\n"
     ]
    }
   ],
   "source": [
    "a = 1 # integer\n",
    "b = 1 # floating point number\n",
    "c = '1.123' # string\n",
    "d = \"1\" # string\n",
    "print(type(int(str(a))))\n",
    "print(float(a))\n",
    "print(int(float(c))) # string\n",
    "print(type(d)) # string\n",
    "\n",
    "a, b, c = '2', 2, 2.0\n",
    "print(type(a), type(b), type(c))\n",
    "\n",
    "d, e = [], {}\n",
    "print(type(d), type(e))"
   ]
  },
  {
   "cell_type": "markdown",
   "metadata": {},
   "source": [
    "## 變數型態的轉換\n",
    "* 變數可以用`int()`、`float()`和`str()`在彼此間轉換（左側為最常用的三個）。\n",
    "* 但要注意的是，`float()`相當於是有小數點的數字，若被`int()`強制轉換，會伴隨精確度的流失。例如`a = int(2.3)`會只剩下`2`，且沒辦法復原。\n",
    "* 如果將`integer`乘上`float`的話，整個變數會變成`float`。如下面的例子中，type將會是`float`。\n",
    "```\n",
    "a = 3\n",
    "print(type(a * 3.0))\n",
    "```"
   ]
  },
  {
   "cell_type": "code",
   "execution_count": 16,
   "metadata": {},
   "outputs": [
    {
     "name": "stdout",
     "output_type": "stream",
     "text": [
      "2\n",
      "<class 'int'>\n",
      "6.0\n",
      "<class 'float'>\n"
     ]
    }
   ],
   "source": [
    "a1 = 2.3\n",
    "a2 = int(a1)\n",
    "print(a2)\n",
    "print(type(a2))\n",
    "b1 = float(a2 * 3)\n",
    "print(b1)\n",
    "print(type(a2 * 3.0))"
   ]
  },
  {
   "cell_type": "markdown",
   "metadata": {},
   "source": [
    "## print formatting 依照變數型態和位置列印內容\n",
    "* [String print formatting](https://docs.python.org/2/library/string.html)。以`print(\"my name is %s, age %s\"%(name, 36.1234567))`為例，其表示要將後面那兩個變數或者數值的內容，放到前面兩個%s的位置，且%s是表示，要用字串來輸出。\n",
    "    * __`%d`__ means printing as decimal number\n",
    "    * __`%s`__ means printing as string\n",
    "    * __`%f`__ means print as floating point number\n",
    "* 你可以參考這篇[PyFormat](https://pyformat.info/)來了解__`%d`__和__`.format()`__另外一種print formatting的寫法。\n",
    "\n",
    "### python 3.x way\n",
    "* https://docs.python.org/3/tutorial/inputoutput.html"
   ]
  },
  {
   "cell_type": "code",
   "execution_count": null,
   "metadata": {},
   "outputs": [],
   "source": [
    "name = \"JILUNG HSIEH\"\n",
    "age = 38\n",
    "print(\"Your name is \", name)\n",
    "print(\"Your name is %s ! Your age is %s! \"%(name, age))\n",
    "print(\"Your name is %s ! You age is %s\"%('jilung', 38)) # 38 is converted to string"
   ]
  },
  {
   "cell_type": "code",
   "execution_count": 21,
   "metadata": {},
   "outputs": [
    {
     "name": "stdout",
     "output_type": "stream",
     "text": [
      "Your name is  JILUNG HSIEH\n",
      "Your name is JILUNG HSIEH ! Your age is 38! \n",
      "Your name is jilung ! You age is 38\n",
      "Your name is HSIEH JILUNG ! Your age is 38\n",
      "Your name is JILUNG HSIEH and age 38\n",
      "Your name is JILUNG HSIEH         and age                   38\n"
     ]
    }
   ],
   "source": [
    "print(\"Your name is {} ! Your age is {}\".format(\"HSIEH JILUNG\", \"38\"))\n",
    "print(f\"Your name is {name} and age {age}\")\n",
    "print(\"Your name is {:20} and age {:20}\".format(name, age))"
   ]
  },
  {
   "cell_type": "markdown",
   "metadata": {},
   "source": [
    "### 常見錯誤：前面字串中所預留的位置和後面所欲帶入的變數／數值數量若不相同會怎樣？\n",
    "\n",
    "例如下面這個例子中，後面的arguments只有一個，前面則有兩個formatted slot。"
   ]
  },
  {
   "cell_type": "code",
   "execution_count": 23,
   "metadata": {},
   "outputs": [
    {
     "ename": "TypeError",
     "evalue": "not enough arguments for format string",
     "output_type": "error",
     "traceback": [
      "\u001b[0;31m---------------------------------------------------------------------------\u001b[0m",
      "\u001b[0;31mTypeError\u001b[0m                                 Traceback (most recent call last)",
      "\u001b[0;32m<ipython-input-23-493e0e8bd587>\u001b[0m in \u001b[0;36m<module>\u001b[0;34m()\u001b[0m\n\u001b[0;32m----> 1\u001b[0;31m \u001b[0mprint\u001b[0m\u001b[0;34m(\u001b[0m\u001b[0;34m\"Your name is %s ! You age is %s\"\u001b[0m\u001b[0;34m%\u001b[0m\u001b[0;34m(\u001b[0m\u001b[0;34m'jilung'\u001b[0m\u001b[0;34m)\u001b[0m\u001b[0;34m)\u001b[0m\u001b[0;34m\u001b[0m\u001b[0m\n\u001b[0m",
      "\u001b[0;31mTypeError\u001b[0m: not enough arguments for format string"
     ]
    }
   ],
   "source": [
    "print(\"Your name is %s ! You age is %s\"%('jilung'))"
   ]
  },
  {
   "cell_type": "markdown",
   "metadata": {},
   "source": [
    "而下面這個是少一個formatted slot，後面有兩個變數，前面僅有一個%s。"
   ]
  },
  {
   "cell_type": "code",
   "execution_count": 24,
   "metadata": {},
   "outputs": [
    {
     "ename": "TypeError",
     "evalue": "not all arguments converted during string formatting",
     "output_type": "error",
     "traceback": [
      "\u001b[0;31m---------------------------------------------------------------------------\u001b[0m",
      "\u001b[0;31mTypeError\u001b[0m                                 Traceback (most recent call last)",
      "\u001b[0;32m<ipython-input-24-b35bbcc85cdb>\u001b[0m in \u001b[0;36m<module>\u001b[0;34m()\u001b[0m\n\u001b[0;32m----> 1\u001b[0;31m \u001b[0mprint\u001b[0m\u001b[0;34m(\u001b[0m\u001b[0;34m\"Your name is ! Your age is %s! \"\u001b[0m\u001b[0;34m%\u001b[0m\u001b[0;34m(\u001b[0m\u001b[0mname\u001b[0m\u001b[0;34m,\u001b[0m \u001b[0mage\u001b[0m\u001b[0;34m)\u001b[0m\u001b[0;34m)\u001b[0m\u001b[0;34m\u001b[0m\u001b[0m\n\u001b[0m",
      "\u001b[0;31mTypeError\u001b[0m: not all arguments converted during string formatting"
     ]
    }
   ],
   "source": [
    "print(\"Your name is ! Your age is %s! \"%(name, age))"
   ]
  },
  {
   "cell_type": "markdown",
   "metadata": {},
   "source": [
    "# +, -, *, **, /, % 加減乘除\n",
    "* ** - \"power of.\"\n",
    "* *%* - \"mod\" e.g., 5%3==2, 4%2==0.\n",
    "* */* - \"divide\" varied by data type of numberator and denominator"
   ]
  },
  {
   "cell_type": "code",
   "execution_count": 60,
   "metadata": {},
   "outputs": [
    {
     "name": "stdout",
     "output_type": "stream",
     "text": [
      "50\n",
      "625\n"
     ]
    }
   ],
   "source": [
    "a, b = 5, 3\n",
    "print(a+1+2+3+4+5+6+7+8+9)\n",
    "print(a**4)"
   ]
  },
  {
   "cell_type": "code",
   "execution_count": null,
   "metadata": {},
   "outputs": [],
   "source": [
    "a, b = 10, 3\n",
    "print(\"a/b = %d ....%d\"%(a/b, a%b))\n",
    "\n",
    "print(float(a))\n",
    "print(\"a/b = %f\"%(float(a)/b))\n",
    "print(\"a/b = %f\"%(a/float(b)))"
   ]
  },
  {
   "cell_type": "code",
   "execution_count": 61,
   "metadata": {},
   "outputs": [
    {
     "name": "stdout",
     "output_type": "stream",
     "text": [
      "a/b= 1.6666666666666667 a/b= 2\n",
      "a/b=1, a%b=2.000000\n",
      "1.6666666666666667\n",
      "1.6666666666666667\n",
      "2.0\n"
     ]
    },
    {
     "ename": "TypeError",
     "evalue": "unsupported operand type(s) for /: 'str' and 'int'",
     "output_type": "error",
     "traceback": [
      "\u001b[0;31m---------------------------------------------------------------------------\u001b[0m",
      "\u001b[0;31mTypeError\u001b[0m                                 Traceback (most recent call last)",
      "\u001b[0;32m<ipython-input-61-393f5e6ee8d2>\u001b[0m in \u001b[0;36m<module>\u001b[0;34m()\u001b[0m\n\u001b[1;32m      4\u001b[0m \u001b[0mprint\u001b[0m\u001b[0;34m(\u001b[0m\u001b[0mfloat\u001b[0m\u001b[0;34m(\u001b[0m\u001b[0ma\u001b[0m\u001b[0;34m)\u001b[0m\u001b[0;34m/\u001b[0m\u001b[0mb\u001b[0m\u001b[0;34m)\u001b[0m\u001b[0;34m\u001b[0m\u001b[0m\n\u001b[1;32m      5\u001b[0m \u001b[0mprint\u001b[0m\u001b[0;34m(\u001b[0m\u001b[0;34m(\u001b[0m\u001b[0;34m(\u001b[0m\u001b[0ma\u001b[0m\u001b[0;34m+\u001b[0m\u001b[0mb\u001b[0m\u001b[0;34m)\u001b[0m\u001b[0;34m**\u001b[0m\u001b[0;36m2\u001b[0m\u001b[0;34m+\u001b[0m\u001b[0;34m(\u001b[0m\u001b[0ma\u001b[0m\u001b[0;34m-\u001b[0m\u001b[0mb\u001b[0m\u001b[0;34m)\u001b[0m\u001b[0;34m**\u001b[0m\u001b[0;36m2\u001b[0m\u001b[0;34m)\u001b[0m\u001b[0;34m/\u001b[0m\u001b[0mfloat\u001b[0m\u001b[0;34m(\u001b[0m\u001b[0ma\u001b[0m\u001b[0;34m**\u001b[0m\u001b[0;36m2\u001b[0m\u001b[0;34m+\u001b[0m\u001b[0mb\u001b[0m\u001b[0;34m**\u001b[0m\u001b[0;36m2\u001b[0m\u001b[0;34m)\u001b[0m\u001b[0;34m)\u001b[0m\u001b[0;34m\u001b[0m\u001b[0m\n\u001b[0;32m----> 6\u001b[0;31m \u001b[0mprint\u001b[0m\u001b[0;34m(\u001b[0m\u001b[0mstr\u001b[0m\u001b[0;34m(\u001b[0m\u001b[0ma\u001b[0m\u001b[0;34m)\u001b[0m\u001b[0;34m/\u001b[0m\u001b[0mb\u001b[0m\u001b[0;34m)\u001b[0m\u001b[0;34m\u001b[0m\u001b[0m\n\u001b[0m\u001b[1;32m      7\u001b[0m \u001b[0;31m# TypeError: unsupported operand type(s) for /: 'str' and 'int'\u001b[0m\u001b[0;34m\u001b[0m\u001b[0;34m\u001b[0m\u001b[0m\n",
      "\u001b[0;31mTypeError\u001b[0m: unsupported operand type(s) for /: 'str' and 'int'"
     ]
    }
   ],
   "source": [
    "print(\"a/b=\", a/b, \"a/b=\", a%b)\n",
    "print(\"a/b=%d, a%%b=%f\"%(a/b, a%b))\n",
    "print(a/float(b))\n",
    "print(float(a)/b)\n",
    "print(((a+b)**2+(a-b)**2)/float(a**2+b**2))\n",
    "print(str(a)/b)\n",
    "# TypeError: unsupported operand type(s) for /: 'str' and 'int'\n"
   ]
  },
  {
   "cell_type": "markdown",
   "metadata": {},
   "source": [
    "# Example. Converting Temperature format\n",
    "* 攝氏tc溫度等於華氏tf溫度-32後乘以5/9。"
   ]
  },
  {
   "cell_type": "code",
   "execution_count": 59,
   "metadata": {},
   "outputs": [
    {
     "name": "stdout",
     "output_type": "stream",
     "text": [
      "0.5555555555555556\n"
     ]
    }
   ],
   "source": [
    "tf = 33\n",
    "tc = 5.0/9.0*(tf-32)\n",
    "print(tc)"
   ]
  },
  {
   "cell_type": "markdown",
   "metadata": {},
   "source": [
    "1. 那反過來求華氏溫度怎麼求？\n",
    "2. 若用raw_input()來讀取鍵盤資料，會發生什麼樣的問題"
   ]
  }
 ],
 "metadata": {
  "kernelspec": {
   "display_name": "Python 3",
   "language": "python",
   "name": "python3"
  },
  "language_info": {
   "codemirror_mode": {
    "name": "ipython",
    "version": 3
   },
   "file_extension": ".py",
   "mimetype": "text/x-python",
   "name": "python",
   "nbconvert_exporter": "python",
   "pygments_lexer": "ipython3",
   "version": "3.7.6"
  },
  "toc": {
   "base_numbering": 1,
   "nav_menu": {},
   "number_sections": true,
   "sideBar": true,
   "skip_h1_title": false,
   "title_cell": "Table of Contents",
   "title_sidebar": "Contents",
   "toc_cell": false,
   "toc_position": {},
   "toc_section_display": true,
   "toc_window_display": true
  }
 },
 "nbformat": 4,
 "nbformat_minor": 1
}
