{
 "cells": [
  {
   "cell_type": "markdown",
   "metadata": {},
   "source": [
    "# Index\n",
    "1. List\n",
    "2. Practice: read csv into two-layers list\n",
    "3. Dictionary\n",
    "4. Practice: traversing ubike data by dictionary and list"
   ]
  },
  {
   "cell_type": "markdown",
   "metadata": {},
   "source": [
    "# LIST\n",
    "* `list`所要學習的內容包含以下幾個項目\n",
    "    1. **Definition**: An ordered sequence\n",
    "    2. **Access**: Access by index, from head or tail\n",
    "    3. **Update**: `.pop()` from tail, `.extends()` multiple element, `.append()` one element\n",
    "\n",
    "\n",
    "* `list`（你可以中譯為串列，上課中會說`list`）。顧名思義，「a list of something」，通常代表的是「something arranged in order」。也就是把一群物件、東西、數值、變數照順序排好。`list`就是這樣的結構。只要放進`list`中，他就會被給予一個整數編號，而整數編號從0開始編起。\n",
    "```\n",
    "alist = []\n",
    "alist = [3, 4, 5]\n",
    "```\n",
    "* 原則上`list`中的內容不一定要同型態，`list`中也可以有`list`，也可以同時有`float`、`int`或`str`等多種變數型態的數值。但多半在實際寫程式時，會盡量讓`list`中內容的變數型態維持一致。"
   ]
  },
  {
   "cell_type": "markdown",
   "metadata": {},
   "source": [
    "## Access a list\n",
    "* 如上例，3就放置在`alist`的0的位置，標示為`alist[0]`；4就放置在`alist`的1的位置，標示為`alist[1]`。\n",
    "* 當要存取一個list中某一個內容時，會需要用整數的編號來存取。例如\n",
    "`alist[3] = 4`"
   ]
  },
  {
   "cell_type": "code",
   "execution_count": 3,
   "metadata": {},
   "outputs": [
    {
     "name": "stdout",
     "output_type": "stream",
     "text": [
      "1\n",
      "9\n",
      "8\n",
      "[10, 9, 8, 7, 6, 5, 4, 3, 2, 1]\n",
      "5\n",
      "1\n",
      "10\n",
      "1\n",
      "7\n"
     ]
    },
    {
     "ename": "TypeError",
     "evalue": "'int' object is not subscriptable",
     "output_type": "error",
     "traceback": [
      "\u001b[0;31m---------------------------------------------------------------------------\u001b[0m",
      "\u001b[0;31mTypeError\u001b[0m                                 Traceback (most recent call last)",
      "\u001b[0;32m<ipython-input-3-0c563ec9d46f>\u001b[0m in \u001b[0;36m<module>\u001b[0;34m()\u001b[0m\n\u001b[1;32m      9\u001b[0m \u001b[0mprint\u001b[0m\u001b[0;34m(\u001b[0m\u001b[0malist\u001b[0m\u001b[0;34m[\u001b[0m\u001b[0mlen\u001b[0m\u001b[0;34m(\u001b[0m\u001b[0malist\u001b[0m\u001b[0;34m)\u001b[0m\u001b[0;34m-\u001b[0m\u001b[0;36m1\u001b[0m\u001b[0;34m]\u001b[0m\u001b[0;34m)\u001b[0m \u001b[0;31m# forget it!!\u001b[0m\u001b[0;34m\u001b[0m\u001b[0m\n\u001b[1;32m     10\u001b[0m \u001b[0mprint\u001b[0m\u001b[0;34m(\u001b[0m\u001b[0malist\u001b[0m\u001b[0;34m[\u001b[0m\u001b[0;36m3\u001b[0m\u001b[0;34m]\u001b[0m\u001b[0;34m)\u001b[0m\u001b[0;34m\u001b[0m\u001b[0m\n\u001b[0;32m---> 11\u001b[0;31m \u001b[0mprint\u001b[0m\u001b[0;34m(\u001b[0m\u001b[0malist\u001b[0m\u001b[0;34m[\u001b[0m\u001b[0;36m3\u001b[0m\u001b[0;34m]\u001b[0m\u001b[0;34m[\u001b[0m\u001b[0;36m1\u001b[0m\u001b[0;34m]\u001b[0m\u001b[0;34m)\u001b[0m\u001b[0;34m\u001b[0m\u001b[0m\n\u001b[0m\u001b[1;32m     12\u001b[0m \u001b[0mprint\u001b[0m\u001b[0;34m(\u001b[0m\u001b[0malist\u001b[0m\u001b[0;34m[\u001b[0m\u001b[0;34m-\u001b[0m\u001b[0;36m1\u001b[0m\u001b[0;34m]\u001b[0m\u001b[0;34m[\u001b[0m\u001b[0;36m4\u001b[0m\u001b[0;34m]\u001b[0m\u001b[0;34m[\u001b[0m\u001b[0;36m1\u001b[0m\u001b[0;34m]\u001b[0m\u001b[0;34m)\u001b[0m\u001b[0;34m\u001b[0m\u001b[0m\n",
      "\u001b[0;31mTypeError\u001b[0m: 'int' object is not subscriptable"
     ]
    }
   ],
   "source": [
    "alist = [10, 9, 8, 7, 6, 5, 4, 3, 2, 1]\n",
    "print(alist[-1])\n",
    "print(alist[1])\n",
    "print(alist[2])\n",
    "print(alist)\n",
    "print(alist[5])\n",
    "print(alist[-1]) # forget it!!\n",
    "print(len(alist)) # length of \n",
    "print(alist[len(alist)-1]) # forget it!!\n",
    "print(alist[3])\n",
    "print(alist[3][1])\n",
    "print(alist[-1][4][1])"
   ]
  },
  {
   "cell_type": "markdown",
   "metadata": {},
   "source": [
    "## list Slicing\n",
    "* 有時候我們不只要取出一個元素，而是要取出list中第n個到第m個元素。\n",
    "* 下面程式碼可取出list中最後一個元素，或者取其中數個元素。以alist[1:3]為例，其取index從1開始到3__之前__。所以是1與2。而alist[-3:-1]則是取-3開始到-1__之前__。"
   ]
  },
  {
   "cell_type": "code",
   "execution_count": 4,
   "metadata": {},
   "outputs": [
    {
     "name": "stdout",
     "output_type": "stream",
     "text": [
      "1\n",
      "[9, 8]\n",
      "[3, 2]\n"
     ]
    }
   ],
   "source": [
    "print(alist[-1]) # the last element\n",
    "print(alist[1:3])\n",
    "print(alist[-3:-1])"
   ]
  },
  {
   "cell_type": "markdown",
   "metadata": {},
   "source": [
    "## Update a list"
   ]
  },
  {
   "cell_type": "code",
   "execution_count": 1,
   "metadata": {},
   "outputs": [
    {
     "ename": "NameError",
     "evalue": "name 'alist' is not defined",
     "output_type": "error",
     "traceback": [
      "\u001b[0;31m---------------------------------------------------------------------------\u001b[0m",
      "\u001b[0;31mNameError\u001b[0m                                 Traceback (most recent call last)",
      "\u001b[0;32m<ipython-input-1-760159b2e6e5>\u001b[0m in \u001b[0;36m<module>\u001b[0;34m()\u001b[0m\n\u001b[0;32m----> 1\u001b[0;31m \u001b[0malist\u001b[0m\u001b[0;34m.\u001b[0m\u001b[0mappend\u001b[0m\u001b[0;34m(\u001b[0m\u001b[0;36m3\u001b[0m\u001b[0;34m)\u001b[0m\u001b[0;34m\u001b[0m\u001b[0m\n\u001b[0m\u001b[1;32m      2\u001b[0m \u001b[0malist\u001b[0m\u001b[0;34m.\u001b[0m\u001b[0mappend\u001b[0m\u001b[0;34m(\u001b[0m\u001b[0;36m4\u001b[0m\u001b[0;34m)\u001b[0m\u001b[0;34m\u001b[0m\u001b[0m\n\u001b[1;32m      3\u001b[0m \u001b[0malist\u001b[0m\u001b[0;34m.\u001b[0m\u001b[0mextend\u001b[0m\u001b[0;34m(\u001b[0m\u001b[0;34m[\u001b[0m\u001b[0;36m3\u001b[0m\u001b[0;34m,\u001b[0m \u001b[0;36m4\u001b[0m\u001b[0;34m,\u001b[0m \u001b[0;36m5\u001b[0m\u001b[0;34m]\u001b[0m\u001b[0;34m)\u001b[0m\u001b[0;34m\u001b[0m\u001b[0m\n\u001b[1;32m      4\u001b[0m \u001b[0malist\u001b[0m\u001b[0;34m.\u001b[0m\u001b[0mappend\u001b[0m\u001b[0;34m(\u001b[0m\u001b[0;34m[\u001b[0m\u001b[0;36m3\u001b[0m\u001b[0;34m,\u001b[0m \u001b[0;36m4\u001b[0m\u001b[0;34m,\u001b[0m \u001b[0;36m5\u001b[0m\u001b[0;34m]\u001b[0m\u001b[0;34m)\u001b[0m\u001b[0;34m\u001b[0m\u001b[0m\n\u001b[1;32m      5\u001b[0m \u001b[0mprint\u001b[0m\u001b[0;34m(\u001b[0m\u001b[0malist\u001b[0m\u001b[0;34m)\u001b[0m\u001b[0;34m\u001b[0m\u001b[0m\n",
      "\u001b[0;31mNameError\u001b[0m: name 'alist' is not defined"
     ]
    }
   ],
   "source": [
    "alist.append(3)\n",
    "alist.append(4)\n",
    "alist.extend([3, 4, 5])\n",
    "alist.append([3, 4, 5])\n",
    "print(alist)"
   ]
  },
  {
   "cell_type": "code",
   "execution_count": 27,
   "metadata": {},
   "outputs": [
    {
     "name": "stdout",
     "output_type": "stream",
     "text": [
      "8\n",
      "[1, 2, 3, {}] <class 'list'>\n",
      "{} <class 'dict'>\n"
     ]
    }
   ],
   "source": [
    "bdict = {} # cdict = dict()\n",
    "alist = [1, 2, 3, 4, 'abc', '123', '123.1', [1, 2, 3, bdict] ]\n",
    "print(len(alist)) #length len()\n",
    "print(alist[7], type(alist[7]))\n",
    "print(alist[7][3], type(alist[7][3])) # index"
   ]
  },
  {
   "cell_type": "markdown",
   "metadata": {},
   "source": [
    "# dictionary\n",
    "* dictionary（你可以中譯為「字典」，但上課會直接稱之為dict）如同其字面上的意思，是給人就單字查詢意義的。在python中也不例外，他所存放的是「key to value pairs」。所以實際上他的內容並沒有順序，所以他不像list是用index 0, 1, 2...來存取。他是用key來存取value。\n",
    "* 在下面的例子中`adict[1]`所對應的值就是`3`，`2`所對應的值就是`4`。\n",
    "```\n",
    "adict = {1:3, '2':4}\n",
    "```\n",
    "* 要注意的是，key和value，其中的value也可以是list，或者是另一個dictionary。而一個list中，也可以擺放很多個dictionary，簡單地說，就是list中可以有dictionary，dictionary可對應到list。\n",
    "* 唯獨要注意的是，list或dictionary，不可以當作dictionary的key，這是為了怕寫程式的人亂改list或dictionary作為key的值，導致對應錯誤。但tuple可以作為dictionary的key。"
   ]
  },
  {
   "cell_type": "code",
   "execution_count": 8,
   "metadata": {},
   "outputs": [
    {
     "ename": "TypeError",
     "evalue": "'int' object is not subscriptable",
     "output_type": "error",
     "traceback": [
      "\u001b[0;31m---------------------------------------------------------------------------\u001b[0m",
      "\u001b[0;31mTypeError\u001b[0m                                 Traceback (most recent call last)",
      "\u001b[0;32m<ipython-input-8-8d340d41c924>\u001b[0m in \u001b[0;36m<module>\u001b[0;34m()\u001b[0m\n\u001b[1;32m      1\u001b[0m \u001b[0madict\u001b[0m \u001b[0;34m=\u001b[0m \u001b[0;34m{\u001b[0m\u001b[0;36m1\u001b[0m\u001b[0;34m:\u001b[0m\u001b[0;36m3\u001b[0m\u001b[0;34m,\u001b[0m \u001b[0;36m2\u001b[0m\u001b[0;34m:\u001b[0m\u001b[0;36m4\u001b[0m\u001b[0;34m,\u001b[0m \u001b[0;36m3\u001b[0m\u001b[0;34m:\u001b[0m\u001b[0;36m5\u001b[0m\u001b[0;34m,\u001b[0m \u001b[0;36m4\u001b[0m\u001b[0;34m:\u001b[0m\u001b[0;36m6\u001b[0m\u001b[0;34m,\u001b[0m \u001b[0;34m'1'\u001b[0m\u001b[0;34m:\u001b[0m\u001b[0;36m3\u001b[0m\u001b[0;34m,\u001b[0m \u001b[0;36m1.13\u001b[0m\u001b[0;34m:\u001b[0m\u001b[0;34m'123'\u001b[0m\u001b[0;34m,\u001b[0m \u001b[0;34m'a'\u001b[0m\u001b[0;34m:\u001b[0m \u001b[0malist\u001b[0m\u001b[0;34m}\u001b[0m\u001b[0;34m\u001b[0m\u001b[0m\n\u001b[0;32m----> 2\u001b[0;31m \u001b[0mprint\u001b[0m\u001b[0;34m(\u001b[0m\u001b[0mtype\u001b[0m\u001b[0;34m(\u001b[0m\u001b[0madict\u001b[0m\u001b[0;34m[\u001b[0m\u001b[0;34m'a'\u001b[0m\u001b[0;34m]\u001b[0m\u001b[0;34m[\u001b[0m\u001b[0;36m7\u001b[0m\u001b[0;34m]\u001b[0m\u001b[0;34m[\u001b[0m\u001b[0;36m3\u001b[0m\u001b[0;34m]\u001b[0m\u001b[0;34m)\u001b[0m\u001b[0;34m,\u001b[0m \u001b[0mlen\u001b[0m\u001b[0;34m(\u001b[0m\u001b[0madict\u001b[0m\u001b[0;34m[\u001b[0m\u001b[0;34m'a'\u001b[0m\u001b[0;34m]\u001b[0m\u001b[0;34m[\u001b[0m\u001b[0;36m7\u001b[0m\u001b[0;34m]\u001b[0m\u001b[0;34m[\u001b[0m\u001b[0;36m3\u001b[0m\u001b[0;34m]\u001b[0m\u001b[0;34m)\u001b[0m\u001b[0;34m)\u001b[0m\u001b[0;34m\u001b[0m\u001b[0m\n\u001b[0m\u001b[1;32m      3\u001b[0m \u001b[0mprint\u001b[0m\u001b[0;34m(\u001b[0m\u001b[0madict\u001b[0m\u001b[0;34m[\u001b[0m\u001b[0;34m'1'\u001b[0m\u001b[0;34m]\u001b[0m\u001b[0;34m)\u001b[0m\u001b[0;34m\u001b[0m\u001b[0m\n\u001b[1;32m      4\u001b[0m \u001b[0mprint\u001b[0m\u001b[0;34m(\u001b[0m\u001b[0madict\u001b[0m\u001b[0;34m[\u001b[0m\u001b[0;36m1.13\u001b[0m\u001b[0;34m]\u001b[0m\u001b[0;34m)\u001b[0m\u001b[0;34m\u001b[0m\u001b[0m\n\u001b[1;32m      5\u001b[0m \u001b[0;34m\u001b[0m\u001b[0m\n",
      "\u001b[0;31mTypeError\u001b[0m: 'int' object is not subscriptable"
     ]
    }
   ],
   "source": [
    "adict = {1:3, 2:4, 3:5, 4:6, '1':3, 1.13:'123', 'a': alist}\n",
    "print(type(adict['a'][7][3]), len(adict['a'][7][3]))\n",
    "print(adict['1'])\n",
    "print(adict[1.13])\n",
    "\n",
    "bdict = {1:3, '1':3, 4:[2, 4]} # initialization"
   ]
  },
  {
   "cell_type": "markdown",
   "metadata": {},
   "source": [
    "## Access dictionary\n"
   ]
  },
  {
   "cell_type": "code",
   "execution_count": 7,
   "metadata": {},
   "outputs": [
    {
     "ename": "NameError",
     "evalue": "name 'bdict' is not defined",
     "output_type": "error",
     "traceback": [
      "\u001b[0;31m---------------------------------------------------------------------------\u001b[0m",
      "\u001b[0;31mNameError\u001b[0m                                 Traceback (most recent call last)",
      "\u001b[0;32m<ipython-input-7-b0a39f5cdaf3>\u001b[0m in \u001b[0;36m<module>\u001b[0;34m()\u001b[0m\n\u001b[1;32m      1\u001b[0m \u001b[0;31m# access the dictionary\u001b[0m\u001b[0;34m\u001b[0m\u001b[0;34m\u001b[0m\u001b[0m\n\u001b[0;32m----> 2\u001b[0;31m \u001b[0mprint\u001b[0m\u001b[0;34m(\u001b[0m\u001b[0mbdict\u001b[0m\u001b[0;34m)\u001b[0m\u001b[0;34m\u001b[0m\u001b[0m\n\u001b[0m\u001b[1;32m      3\u001b[0m \u001b[0mprint\u001b[0m\u001b[0;34m(\u001b[0m\u001b[0mbdict\u001b[0m\u001b[0;34m[\u001b[0m\u001b[0;34m'1'\u001b[0m\u001b[0;34m]\u001b[0m\u001b[0;34m)\u001b[0m\u001b[0;34m\u001b[0m\u001b[0m\n\u001b[1;32m      4\u001b[0m \u001b[0mprint\u001b[0m\u001b[0;34m(\u001b[0m\u001b[0mbdict\u001b[0m\u001b[0;34m[\u001b[0m\u001b[0;36m1\u001b[0m\u001b[0;34m]\u001b[0m\u001b[0;34m)\u001b[0m\u001b[0;34m\u001b[0m\u001b[0m\n\u001b[1;32m      5\u001b[0m \u001b[0mprint\u001b[0m\u001b[0;34m(\u001b[0m\u001b[0mbdict\u001b[0m\u001b[0;34m[\u001b[0m\u001b[0;36m4\u001b[0m\u001b[0;34m]\u001b[0m\u001b[0;34m[\u001b[0m\u001b[0;36m0\u001b[0m\u001b[0;34m]\u001b[0m\u001b[0;34m)\u001b[0m\u001b[0;34m\u001b[0m\u001b[0m\n",
      "\u001b[0;31mNameError\u001b[0m: name 'bdict' is not defined"
     ]
    }
   ],
   "source": [
    "# access the dictionary\n",
    "print(bdict)\n",
    "print(bdict['1'])\n",
    "print(bdict[1])\n",
    "print(bdict[4][0])"
   ]
  },
  {
   "cell_type": "markdown",
   "metadata": {},
   "source": [
    "# Accessing list of dic: json\n",
    "* （[youbike data link](http://data.taipei/opendata/datalist/datasetMeta?oid=8ef1626a-892a-4218-8344-f7ac46e1aa48)）。來自台北市政府的說明「為提供更優質之資料服務，YouBike臺北市公共自行車即時資訊介接網址自10月16日起改為http://data.taipei/youbike \n",
    "檔案格式為經gz壓縮之json檔，請下載後解壓縮使用（部分瀏覽器如Chrome下載後會自動解壓縮，請留意！）；規格調整如右連結http://goo.gl/pmcIo3 此外，「最後更新時間」欄位之內容為詮釋資料更新時間，非資料檔案更新時間，實際資料檔案更新時間為「每1分鐘」，可參考檔案內容之「mday」欄位。」\n",
    "* 獲取youbike資料的流程\n",
    "1. 用`requests`套件的`.get()`獲取該url的回應。\n",
    "2. 將該http request response的文字抽取出來`response.text`，資料型態為`str`\n",
    "3. 將抽取出來的文字，我知道他是用json格式存，因此用`json.loads()`將其轉換為python的資料型態，也就是由層層list與dictionary所套疊起來的資料\n",
    "4. 最後一一存取其內容\n",
    "\n",
    "## 從網路上抓取資料並轉換為python的dictionary與list物件。\n",
    "* 這部分可以先不用管到底做了什麼事情。"
   ]
  },
  {
   "cell_type": "code",
   "execution_count": 1,
   "metadata": {},
   "outputs": [
    {
     "name": "stdout",
     "output_type": "stream",
     "text": [
      "<class 'requests.models.Response'>\n",
      "<class 'str'>\n"
     ]
    }
   ],
   "source": [
    "import requests\n",
    "import json\n",
    "response = requests.get('http://data.taipei/youbike')\n",
    "print(type(response)) # <class 'requests.models.Response'>\n",
    "print(type(response.text)) # <class 'str'>\n",
    "data = json.loads(response.text)"
   ]
  },
  {
   "cell_type": "markdown",
   "metadata": {},
   "source": [
    "## 利用測試的方法測試出一筆資料的結構\n",
    "1. 如果偵測出他是一個list，那就取出第0筆資料往下追蹤。\n",
    "2. 如果偵測出他是一個dict，就用`dict.keys()`將其所有的key給列印出來，然後挑你所需要的key往下追蹤。"
   ]
  },
  {
   "cell_type": "code",
   "execution_count": 2,
   "metadata": {},
   "outputs": [
    {
     "name": "stdout",
     "output_type": "stream",
     "text": [
      "<class 'dict'>\n",
      "type of data <class 'dict'>\n",
      "dict_keys(['retCode', 'retVal'])\n",
      "{'sno': '0137', 'sna': '國防大學', 'tot': '46', 'sbi': '28', 'sarea': '北投區', 'mday': '20181004083840', 'lat': '25.137976', 'lng': '121.493066', 'ar': '中央北路二段/豐年路二段交叉口', 'sareaen': 'Beitou Dist.', 'snaen': 'Nat’l Defense U.', 'aren': 'Sec. 2, Zhongyang N. Rd. / Sec. 2, Fengnian Rd.', 'bemp': '18', 'act': '1'}\n",
      "28\n",
      "46\n"
     ]
    }
   ],
   "source": [
    "print(type(data))\n",
    "print(\"type of data\", type(data))\n",
    "print(data.keys())\n",
    "print(data['retVal']['0137'])\n",
    "print(data['retVal']['0137']['sbi'])\n",
    "print(data['retVal']['0137']['tot'])\n",
    "\n",
    "# for site in data[\"retVal\"]:\n",
    "#     print site\n",
    "#     if float(data[\"retVal\"][site]['sbi'])/int(data[\"retVal\"][site]['tot']) > 0.8:\n",
    "#         print data[\"retVal\"][site][\"sna\"], data[\"retVal\"][site]['sbi'], data[\"retVal\"][site]['tot']"
   ]
  },
  {
   "cell_type": "code",
   "execution_count": 16,
   "metadata": {},
   "outputs": [
    {
     "name": "stdout",
     "output_type": "stream",
     "text": [
      "<class 'dict'>\n",
      "dict_keys(['retCode', 'retVal'])\n",
      "<class 'dict'>\n",
      "{'sno': '0134', 'sna': '捷運芝山站(2號出口)', 'tot': '64', 'sbi': '33', 'sarea': '士林區', 'mday': '20181004083824', 'lat': '25.10336', 'lng': '121.522629', 'ar': '福華路/福華路162巷(東南側)', 'sareaen': 'Shilin Dist.', 'snaen': 'MRT Zhishan Sta.(Exit 2)', 'aren': 'Fuhua Rd. / Ln. 162, Fuhua Rd.', 'bemp': '31', 'act': '1'}\n"
     ]
    }
   ],
   "source": [
    "print(type(data))\n",
    "print(data.keys())\n",
    "print(type(data['retVal']))\n",
    "print(data['retVal']['0134'])"
   ]
  },
  {
   "cell_type": "markdown",
   "metadata": {},
   "source": [
    "## Get all keys and values"
   ]
  },
  {
   "cell_type": "code",
   "execution_count": 18,
   "metadata": {},
   "outputs": [
    {
     "data": {
      "text/plain": [
       "[('0001',\n",
       "  {'sno': '0001',\n",
       "   'sna': '捷運市政府站(3號出口)',\n",
       "   'tot': '180',\n",
       "   'sbi': '111',\n",
       "   'sarea': '信義區',\n",
       "   'mday': '20181004083831',\n",
       "   'lat': '25.0408578889',\n",
       "   'lng': '121.567904444',\n",
       "   'ar': '忠孝東路/松仁路(東南側)',\n",
       "   'sareaen': 'Xinyi Dist.',\n",
       "   'snaen': 'MRT Taipei City Hall Stataion(Exit 3)-2',\n",
       "   'aren': 'The S.W. side of Road Zhongxiao East Road & Road Chung Yan.',\n",
       "   'bemp': '69',\n",
       "   'act': '1'}),\n",
       " ('0002',\n",
       "  {'sno': '0002',\n",
       "   'sna': '捷運國父紀念館站(2號出口)',\n",
       "   'tot': '48',\n",
       "   'sbi': '12',\n",
       "   'sarea': '大安區',\n",
       "   'mday': '20181004083816',\n",
       "   'lat': '25.041254',\n",
       "   'lng': '121.55742',\n",
       "   'ar': '忠孝東路四段/光復南路口(西南側)',\n",
       "   'sareaen': 'Daan Dist.',\n",
       "   'snaen': 'MRT S.Y.S Memorial Hall Stataion(Exit 2.)',\n",
       "   'aren': 'Sec,4. Zhongxiao E.Rd/GuangFu S. Rd',\n",
       "   'bemp': '34',\n",
       "   'act': '1'}),\n",
       " ('0003',\n",
       "  {'sno': '0003',\n",
       "   'sna': '台北市政府',\n",
       "   'tot': '40',\n",
       "   'sbi': '18',\n",
       "   'sarea': '信義區',\n",
       "   'mday': '20181004083823',\n",
       "   'lat': '25.0377972222',\n",
       "   'lng': '121.565169444',\n",
       "   'ar': '台北市政府東門(松智路) ',\n",
       "   'sareaen': 'Xinyi Dist.',\n",
       "   'snaen': 'Taipei City Hall',\n",
       "   'aren': 'Taipei City Government Eastgate (Song Zhi Road)',\n",
       "   'bemp': '21',\n",
       "   'act': '1'})]"
      ]
     },
     "execution_count": 18,
     "metadata": {},
     "output_type": "execute_result"
    }
   ],
   "source": [
    "data[\"retVal\"].keys()\n",
    "data[\"retVal\"].values()\n",
    "data[\"retVal\"].items()\n",
    "# data[\"retVal\"].items()[:3]\n",
    "list(data[\"retVal\"].items())[:3]"
   ]
  },
  {
   "cell_type": "markdown",
   "metadata": {},
   "source": [
    "# Iterating a dictionary\n",
    "下列方法都可以把所有站台的sbi給列印出來，請觀察看看`.items()`和沒有`.items()`的用法有何差異。\n",
    "```\n",
    "for k in data[\"retVal\"].keys():\n",
    "    print(data[\"retVal\"][k][\"sbi\"])\n",
    "for k in data[\"retVal\"]:\n",
    "    print(data[\"retVal\"][k][\"sbi\"])\n",
    "for k in data[\"retVal\"].items():\n",
    "    print(k[1][\"sbi\"])\n",
    "for k, v in data['retVal'].items():\n",
    "    print(k, v[\"sbi\"])\n",
    "```"
   ]
  },
  {
   "cell_type": "code",
   "execution_count": 13,
   "metadata": {},
   "outputs": [
    {
     "name": "stdout",
     "output_type": "stream",
     "text": [
      "111\n",
      "12\n",
      "18\n",
      "27\n",
      "32\n",
      "31\n",
      "22\n",
      "13\n",
      "23\n",
      "15\n",
      "0\n",
      "37\n",
      "23\n",
      "19\n",
      "14\n",
      "32\n",
      "18\n",
      "6\n",
      "15\n",
      "14\n",
      "19\n",
      "3\n",
      "18\n",
      "33\n",
      "0\n",
      "18\n",
      "21\n",
      "8\n",
      "48\n",
      "42\n",
      "16\n",
      "2\n",
      "24\n",
      "0\n",
      "1\n",
      "38\n",
      "23\n",
      "33\n",
      "7\n",
      "16\n",
      "20\n",
      "13\n",
      "12\n",
      "20\n",
      "0\n",
      "14\n",
      "0\n",
      "27\n",
      "22\n",
      "41\n",
      "16\n",
      "12\n",
      "8\n",
      "3\n",
      "12\n",
      "18\n",
      "20\n",
      "37\n",
      "2\n",
      "14\n",
      "10\n",
      "7\n",
      "36\n",
      "19\n",
      "20\n",
      "12\n",
      "12\n",
      "20\n",
      "9\n",
      "21\n",
      "7\n",
      "8\n",
      "20\n",
      "20\n",
      "16\n",
      "21\n",
      "14\n",
      "36\n",
      "20\n",
      "37\n",
      "13\n",
      "25\n",
      "7\n",
      "25\n",
      "19\n",
      "6\n",
      "1\n",
      "10\n",
      "9\n",
      "19\n",
      "15\n",
      "13\n",
      "38\n",
      "16\n",
      "15\n",
      "4\n",
      "41\n",
      "13\n",
      "20\n",
      "27\n",
      "18\n",
      "17\n",
      "22\n",
      "6\n",
      "18\n",
      "5\n",
      "34\n",
      "24\n",
      "15\n",
      "20\n",
      "28\n",
      "32\n",
      "11\n",
      "9\n",
      "8\n",
      "5\n",
      "22\n",
      "24\n",
      "48\n",
      "3\n",
      "31\n",
      "13\n",
      "9\n",
      "4\n",
      "15\n",
      "8\n",
      "18\n",
      "26\n",
      "19\n",
      "15\n",
      "9\n",
      "1\n",
      "25\n",
      "33\n",
      "21\n",
      "9\n",
      "28\n",
      "9\n",
      "10\n",
      "29\n",
      "11\n",
      "17\n",
      "16\n",
      "32\n",
      "8\n",
      "6\n",
      "4\n",
      "30\n",
      "3\n",
      "15\n",
      "18\n",
      "28\n",
      "4\n",
      "25\n",
      "7\n",
      "5\n",
      "9\n",
      "21\n",
      "18\n",
      "24\n",
      "42\n",
      "42\n",
      "27\n",
      "19\n",
      "22\n",
      "35\n",
      "10\n",
      "37\n",
      "33\n",
      "14\n",
      "11\n",
      "18\n",
      "14\n",
      "18\n",
      "52\n",
      "20\n",
      "14\n",
      "12\n",
      "13\n",
      "24\n",
      "42\n",
      "7\n",
      "22\n",
      "15\n",
      "43\n",
      "8\n",
      "33\n",
      "28\n",
      "20\n",
      "17\n",
      "13\n",
      "23\n",
      "21\n",
      "11\n",
      "3\n",
      "6\n",
      "11\n",
      "16\n",
      "15\n",
      "37\n",
      "10\n",
      "12\n",
      "13\n",
      "14\n",
      "13\n",
      "10\n",
      "8\n",
      "13\n",
      "6\n",
      "13\n",
      "24\n",
      "25\n",
      "24\n",
      "16\n",
      "35\n",
      "8\n",
      "13\n",
      "14\n",
      "28\n",
      "9\n",
      "21\n",
      "15\n",
      "29\n",
      "13\n",
      "7\n",
      "18\n",
      "31\n",
      "19\n",
      "5\n",
      "24\n",
      "19\n",
      "12\n",
      "17\n",
      "12\n",
      "16\n",
      "39\n",
      "19\n",
      "15\n",
      "16\n",
      "4\n",
      "32\n",
      "10\n",
      "6\n",
      "1\n",
      "9\n",
      "4\n",
      "14\n",
      "18\n",
      "7\n",
      "29\n",
      "2\n",
      "21\n",
      "11\n",
      "22\n",
      "7\n",
      "15\n",
      "10\n",
      "14\n",
      "24\n",
      "21\n",
      "10\n",
      "17\n",
      "13\n",
      "16\n",
      "16\n",
      "22\n",
      "13\n",
      "19\n",
      "35\n",
      "17\n",
      "45\n",
      "0\n",
      "10\n",
      "13\n",
      "35\n",
      "5\n",
      "15\n",
      "17\n",
      "10\n",
      "13\n",
      "12\n",
      "25\n",
      "6\n",
      "32\n",
      "2\n",
      "7\n",
      "36\n",
      "19\n",
      "16\n",
      "22\n",
      "15\n",
      "6\n",
      "7\n",
      "13\n",
      "7\n",
      "13\n",
      "12\n",
      "17\n",
      "14\n",
      "14\n",
      "23\n",
      "35\n",
      "9\n",
      "0\n",
      "14\n",
      "18\n",
      "17\n",
      "1\n",
      "23\n",
      "23\n",
      "21\n",
      "13\n",
      "10\n",
      "8\n",
      "15\n",
      "18\n",
      "10\n",
      "17\n",
      "7\n",
      "5\n",
      "11\n",
      "21\n",
      "8\n",
      "15\n",
      "23\n",
      "6\n",
      "15\n",
      "5\n",
      "10\n",
      "7\n",
      "19\n",
      "19\n",
      "2\n",
      "18\n",
      "23\n",
      "13\n",
      "6\n",
      "7\n",
      "24\n",
      "14\n",
      "5\n",
      "13\n",
      "7\n",
      "10\n",
      "0\n",
      "25\n",
      "27\n",
      "11\n",
      "16\n",
      "12\n",
      "14\n",
      "13\n",
      "12\n",
      "14\n",
      "8\n",
      "9\n",
      "20\n",
      "18\n",
      "24\n",
      "0\n",
      "22\n",
      "12\n",
      "10\n",
      "10\n",
      "9\n",
      "14\n",
      "23\n",
      "14\n",
      "10\n",
      "20\n",
      "37\n",
      "15\n",
      "7\n",
      "3\n",
      "10\n",
      "2\n",
      "8\n",
      "25\n",
      "17\n",
      "9\n",
      "8\n",
      "1\n",
      "0\n",
      "8\n",
      "18\n",
      "24\n",
      "18\n",
      "10\n",
      "10\n",
      "9\n",
      "17\n",
      "12\n",
      "10\n",
      "16\n",
      "11\n",
      "6\n",
      "5\n",
      "19\n",
      "10\n",
      "8\n"
     ]
    }
   ],
   "source": []
  },
  {
   "cell_type": "markdown",
   "metadata": {},
   "source": [
    "# Practice: 計算出每個行政區有多少個ubike站台"
   ]
  },
  {
   "cell_type": "code",
   "execution_count": 14,
   "metadata": {},
   "outputs": [
    {
     "data": {
      "text/plain": [
       "{'信義區': 38,\n",
       " '大安區': 48,\n",
       " '中山區': 46,\n",
       " '松山區': 35,\n",
       " '南港區': 22,\n",
       " '中正區': 34,\n",
       " '萬華區': 22,\n",
       " '文山區': 27,\n",
       " '大同區': 22,\n",
       " '士林區': 36,\n",
       " '內湖區': 42,\n",
       " '北投區': 28}"
      ]
     },
     "execution_count": 14,
     "metadata": {},
     "output_type": "execute_result"
    }
   ],
   "source": [
    "area_dict = {}\n",
    "for key, row in data[\"retVal\"].items():\n",
    "    if row[\"sarea\"] not in area_dict:\n",
    "        area_dict[row[\"sarea\"]] = 1\n",
    "    else:\n",
    "        area_dict[row[\"sarea\"]] += 1\n",
    "area_dict"
   ]
  }
 ],
 "metadata": {
  "kernelspec": {
   "display_name": "Python 3",
   "language": "python",
   "name": "python3"
  },
  "language_info": {
   "codemirror_mode": {
    "name": "ipython",
    "version": 3
   },
   "file_extension": ".py",
   "mimetype": "text/x-python",
   "name": "python",
   "nbconvert_exporter": "python",
   "pygments_lexer": "ipython3",
   "version": "3.7.6"
  },
  "toc": {
   "base_numbering": 1,
   "nav_menu": {},
   "number_sections": true,
   "sideBar": true,
   "skip_h1_title": false,
   "title_cell": "Table of Contents",
   "title_sidebar": "Contents",
   "toc_cell": false,
   "toc_position": {},
   "toc_section_display": true,
   "toc_window_display": true
  }
 },
 "nbformat": 4,
 "nbformat_minor": 1
}
