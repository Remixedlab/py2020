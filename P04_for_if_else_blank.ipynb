{
 "cells": [
  {
   "cell_type": "markdown",
   "metadata": {},
   "source": [
    "# if-for\n",
    "\n",
    "Reference https://jirlong.gitbook.io/pytutorial/python-basic/4.-if-else-for\n",
    "\n",
    "**`if`的應用**\n",
    "* 選擇性列印出你所要呈現的youbike站台：指定要某幾個、透過if來判斷，指定要滿載的\n",
    "* 透過比較來找到最大值和最小值\n",
    "* 處理缺漏值，AQX不定期地會有缺漏值，要用`if`來偵測是否有缺漏值，並指定遇到缺漏值要怎麼做處理。或者是查驗輸入的日期是否合理\n",
    "\n",
    "**``for if``應用**\n",
    "* 把所有文字看過一遍，計算文字的出現次數\n",
    "* 用`for`遍歷PM2.5的值來對PM2.5做排序，找到最大或者是前三大的PM2.5站台\n",
    "* 分組。若告訴一個使用者PM2.5是67，他可能不知道這個數字代表什麼意義，但你若透過一個標準的Mapping把它mapping到非常高、高、中、低、非常低等五個等級，並告訴使用者說現在這個區域PM2.5是高，那他就聽得懂。"
   ]
  },
  {
   "cell_type": "markdown",
   "metadata": {},
   "source": [
    "# The AQX case\n",
    "\n",
    "**範例說明**：從資料來源為行政院環保署的空氣品質監測網（[PM2.5 introduced by 行政院環保署](https://taqm.epa.gov.tw/taqm/tw/default.aspx)）可以看到即時的空氣品質，包含指標和嚴重程度（上顏色）。上顏色的方法是依照AQI的值分成六個等級。當要把AQI值繪製為相對應的等級時，必須要判斷AQI值落在哪一個區間，此時，需要用if-else的條件判斷式來判斷，究竟是落在哪個區間。而測站不會只有一個，因此，要一個接一個判斷完現在所有的測站落在哪一個區間的話，那就要用for-loop來判斷完所有的測站。\n",
    "\n",
    "**資料來源**：行政院環保署有一個自己的開放資料網站https://opendata.epa.gov.tw ，即時更新的速度會比政府開放資料平台快。以下三個連結都可以獲取空氣品質資料。\n",
    "1. http://opendata.epa.gov.tw/webapi/Data/REWIQA/?$orderby=SiteName&$skip=0&$top=1000&format=json\n",
    "2. https://taqm.epa.gov.tw/taqm/aqs.ashx?act=WebCamBox&lang=tw\n",
    "3. https://taqm.epa.gov.tw/taqm/aqs.ashx?lang=tw&act=aqi-epa&ts=1538460570145\n",
    "\n",
    "**分析策略**：看到空氣品質的資料，或類似的資料（例如水污染、噪音、紫外線）一般會想要做什麼事？\n",
    "1. 找到突出的（Prominent）資料：找到最嚴重的地區。如果最嚴重的地區不只一個，那就要列印出多個地區。要做這件事就要找到最大值或者是最小值。在程式的邏輯上就是把所有資料看過一遍，透過大小比較，找出最大的那個值。\n",
    "2. 找到突出的（Prominent）資料：不僅找到最嚴重的地區，還要找到前三大、前五大、前10％。在程式的邏輯上，就要做排序。以由大到小來排序的狀況來說，要用前面的方法，找到最大值，再從剩下的找出次大值、再從剩下的找出次大值，依此類推。\n",
    "3. 獲取資料摘要。例如平均值、四分位數、左/右傾分佈（常態分配、Power low）。\n",
    "4. 描述資料分佈。雖然知道平均值或四分位數等已經能夠知道部分資料的概況，但通常會需要知道資料分布的概況，例如空氣品質差的地方多，還是好的地方多？或者是空氣品質在每個不同的等級的，各有幾個測站？這程式的基本邏輯通常是分堆或分類後進行計數（Counting），或者是單就數值直接進行Counting。\n",
    "5. 篩選出目標觀察資料：例如，比較大都市內或非大都市的測站，看看PM2.5或者O3比較嚴重。\n",
    "\n",
    "* 為什麼要找到這些資料的概況？簡單地說，是為了讓一般人聽得懂，但要求有憑有據。只有資料的分析者和操作者看得到資料，但重點是你今天通常為什麼要做資料分析，是因為你想要傳達給別人，這筆資料有啥特殊之處，或者他平淡無奇。但為了做到這點，你需要用一個他們都聽得懂的語彙，例如「大部分的區域」、「最嚴重的區域」、「前幾大」。然而，這些語彙的邏輯實際上都模糊而不準確，但若你有資料和數學的支持，你就可以說得有信心，有憑有據，而不至於信口開河。"
   ]
  },
  {
   "cell_type": "markdown",
   "metadata": {},
   "source": [
    "## Loading AQX data"
   ]
  },
  {
   "cell_type": "code",
   "execution_count": 48,
   "metadata": {
    "ExecuteTime": {
     "end_time": "2020-03-23T04:35:13.229614Z",
     "start_time": "2020-03-23T04:35:12.866082Z"
    }
   },
   "outputs": [
    {
     "name": "stdout",
     "output_type": "stream",
     "text": [
      "<class 'dict'>\n"
     ]
    }
   ],
   "source": [
    "import requests\n",
    "import json\n",
    "url = \" https://taqm.epa.gov.tw/taqm/aqs.ashx?lang=tw&act=aqi-epa&ts=1538460570145\"\n",
    "response = requests.get(url)\n",
    "aqdata = json.loads(response.text)\n",
    "print(type(aqdata))"
   ]
  },
  {
   "cell_type": "markdown",
   "metadata": {},
   "source": [
    "### Exploring content of aqdata"
   ]
  },
  {
   "cell_type": "code",
   "execution_count": 49,
   "metadata": {
    "ExecuteTime": {
     "end_time": "2020-03-23T04:35:14.934070Z",
     "start_time": "2020-03-23T04:35:14.930267Z"
    }
   },
   "outputs": [
    {
     "name": "stdout",
     "output_type": "stream",
     "text": [
      "dict_keys(['Result', 'Data'])\n",
      "<class 'list'>\n",
      "{'SiteId': '84', 'SiteName': '富貴角', 'SiteKey': 'FugueiCape', 'AreaKey': 'North', 'MonobjName': '背景', 'Address': '新北市石門區富貴角海邊', 'lat': '25.294147', 'lng': '121.539141', 'AQI': '74', 'MainPollutant': '臭氧八小時', 'MainPollutantKey': 'O3_8hr', 'CityCode': '31', 'PM10': '56', 'PM10_AVG': '42', 'PM25': '21', 'PM25_AVG': '19', 'O3': '66', 'O3_8': '62', 'SO2': '', 'CO': '', 'CO_8': '0.30', 'NO2': '', 'SO2_VFLAG': '3', 'CO_VFLAG': '3', 'O3_VFLAG': '1', 'PM10_VFLAG': '1', 'NO2_VFLAG': '3', 'THC_VFLAG': '1', 'PM25_VFLAG': '1', 'SO2_PRETXT': '儀器校正', 'CO_PRETXT': '儀器校正', 'O3_PRETXT': '', 'NO2_PRETXT': '儀器校正', 'PM10_PRETXT': '', 'PM25_PRETXT': '', 'HO_AQI_VAL': '74', 'THC': '2', 'x': '121', 'y': '86', 'DataSrc': 'epa', 'Time': '2020-03-23 12:00:00', 'AQIStyle': 'AQI2'}\n",
      "dict_keys(['SiteId', 'SiteName', 'SiteKey', 'AreaKey', 'MonobjName', 'Address', 'lat', 'lng', 'AQI', 'MainPollutant', 'MainPollutantKey', 'CityCode', 'PM10', 'PM10_AVG', 'PM25', 'PM25_AVG', 'O3', 'O3_8', 'SO2', 'CO', 'CO_8', 'NO2', 'SO2_VFLAG', 'CO_VFLAG', 'O3_VFLAG', 'PM10_VFLAG', 'NO2_VFLAG', 'THC_VFLAG', 'PM25_VFLAG', 'SO2_PRETXT', 'CO_PRETXT', 'O3_PRETXT', 'NO2_PRETXT', 'PM10_PRETXT', 'PM25_PRETXT', 'HO_AQI_VAL', 'THC', 'x', 'y', 'DataSrc', 'Time', 'AQIStyle'])\n"
     ]
    }
   ],
   "source": [
    "\n",
    "\n"
   ]
  },
  {
   "cell_type": "markdown",
   "metadata": {},
   "source": [
    "## Print out data by for-loop\n",
    "\n",
    "print formation rules https://docs.python.org/3/tutorial/inputoutput.html"
   ]
  },
  {
   "cell_type": "code",
   "execution_count": 56,
   "metadata": {
    "ExecuteTime": {
     "end_time": "2020-03-23T04:36:46.464964Z",
     "start_time": "2020-03-23T04:36:46.458233Z"
    }
   },
   "outputs": [
    {
     "name": "stdout",
     "output_type": "stream",
     "text": [
      "富貴角 74 21\n",
      "萬里 62 -1\n",
      "淡水 38 7\n",
      "林口 63 11\n",
      "三重 65 14\n",
      "菜寮 47 9\n",
      "汐止 66 21\n",
      "新莊 58 -1\n",
      "永和 57 14\n",
      "板橋 53 9\n",
      "土城 62 12\n",
      "新店 59 12\n",
      "陽明 47 ND\n",
      "士林 44 8\n",
      "大同 57 12\n",
      "中山 53 \n",
      "松山 62 16\n",
      "萬華 52 10\n",
      "古亭 60 17\n",
      "基隆 61 16\n",
      "大園 68 27\n",
      "觀音 67 22\n",
      "桃園 58 7\n",
      "平鎮 78 \n",
      "中壢 71 17\n",
      "龍潭 68 10\n",
      "新竹 80 \n",
      "湖口 72 21\n",
      "竹東 66 11\n",
      "頭份 95 \n",
      "苗栗 78 24\n",
      "三義 72 32\n",
      "豐原 71 24\n",
      "沙鹿 89 33\n",
      "西屯 78 32\n",
      "忠明 74 28\n",
      "大里 80 23\n",
      "線西 92 31\n",
      "彰化 80 33\n",
      "二林 99 40\n",
      "埔里 89 24\n",
      "南投 86 31\n",
      "竹山 92 43\n",
      "崙背 102 36\n",
      "麥寮 89 32\n",
      "臺西 86 32\n",
      "斗六 90 \n",
      "新港 98 41\n",
      "朴子 97 41\n",
      "嘉義 96 \n",
      "新營 99 43\n",
      "善化 94 40\n",
      "安南 104 40\n",
      "臺南 93 30\n",
      "美濃 71 \n",
      "橋頭 90 40\n",
      "楠梓 90 38\n",
      "仁武 86 29\n",
      "左營 85 \n",
      "前金 84 36\n",
      "鳳山 73 29\n",
      "復興 77 \n",
      "前鎮 81 43\n",
      "小港 78 33\n",
      "大寮 97 46\n",
      "林園 75 25\n",
      "屏東 81 33\n",
      "潮州 79 38\n",
      "恆春 57 15\n",
      "宜蘭 59 7\n",
      "冬山 67 12\n",
      "花蓮 65 19\n",
      "關山 54 10\n",
      "臺東 55 16\n",
      "馬祖 80 21\n",
      "金門 73 29\n",
      "馬公 74 32\n",
      "臺南(麻豆) 94 35\n",
      "彰化(大城) 76 29\n",
      "新北(樹林) 65 13\n",
      "屏東(琉球) 65 18\n",
      "高雄(楠梓) 92 41\n",
      "桃園(觀音工業區) 77 28\n"
     ]
    }
   ],
   "source": [
    "\n",
    "\n",
    "#     print(\"{}\\t{}\\t{}\".format(site[\"SiteName\"], site[\"AQI\"], site[\"PM25\"]))"
   ]
  },
  {
   "cell_type": "markdown",
   "metadata": {},
   "source": [
    "## Updating missing PM2.5 value (Wrong way)\n",
    "\n",
    "在這個例子中，由於我發現PM2.5偶而會有空值（就該場站的資料沒有傳回來），我可以用`for`-each掃過所有的資料，然後用`if`來判斷，如果資料是空值的話（如下面的空字串`\"\"`或者被標示為`ND`），就把`-1`assign給他，不然的話就保留原本的數值，或是像下面一樣，用`int()`把它轉為整數。\n",
    "\n",
    "但是這樣做的結果，`aqdata[\"Data\"]`中的資料值還是沒變。原因是，我在`for`-each掃過所有資料時，我用了一個變數`site`，他的效果相當於把`aqdata[\"Data\"]`裡面的每一個項目一一複製出來並assign給這個`site`（或者說就是一一copy出來）。而我這時候只更改了`site`裡面的值，所以實際上不會更動到`aqdata[\"Data\"]`裡面的值。"
   ]
  },
  {
   "cell_type": "code",
   "execution_count": 58,
   "metadata": {
    "ExecuteTime": {
     "end_time": "2020-03-23T04:38:34.007846Z",
     "start_time": "2020-03-23T04:38:34.002519Z"
    }
   },
   "outputs": [
    {
     "name": "stdout",
     "output_type": "stream",
     "text": [
      "富貴角 74 21\n",
      "萬里 62 -1\n",
      "淡水 38 7\n",
      "林口 63 11\n",
      "三重 65 14\n",
      "菜寮 47 9\n",
      "汐止 66 21\n",
      "新莊 58 -1\n",
      "永和 57 14\n",
      "板橋 53 9\n"
     ]
    }
   ],
   "source": [
    "\n",
    "\n",
    "\n",
    "\n",
    "# print out the first 10 records for glimpse\n",
    "for site in aqdata[\"Data\"][:10]:\n",
    "    print(site[\"SiteName\"], site[\"AQI\"], site[\"PM25\"])\n"
   ]
  },
  {
   "cell_type": "markdown",
   "metadata": {},
   "source": [
    "## Using index to update data (Right way)\n",
    "\n",
    "我若希望把遺漏值（missing value，在這個案例中原本是空的字串\"\"）改為整數的-1，以下這種方式才是正確的方法。也就是透過key去access原本`aqdata[\"Data\"]`中的內容。所以你可以看到更動的值都是更動`aqdata[\"Data\"]`。\n",
    "\n",
    "那你可能會覺得說，一定得要更動本身才好嗎？不一定，這要看你怎麼使用。如果你未來還會希望用到`aqdata[\"Data\"]`，但你又希望他是清好空值的狀態，那就得用現在這個方法。但如果你根本不會用到原始資料，或者未來的用途不會受到空值影響，那就用上面那種寫法就好，清爽很多。"
   ]
  },
  {
   "cell_type": "code",
   "execution_count": 59,
   "metadata": {
    "ExecuteTime": {
     "end_time": "2020-03-23T04:39:18.999034Z",
     "start_time": "2020-03-23T04:39:18.994103Z"
    }
   },
   "outputs": [
    {
     "name": "stdout",
     "output_type": "stream",
     "text": [
      "富貴角 74 21\n",
      "萬里 62 -1\n",
      "淡水 38 7\n",
      "林口 63 11\n",
      "三重 65 14\n",
      "菜寮 47 9\n",
      "汐止 66 21\n",
      "新莊 58 -1\n",
      "永和 57 14\n",
      "板橋 53 9\n"
     ]
    }
   ],
   "source": [
    "# for site in aqdata[\"Data\"]:\n",
    "\n",
    "\n",
    "\n",
    "\n",
    "# print out the frist 10 records for glimpse\n",
    "for site in aqdata[\"Data\"][:10]:\n",
    "    print(site[\"SiteName\"], site[\"AQI\"], site[\"PM25\"])"
   ]
  },
  {
   "cell_type": "markdown",
   "metadata": {},
   "source": [
    "## Using enumerate() to access index and data\n",
    "\n",
    "前面我們介紹到兩個版本，\n",
    "1. `for site in aqdata[\"Data\"]:`是用`site`來直接存取所有的資料項目，\n",
    "2. `for i in range(len(aqdata[\"Data\"])):`的做法則是用`i`作為index來提供存取原本的`aqdata[\"Data\"]`。\n",
    "\n",
    "但其實還有第三種選擇就是用`enumerate()`來同時存取index和資料項目，當我需要access這是第幾個項目，或者需要access原本的項目值時，那我就用index，但我如果只是要判斷一下大小，那我就可以用被取出來的資料項目。寫法如下：\n",
    "\n",
    "`for i, site in enumerate(aqdata[\"Data\"]):`"
   ]
  },
  {
   "cell_type": "code",
   "execution_count": 61,
   "metadata": {
    "ExecuteTime": {
     "end_time": "2020-03-23T04:42:22.383029Z",
     "start_time": "2020-03-23T04:42:22.377452Z"
    }
   },
   "outputs": [
    {
     "name": "stdout",
     "output_type": "stream",
     "text": [
      "<class 'enumerate'>\n",
      "富貴角 74 21\n",
      "萬里 62 -1\n",
      "淡水 38 7\n",
      "林口 63 11\n",
      "三重 65 14\n",
      "菜寮 47 9\n",
      "汐止 66 21\n",
      "新莊 58 -1\n",
      "永和 57 14\n",
      "板橋 53 9\n"
     ]
    }
   ],
   "source": [
    "print(type(enumerate(aqdata[\"Data\"])))\n",
    "\n",
    "\n",
    "\n",
    "\n",
    "\n",
    "\n",
    "for site in aqdata[\"Data\"][:10]:\n",
    "    print(site[\"SiteName\"], site[\"AQI\"], site[\"PM25\"])"
   ]
  },
  {
   "cell_type": "markdown",
   "metadata": {},
   "source": [
    "# Rescale AQI index\n",
    "\n",
    "前面說到一般民眾其實不太了解AQI數值的意義，也不知道最大最小值是多少，所以跟民眾講AQI的數值是沒意義的。民眾比較容易了解的是「現在嚴不嚴重」。因此，我們可以依照環保署對於空氣品質的等級劃分方法來將所有站台區分成幾個等級。程式邏輯上要做的事情是，用if-elif-else來設計好不同的區間判斷，然後用for-loop把所有AQI的值走訪過一遍，看每個站台落入哪個區間。\n",
    "\n",
    "環保署的標準：https://taqm.epa.gov.tw/taqm/tw/b0201.aspx"
   ]
  },
  {
   "cell_type": "code",
   "execution_count": 23,
   "metadata": {
    "ExecuteTime": {
     "end_time": "2020-03-22T15:53:03.498552Z",
     "start_time": "2020-03-22T15:53:03.452584Z"
    }
   },
   "outputs": [
    {
     "name": "stdout",
     "output_type": "stream",
     "text": [
      "富貴角 \t OK\n",
      "萬里 \t OK\n",
      "淡水 \t OK\n",
      "林口 \t OK\n",
      "三重 \t OK\n",
      "菜寮 \t OK\n",
      "汐止 \t OK\n",
      "新莊 \t OK\n",
      "永和 \t OK\n",
      "板橋 \t OK\n",
      "土城 \t OK\n",
      "新店 \t OK\n",
      "陽明 \t OK\n",
      "士林 \t OK\n",
      "大同 \t OK\n",
      "中山 \t OK\n",
      "松山 \t OK\n",
      "萬華 \t OK\n",
      "古亭 \t OK\n",
      "基隆 \t OK\n",
      "大園 \t OK\n",
      "觀音 \t OK\n",
      "桃園 \t OK\n",
      "平鎮 \t OK\n",
      "中壢 \t OK\n",
      "龍潭 \t OK\n",
      "新竹 \t OK\n",
      "湖口 \t OK\n",
      "竹東 \t OK\n",
      "頭份 \t OK\n",
      "苗栗 \t OK\n",
      "三義 \t OK\n",
      "豐原 \t OK\n",
      "沙鹿 \t OK\n",
      "西屯 \t OK\n",
      "忠明 \t OK\n",
      "大里 \t OK\n",
      "線西 \t OK\n",
      "彰化 \t OK\n",
      "二林 \t OK\n",
      "埔里 \t bad\n",
      "南投 \t OK\n",
      "竹山 \t OK\n",
      "崙背 \t OK\n",
      "麥寮 \t OK\n",
      "臺西 \t OK\n",
      "斗六 \t OK\n",
      "新港 \t OK\n",
      "朴子 \t OK\n",
      "嘉義 \t OK\n",
      "新營 \t OK\n",
      "善化 \t OK\n",
      "安南 \t OK\n",
      "臺南 \t OK\n",
      "美濃 \t OK\n",
      "橋頭 \t OK\n",
      "楠梓 \t OK\n",
      "仁武 \t OK\n",
      "左營 \t OK\n",
      "前金 \t OK\n",
      "鳳山 \t OK\n",
      "復興 \t OK\n",
      "前鎮 \t OK\n",
      "小港 \t OK\n",
      "大寮 \t OK\n",
      "林園 \t OK\n",
      "屏東 \t OK\n",
      "潮州 \t OK\n",
      "恆春 \t OK\n",
      "宜蘭 \t OK\n",
      "冬山 \t OK\n",
      "花蓮 \t OK\n",
      "關山 \t OK\n",
      "臺東 \t OK\n",
      "馬祖 \t bad\n",
      "金門 \t OK\n",
      "馬公 \t OK\n",
      "臺南(麻豆) \t OK\n",
      "彰化(大城) \t OK\n",
      "新北(樹林) \t OK\n",
      "屏東(琉球) \t OK\n",
      "高雄(楠梓) \t OK\n",
      "桃園(觀音工業區) \t OK\n"
     ]
    }
   ],
   "source": [
    "for i, site in enumerate(aqdata[\"Data\"]):\n",
    "    if site[\"AQI\"] == \"\":\n",
    "        aqdata[\"Data\"][i][\"Quality\"] = \"Unknown\"\n",
    "    ## add more role here\n",
    "\n",
    "for site in aqdata[\"Data\"]:\n",
    "    print(site[\"SiteName\"], \"\\t\", site[\"Quality\"])"
   ]
  },
  {
   "cell_type": "markdown",
   "metadata": {},
   "source": [
    "### Practice: AQI by epa's standard\n",
    "\n",
    "https://taqm.epa.gov.tw/taqm/en/default.aspx\n",
    "\n",
    "| Label | Range   |\n",
    "|------|------|\n",
    "|Good|0~50|\n",
    "|Moderate|51~100|\n",
    "|Unhealthy for Sensitive Groups|101~150|\n",
    "|Unhealthy|151~200|\n",
    "|Very Unhealthy|201~300|\n",
    "|Hazardous|301~500|"
   ]
  },
  {
   "cell_type": "code",
   "execution_count": null,
   "metadata": {},
   "outputs": [],
   "source": []
  },
  {
   "cell_type": "markdown",
   "metadata": {},
   "source": [
    "### (Option) Rescale better\n",
    "\n",
    "為了避免過多的if-elif-else或者switch的使用，可以先把scale和category寫成兩個List，然後用多一層for-loop來trace該value會落在List的哪個區間。"
   ]
  },
  {
   "cell_type": "code",
   "execution_count": 24,
   "metadata": {
    "ExecuteTime": {
     "end_time": "2020-03-22T15:58:49.104837Z",
     "start_time": "2020-03-22T15:58:49.087594Z"
    }
   },
   "outputs": [
    {
     "name": "stdout",
     "output_type": "stream",
     "text": [
      "16 富貴角 2 L\n",
      "26 萬里 3 L\n",
      "20 淡水 2 L\n",
      "27 林口 3 L\n",
      "25 三重 3 L\n",
      "22 菜寮 2 L\n",
      "20 汐止 2 L\n",
      "25 新莊 3 L\n",
      "22 永和 2 L\n",
      "22 板橋 2 L\n",
      "24 土城 3 L\n",
      "19 新店 2 L\n",
      "8 陽明 1 L\n",
      "22 士林 2 L\n",
      "20 大同 2 L\n",
      "21 中山 2 L\n",
      "21 松山 2 L\n",
      "20 萬華 2 L\n",
      "25 古亭 3 L\n",
      "18 基隆 2 L\n",
      "23 大園 3 L\n",
      "17 觀音 2 L\n",
      "22 桃園 2 L\n",
      "25 平鎮 3 L\n",
      "22 中壢 2 L\n",
      "25 龍潭 3 L\n",
      "21 新竹 2 L\n",
      "19 湖口 2 L\n",
      "24 竹東 3 L\n",
      "19 頭份 2 L\n",
      "28 苗栗 3 L\n",
      "27 三義 3 L\n",
      "28 豐原 3 L\n",
      "26 沙鹿 3 L\n",
      "18 西屯 2 L\n",
      "26 忠明 3 L\n",
      "24 大里 3 L\n",
      "19 線西 2 L\n",
      "18 彰化 2 L\n",
      "23 二林 3 L\n",
      "43 埔里 5 M\n",
      "29 南投 3 L\n",
      "29 竹山 3 L\n",
      "22 崙背 2 L\n",
      "18 麥寮 2 L\n",
      "16 臺西 2 L\n",
      "24 斗六 3 L\n",
      "20 新港 2 L\n",
      "22 朴子 2 L\n",
      "19 嘉義 2 L\n",
      "22 新營 2 L\n",
      "21 善化 2 L\n",
      "20 安南 2 L\n",
      "16 臺南 2 L\n",
      "17 美濃 2 L\n",
      "22 橋頭 2 L\n",
      "20 楠梓 2 L\n",
      "20 仁武 2 L\n",
      "19 左營 2 L\n",
      "20 前金 2 L\n",
      "13 鳳山 2 L\n",
      "18 復興 2 L\n",
      "16 前鎮 2 L\n",
      "17 小港 2 L\n",
      "20 大寮 2 L\n",
      "25 林園 3 L\n",
      "23 屏東 3 L\n",
      "25 潮州 3 L\n",
      "21 恆春 2 L\n",
      "17 宜蘭 2 L\n",
      "20 冬山 2 L\n",
      "22 花蓮 2 L\n",
      "14 關山 2 L\n",
      "9 臺東 1 L\n",
      "26 馬祖 3 L\n",
      "21 金門 2 L\n",
      "11 馬公 2 L\n",
      "23 臺南(麻豆) 3 L\n",
      "14 彰化(大城) 2 L\n",
      "31 新北(樹林) 3 L\n",
      "19 屏東(琉球) 2 L\n",
      "23 高雄(楠梓) 3 L\n",
      "24 桃園(觀音工業區) 3 L\n"
     ]
    }
   ],
   "source": [
    "degree = ['L', 'L', 'L', 'M', 'M', 'M', 'H', 'H','H', 'vH']\n",
    "scaler = [11, 23, 35, 41, 47, 53, 58, 64, 70, 1000]\n",
    "\n",
    "for site in aqdata[\"Data\"]:\n",
    "    if site['PM25'] != \"\":\n",
    "        for i, n in enumerate(scaler):\n",
    "            if int(site['PM25']) < n:\n",
    "                d = i\n",
    "                break     \n",
    "        print(int(site['PM25']), site['SiteName'], d+1, degree[d])"
   ]
  },
  {
   "cell_type": "markdown",
   "metadata": {},
   "source": [
    "# Detect prominant data\n",
    "\n",
    "通常我們有了這類的資料後，第一個想到的分析方法就是找到最嚴重、最差、變化最劇烈的地區。以下這是個非常好的例子說明要如何運用`if`和`for`找出PM2.5最高的地區。在過程中，必須要注意，原本的資料的資料型態為何，甚至要注意，原本的資料是否有缺漏。在這個案例中，我希望找出，現在PM2.5最高的是哪些站台，且把該站台列印出來。注意，我要列印的是，PM2.5最高的站台，而不是最高的PM2.5值；此外還要注意，PM2.5最高的站台可能不只一個（這時候該怎麼處理？）。\n",
    "\n",
    "## Find the maximum\n",
    "\n",
    "找到最大值或最小值的概念：就個人的邏輯思考一下，我要怎麼找到一群數的最大值？解題邏輯：把第一個數先拿來當標準，之後確認過每個數，有沒有比這個數更大的，若有的話，最大值就是找到的那個數，沒有的話，那第一個數就是最大值。\n"
   ]
  },
  {
   "cell_type": "code",
   "execution_count": 63,
   "metadata": {
    "ExecuteTime": {
     "end_time": "2020-03-23T04:49:54.180908Z",
     "start_time": "2020-03-23T04:49:54.177160Z"
    }
   },
   "outputs": [
    {
     "name": "stdout",
     "output_type": "stream",
     "text": [
      "1\n"
     ]
    }
   ],
   "source": [
    "# finding the maximum value\n",
    "alist = [5, 3, 2, 4, 1, 3, 2, 4, 7, 82, 19, 23, 42]\n",
    "\n",
    "# mina, maxa = 100, 0\n",
    "mina = alist[0]\n",
    "\n",
    "\n",
    "\n",
    "\n",
    "#     print maxa, a\n",
    "print(mina)"
   ]
  },
  {
   "cell_type": "markdown",
   "metadata": {},
   "source": [
    "### Use built-in functions\n",
    "\n",
    "這類比較大小的簡單功能一定都有人幫忙寫好了（如以下的例子），只要記得使用它就好。但是，要記得這樣的函式其實就是透過類似上述方法來比較大小以找到最大值。"
   ]
  },
  {
   "cell_type": "code",
   "execution_count": 64,
   "metadata": {
    "ExecuteTime": {
     "end_time": "2020-03-23T04:49:57.965340Z",
     "start_time": "2020-03-23T04:49:57.961824Z"
    }
   },
   "outputs": [
    {
     "name": "stdout",
     "output_type": "stream",
     "text": [
      "1 82 197 13 15.153846153846153\n"
     ]
    }
   ],
   "source": [
    "print(min(alist), max(alist), sum(alist), len(alist), float(sum(alist))/len(alist))"
   ]
  },
  {
   "cell_type": "markdown",
   "metadata": {},
   "source": [
    "### Find the sites with the maximum PM2.5 value\n",
    "\n",
    "接下來我們將以上述的演算邏輯來找到PM2.5最高的那個site。我們先用上述的核心邏輯來找到最大值（下方的`max_value`）為何，然後再用一個`for`-loop把所有站台看一遍，看看哪些站台的PM2.5值等於`max_value`。"
   ]
  },
  {
   "cell_type": "code",
   "execution_count": 65,
   "metadata": {
    "ExecuteTime": {
     "end_time": "2020-03-23T04:50:00.366591Z",
     "start_time": "2020-03-23T04:50:00.361848Z"
    }
   },
   "outputs": [
    {
     "name": "stdout",
     "output_type": "stream",
     "text": [
      "dict_keys(['SiteId', 'SiteName', 'SiteKey', 'AreaKey', 'MonobjName', 'Address', 'lat', 'lng', 'AQI', 'MainPollutant', 'MainPollutantKey', 'CityCode', 'PM10', 'PM10_AVG', 'PM25', 'PM25_AVG', 'O3', 'O3_8', 'SO2', 'CO', 'CO_8', 'NO2', 'SO2_VFLAG', 'CO_VFLAG', 'O3_VFLAG', 'PM10_VFLAG', 'NO2_VFLAG', 'THC_VFLAG', 'PM25_VFLAG', 'SO2_PRETXT', 'CO_PRETXT', 'O3_PRETXT', 'NO2_PRETXT', 'PM10_PRETXT', 'PM25_PRETXT', 'HO_AQI_VAL', 'THC', 'x', 'y', 'DataSrc', 'Time', 'AQIStyle'])\n",
      "The maximum PM2.5 value:  46\n",
      "大寮 46\n"
     ]
    }
   ],
   "source": [
    "print(aqdata[\"Data\"][0].keys())\n",
    "\n",
    "# Initialize a very small maximum value\n",
    "max_value = 0\n",
    "\n",
    "# Compare to see if any one larger than the maximum value\n",
    "for site in aqdata[\"Data\"]:\n",
    "    # add code here\n",
    "    \n",
    "print(\"The maximum PM2.5 value: \", max_value)\n",
    "\n",
    "# Traverse all sites by for loop to see whose value equals to the maximum PM2.5 value\n",
    "for site in aqdata[\"Data\"]:\n",
    "    if int(site['PM25']) == max_value:\n",
    "        print(site['SiteName'], max_value)"
   ]
  },
  {
   "cell_type": "markdown",
   "metadata": {},
   "source": [
    "### Practice: finding top 3 site with highest PM2.5 values"
   ]
  },
  {
   "cell_type": "code",
   "execution_count": 27,
   "metadata": {
    "ExecuteTime": {
     "end_time": "2020-03-22T16:00:17.513774Z",
     "start_time": "2020-03-22T16:00:17.508657Z"
    }
   },
   "outputs": [],
   "source": []
  },
  {
   "cell_type": "markdown",
   "metadata": {},
   "source": [
    "# Find top n\n",
    "\n",
    "## Sorted by `sorted` function\n",
    "\n",
    "下列的程式碼想法如下：\n",
    "1. 我先把所有的PM2.5的值給存起來，\n",
    "2. 存起來以後，我用`sorted()`這個函式把這些值做排序。\n",
    "3. 排序後的List我就很方便取一個閾值（最大值、前四分之一大的值或者是前三大的值）。\n",
    "4. 然後我把大於該閾值的站台都給列印出來，即為所求。"
   ]
  },
  {
   "cell_type": "code",
   "execution_count": 79,
   "metadata": {
    "ExecuteTime": {
     "end_time": "2020-03-23T04:59:34.138897Z",
     "start_time": "2020-03-23T04:59:34.135057Z"
    }
   },
   "outputs": [
    {
     "name": "stdout",
     "output_type": "stream",
     "text": [
      "43\n"
     ]
    }
   ],
   "source": [
    "## Use a list to store all PM2.5 value\n",
    "pm_list = []\n",
    "for site in aqdata[\"Data\"]:\n",
    "\n",
    "        \n",
    "## sort the list by sorted()\n",
    "\n",
    "\n",
    "print(pm_list)"
   ]
  },
  {
   "cell_type": "markdown",
   "metadata": {},
   "source": [
    "## Print out the site which values are larger than the first quarter"
   ]
  },
  {
   "cell_type": "code",
   "execution_count": 76,
   "metadata": {
    "ExecuteTime": {
     "end_time": "2020-03-23T04:59:01.851648Z",
     "start_time": "2020-03-23T04:59:01.846195Z"
    }
   },
   "outputs": [
    {
     "name": "stdout",
     "output_type": "stream",
     "text": [
      "21\n",
      "富貴角 21\n",
      "汐止 21\n",
      "大園 27\n",
      "觀音 22\n",
      "湖口 21\n",
      "苗栗 24\n",
      "三義 32\n",
      "豐原 24\n",
      "沙鹿 33\n",
      "西屯 32\n",
      "忠明 28\n",
      "大里 23\n",
      "線西 31\n",
      "彰化 33\n",
      "二林 40\n",
      "埔里 24\n",
      "南投 31\n",
      "竹山 43\n",
      "崙背 36\n",
      "麥寮 32\n",
      "臺西 32\n",
      "新港 41\n",
      "朴子 41\n",
      "新營 43\n",
      "善化 40\n",
      "安南 40\n",
      "臺南 30\n",
      "橋頭 40\n",
      "楠梓 38\n",
      "仁武 29\n",
      "前金 36\n",
      "鳳山 29\n",
      "前鎮 43\n",
      "小港 33\n",
      "大寮 46\n",
      "林園 25\n",
      "屏東 33\n",
      "潮州 38\n",
      "馬祖 21\n",
      "金門 29\n",
      "馬公 32\n",
      "臺南(麻豆) 35\n",
      "彰化(大城) 29\n",
      "高雄(楠梓) 41\n",
      "桃園(觀音工業區) 28\n"
     ]
    }
   ],
   "source": [
    "print(pm_list[int(len(pm_list)/4)])\n",
    "\n",
    "for site in aqdata[\"Data\"]:\n",
    "    if int(site['PM25']) >= pm_list[int(len(pm_list)/4)]:\n",
    "        print(site['SiteName'], site['PM25'])"
   ]
  },
  {
   "cell_type": "markdown",
   "metadata": {
    "collapsed": true
   },
   "source": [
    "## Print out sites with top 3 serious values"
   ]
  },
  {
   "cell_type": "code",
   "execution_count": 72,
   "metadata": {
    "ExecuteTime": {
     "end_time": "2020-03-23T04:58:16.977345Z",
     "start_time": "2020-03-23T04:58:16.974380Z"
    }
   },
   "outputs": [],
   "source": [
    "# print(sorted(pm_list, reverse=True)[3])\n",
    "for site in aqdata[\"Data\"]:\n",
    "    ## Add code here"
   ]
  },
  {
   "cell_type": "markdown",
   "metadata": {},
   "source": [
    "## Implement `sorted` function by sorting algorithm\n",
    "\n",
    "在前面的例子我用了一個`sorted`函式就排序了所有的PM2.5的值，那這類`sorted`函式是怎麼寫的呢？我們可以用兩層的排序演算法來達成此事。觀念很簡單：\n",
    "1. 我先抓住第一個，一一和後面比較，看看有沒有人比他大，有的話，就和後面做置換（Swap），沒有的話就不動，這樣跑過一輪，就可以保證第一個最大。\n",
    "2. 接下來抓住第二個，一一和後面比較，看看有沒有人比他大，，有的話，就和後面做置換（Swap），沒有的話就不動，這樣跑過一輪，就可以保證第二個是次大的。\n",
    "3. 依此類推。\n",
    "\n",
    "Reference\n",
    "1. https://www.geeksforgeeks.org/bubble-sort/\n",
    "2. https://en.wikipedia.org/wiki/Bubble_sort\n"
   ]
  },
  {
   "cell_type": "code",
   "execution_count": 83,
   "metadata": {
    "ExecuteTime": {
     "end_time": "2020-03-23T05:03:10.051814Z",
     "start_time": "2020-03-23T05:03:10.046325Z"
    }
   },
   "outputs": [
    {
     "name": "stdout",
     "output_type": "stream",
     "text": [
      "[46, 43, 43, 43, 41, 41, 41, 40, 40, 40, 40, 38, 38, 36, 36, 35, 33, 33, 33, 33, 32, 32, 32, 32, 32, 31, 31, 30, 29, 29, 29, 29, 28, 28, 27, 25, 24, 24, 24, 23, 22, 21, 21, 21, 21, 19, 18, 17, 17, 16, 16, 16, 15, 14, 14, 13, 12, 12, 12, 12, 11, 11, 10, 10, 10, 9, 9, 8, 7, 7, 7, -1, -1, -1, -1, -1, -1, -1, -1, -1, -1, -1, -1]\n"
     ]
    }
   ],
   "source": [
    "pm_list = []\n",
    "site_list = []\n",
    "for site in aqdata[\"Data\"]:\n",
    "    if site['PM25'] != \"\" or site['PM25'] != \"ND\":\n",
    "        pm_list.append(int(site['PM25']))\n",
    "        site_list.append(site['SiteName'])\n",
    "        \n",
    "for i in range(len(pm_list)):\n",
    "    for j in range(i+1, len(pm_list)):\n",
    "        if pm_list[i] < pm_list[j]:\n",
    "            pm_list[i], pm_list[j] = pm_list[j], pm_list[i]\n",
    "\n",
    "print(pm_list)"
   ]
  },
  {
   "cell_type": "markdown",
   "metadata": {},
   "source": [
    "# The Youbike Case\n",
    "\n",
    "## Loading data"
   ]
  },
  {
   "cell_type": "code",
   "execution_count": 84,
   "metadata": {
    "ExecuteTime": {
     "end_time": "2020-03-23T05:09:32.129126Z",
     "start_time": "2020-03-23T05:09:30.776878Z"
    }
   },
   "outputs": [
    {
     "name": "stdout",
     "output_type": "stream",
     "text": [
      "<class 'requests.models.Response'>\n",
      "<class 'str'>\n"
     ]
    }
   ],
   "source": [
    "import requests\n",
    "import json\n",
    "response = requests.get('https://tcgbusfs.blob.core.windows.net/blobyoubike/YouBikeTP.gz')\n",
    "print(type(response)) # <class 'requests.models.Response'>\n",
    "print(type(response.text)) # <class 'str'>\n",
    "bike_data = json.loads(response.text)"
   ]
  },
  {
   "cell_type": "markdown",
   "metadata": {},
   "source": [
    "## Calculate \"Fullness\"\n",
    "* 目標：假設我用`perc = sbi/tot`現有腳踏車數除以總腳踏車格數作為滿站的比例，並希望每個站的資料中多一個key為`perc`來存放滿站比例"
   ]
  },
  {
   "cell_type": "code",
   "execution_count": 85,
   "metadata": {
    "ExecuteTime": {
     "end_time": "2020-03-23T05:09:34.186321Z",
     "start_time": "2020-03-23T05:09:34.175026Z"
    }
   },
   "outputs": [
    {
     "name": "stdout",
     "output_type": "stream",
     "text": [
      "捷運市政府站(3號出口)        \t0.51\n",
      "捷運國父紀念館站(2號出口)      \t0.31\n",
      "台北市政府               \t0.10\n",
      "市民廣場                \t0.72\n",
      "興雅國中                \t0.22\n",
      "臺北南山廣場              \t0.34\n",
      "信義廣場(台北101)         \t0.41\n",
      "世貿三館                \t0.63\n",
      "松德站                 \t0.38\n",
      "台北市災害應變中心           \t0.46\n",
      "三張犁                 \t0.40\n",
      "臺北醫學大學              \t0.52\n",
      "福德公園                \t0.10\n",
      "榮星花園                \t0.50\n",
      "松山家商                \t0.38\n",
      "民生光復路口              \t0.59\n",
      "臺北市藝文推廣處            \t0.15\n",
      "象山公園                \t0.40\n",
      "捷運科技大樓站             \t0.10\n",
      "民生敦化路口              \t0.39\n",
      "松山車站                \t0.23\n",
      "東新國小                \t0.59\n",
      "信義建國路口              \t0.02\n",
      "永吉松信路口              \t0.03\n",
      "捷運昆陽站(1號出口)         \t0.43\n",
      "捷運南港展覽館站(5號出口)      \t0.03\n",
      "五常公園                \t0.06\n",
      "金山愛國路口              \t0.35\n",
      "基隆長興路口              \t0.58\n",
      "辛亥新生路口              \t0.90\n",
      "捷運六張犁站              \t0.08\n",
      "中崙高中                \t0.52\n",
      "捷運行天宮站(1號出口)        \t0.31\n",
      "捷運行天宮站(3號出口)        \t0.33\n",
      "臺大資訊大樓              \t0.88\n",
      "捷運東門站(4號出口)         \t0.04\n",
      "臺灣師範大學(圖書館)         \t0.09\n",
      "南港世貿公園              \t0.23\n",
      "玉成公園                \t0.15\n",
      "中研公園                \t0.63\n",
      "捷運後山埤站(1號出口)        \t0.21\n",
      "凌雲市場                \t0.43\n",
      "捷運南港軟體園區站(2號出口)     \t0.33\n",
      "捷運公館站(2號出口)         \t0.03\n",
      "南港國小                \t0.69\n",
      "捷運忠孝新生站(4號出口)       \t0.71\n",
      "南港車站(忠孝東路)          \t0.24\n",
      "龍門廣場                \t0.00\n",
      "民權運動公園              \t0.38\n",
      "建國農安街口              \t0.30\n",
      "建國長春路口              \t0.43\n",
      "八德市場                \t0.00\n",
      "臺北市立圖書館(總館)         \t0.27\n",
      "臺北田徑場               \t0.54\n",
      "仁愛林森路口              \t0.76\n",
      "新生和平路口              \t0.17\n",
      "捷運善導寺站(1號出口)        \t0.60\n",
      "林森公園                \t0.22\n",
      "中山行政中心              \t0.30\n",
      "台灣科技大學              \t0.28\n",
      "南昌公園                \t0.03\n",
      "仁愛醫院                \t0.53\n",
      "國家圖書館               \t0.56\n",
      "青年公園3號出口            \t0.37\n",
      "師範大學公館校區            \t0.12\n",
      "捷運臺大醫院(4號出口)        \t0.15\n",
      "國興青年路口              \t0.28\n",
      "興豐公園                \t0.26\n",
      "捷運台北101/世貿站         \t0.65\n",
      "捷運信義安和站(4號出口)       \t0.23\n",
      "新生長安路口              \t0.40\n",
      "酒泉延平路口              \t0.31\n",
      "信義連雲街口              \t0.00\n",
      "基隆光復路口              \t0.60\n",
      "新生長春路口              \t0.58\n",
      "民生活動中心              \t0.41\n",
      "捷運圓山站(2號出口)         \t0.79\n",
      "捷運民權西路站(3號出口)       \t0.00\n",
      "華江高中                \t0.57\n",
      "捷運台電大樓站(2號出口)       \t0.23\n",
      "捷運西門站(3號出口)         \t0.60\n",
      "捷運大安森林公園站           \t0.04\n",
      "復華花園新城              \t0.42\n",
      "信義敦化路口              \t0.59\n",
      "民權復興路口              \t0.22\n",
      "捷運大安站               \t0.46\n",
      "捷運象山站               \t0.05\n",
      "和平重慶路口              \t0.27\n",
      "老松國小                \t0.30\n",
      "市立美術館               \t0.67\n",
      "開封西寧路口              \t0.02\n",
      "吳興公車總站              \t0.43\n",
      "捷運景美站               \t0.54\n",
      "東園國小                \t0.09\n",
      "三民公園                \t0.03\n",
      "捷運劍潭站(2號出口)         \t0.37\n",
      "羅斯福景隆街口             \t0.36\n",
      "捷運雙連站(2號出口)         \t0.10\n",
      "金山市民路口              \t0.42\n",
      "華山文創園區              \t0.62\n",
      "臺北市客家文化主題公園         \t0.53\n",
      "萬華車站                \t0.18\n",
      "台北花木批發市場            \t0.58\n",
      "峨嵋停車場               \t0.62\n",
      "西園艋舺路口              \t0.39\n",
      "捷運小南門站(1號出口)        \t0.54\n",
      "臺北孔廟                \t0.34\n",
      "林安泰古厝               \t0.56\n",
      "文湖國小                \t0.27\n",
      "捷運忠孝復興站(2號出口)       \t0.37\n",
      "捷運新北投站              \t0.35\n",
      "仁愛逸仙路口              \t0.82\n",
      "蘭雅公園                \t0.13\n",
      "臺北轉運站               \t0.01\n",
      "福林公園                \t0.39\n",
      "捷運北投站               \t0.31\n",
      "大業大同街口              \t0.11\n",
      "捷運劍南路站(2號出口)        \t0.47\n",
      "捷運龍山寺站(1號出口)        \t0.11\n",
      "龍江南京路口              \t0.38\n",
      "捷運港墘站(2號出口)         \t0.04\n",
      "天母運動公園              \t0.43\n",
      "振華公園                \t0.33\n",
      "華西公園                \t0.43\n",
      "敦化基隆路口              \t0.10\n",
      "東湖國中                \t0.60\n",
      "成功國宅                \t0.53\n",
      "捷運文德站(2號出口)         \t0.10\n",
      "羅斯福寧波東街口            \t0.27\n",
      "洲子二號公園              \t0.35\n",
      "羅斯福新生南路口            \t0.14\n",
      "蘭興公園                \t0.12\n",
      "捷運芝山站(2號出口)         \t0.62\n",
      "捷運石牌站(2號出口)         \t0.31\n",
      "國立臺北護理健康大學          \t0.70\n",
      "國防大學                \t0.30\n",
      "捷運永春站(2號出口)         \t0.30\n",
      "永樂市場                \t0.13\n",
      "捷運大橋頭站(2號出口)        \t0.70\n",
      "文山行政中心              \t0.31\n",
      "捷運木柵站               \t0.73\n",
      "捷運動物園站(2號出口)        \t0.08\n",
      "國立政治大學              \t0.62\n",
      "樹德公園                \t0.15\n",
      "捷運士林站(2號出口)         \t0.33\n",
      "士林運動中心              \t0.09\n",
      "捷運明德站               \t0.24\n",
      "北投運動中心              \t0.05\n",
      "松德公園                \t0.34\n",
      "考試院                 \t0.65\n",
      "百齡國小                \t0.10\n",
      "蔣渭水紀念公園             \t0.33\n",
      "中正基河路口              \t0.79\n",
      "瑞光港墘路口              \t0.60\n",
      "東湖國小                \t0.26\n",
      "麗山國小                \t0.17\n",
      "捷運東湖站               \t0.62\n",
      "捷運西湖站(1號出口)         \t0.11\n",
      "大豐公園                \t0.29\n",
      "捷運中山國小站(4號出口)       \t0.56\n",
      "捷運麟光站               \t0.29\n",
      "捷運奇岩站               \t0.43\n",
      "捷運唭哩岸站(2號出口)        \t0.55\n",
      "臺北市立景美女中            \t0.76\n",
      "臺北市立天文館             \t0.66\n",
      "河堤國小                \t0.09\n",
      "植物園                 \t0.18\n",
      "新東公園                \t0.24\n",
      "文山運動中心              \t0.29\n",
      "捷運南京三民站(1號出口)       \t0.75\n",
      "捷運松江南京站(7號出口)       \t0.30\n",
      "捷運小巨蛋站(5號出口)        \t0.46\n",
      "捷運南京復興站(5號出口)       \t0.73\n",
      "興安華城                \t0.24\n",
      "葫蘆國小                \t0.23\n",
      "延平國宅                \t0.03\n",
      "南港公園                \t0.04\n",
      "福華商場                \t0.17\n",
      "建國和平路口              \t0.29\n",
      "捷運古亭站(2號出口)         \t0.84\n",
      "圓環站                 \t0.25\n",
      "劍潭社區                \t0.07\n",
      "瑠公公園                \t0.40\n",
      "臺北市立大學              \t0.55\n",
      "仁愛延吉街口              \t0.24\n",
      "社子國小                \t0.39\n",
      "金瑞公園(金龍路)           \t0.03\n",
      "捷運大直站(3號出口)         \t0.42\n",
      "捷運大湖公園站(2號出口)       \t0.24\n",
      "捷運葫洲站(1號出口)         \t0.59\n",
      "舊莊區民活動中心            \t0.61\n",
      "市民林森路口              \t0.38\n",
      "信義杭州路口(中華電信總公司)     \t0.02\n",
      "新湖國小                \t0.38\n",
      "饒河夜市(八德路側)          \t0.24\n",
      "東陽公園                \t0.27\n",
      "捷運關渡站               \t0.38\n",
      "古亭國中                \t0.53\n",
      "臺北市立大學(天母校區)        \t0.74\n",
      "木柵光輝路口              \t0.21\n",
      "捷運辛亥站               \t0.69\n",
      "福安國中                \t0.70\n",
      "龍山國小                \t0.17\n",
      "捷運復興崗站              \t0.76\n",
      "樂群二敬業四路口            \t0.08\n",
      "星雲金湖街口              \t0.57\n",
      "北安大直街口              \t0.58\n",
      "蘭雅國小                \t0.03\n",
      "基河一期國宅              \t0.20\n",
      "捷運北門站(3號出口)         \t0.60\n",
      "培英公園                \t0.46\n",
      "臺北花市                \t0.25\n",
      "松山高中                \t0.60\n",
      "大理高中                \t0.47\n",
      "大稻埕公園               \t0.31\n",
      "泰和公園                \t0.00\n",
      "撫順公園                \t0.30\n",
      "清江國小                \t0.07\n",
      "社正公園                \t0.25\n",
      "臥龍樂業街口              \t0.05\n",
      "向陽南港路口              \t0.53\n",
      "麗山高中                \t0.15\n",
      "捷運萬芳社區站             \t0.09\n",
      "市民太原路口              \t0.41\n",
      "湖光國宅                \t0.19\n",
      "內政部營建署              \t0.28\n",
      "中山天母路口              \t0.39\n",
      "捷運忠義站               \t0.38\n",
      "永欣綠地                \t0.13\n",
      "市民東興路口              \t0.40\n",
      "關渡自然公園              \t0.31\n",
      "文山第二行政中心            \t0.24\n",
      "瑞湖陽光街口              \t0.31\n",
      "新明路321巷口            \t0.00\n",
      "南京建國路口              \t0.60\n",
      "林口公園                \t0.13\n",
      "關渡宮                 \t0.62\n",
      "社子公園                \t0.17\n",
      "復興市民路口              \t0.41\n",
      "捷運中山國中站             \t0.36\n",
      "國立故宮博物院             \t0.35\n",
      "木柵公園                \t0.41\n",
      "喬治工商                \t0.09\n",
      "中華桂林路口              \t0.78\n",
      "忠孝東路三段217巷口         \t0.42\n",
      "華齡公園                \t0.28\n",
      "大安運動中心              \t0.09\n",
      "芝山抽水站               \t0.18\n",
      "立功立德路口              \t0.69\n",
      "光復南路22巷口            \t0.83\n",
      "中山中正路口              \t0.10\n",
      "錦德公園                \t0.26\n",
      "聯合醫院中興院區            \t0.68\n",
      "南京遼寧街口              \t0.69\n",
      "民權瑞光路口              \t0.67\n",
      "健康新城                \t0.02\n",
      "永安藝文館-表演36房         \t0.29\n",
      "至善臨溪路口              \t0.53\n",
      "秀山區民活動中心            \t0.14\n",
      "中央北路四段30巷口          \t0.27\n",
      "洲子一號公園              \t0.24\n",
      "八德中坡路口              \t0.82\n",
      "南港高工                \t0.57\n",
      "三軍總醫院               \t0.27\n",
      "雨農國小                \t0.65\n",
      "伊通長安路口              \t0.64\n",
      "忠順區民活動中心            \t0.19\n",
      "芝山國小                \t0.16\n",
      "扶輪親恩公園              \t0.56\n",
      "西本願寺廣場              \t0.21\n",
      "三興公園                \t0.05\n",
      "中山堂                 \t0.34\n",
      "明美公園                \t0.62\n",
      "南港車站(興華路)           \t0.46\n",
      "士林新天地               \t0.07\n",
      "松江公園                \t0.72\n",
      "富台公園                \t0.13\n",
      "中央北路四段540巷口         \t0.34\n",
      "華聲公園                \t0.07\n",
      "螢橋國小                \t0.35\n",
      "德明財經科技大學            \t0.48\n",
      "第二果菜批發市場            \t0.30\n",
      "濟南紹興路口              \t0.65\n",
      "牯嶺公園                \t0.52\n",
      "新生公園                \t0.35\n",
      "捷運松山站(3號出口)         \t0.02\n",
      "合心廣場                \t0.53\n",
      "自來水園區               \t0.88\n",
      "朱崙商場                \t0.58\n",
      "敦親公園                \t0.46\n",
      "萬和二號公園              \t0.53\n",
      "長沙公園                \t0.46\n",
      "太原五原路口              \t0.50\n",
      "萬華國中                \t0.38\n",
      "信義基隆路口              \t0.18\n",
      "林森長春路口              \t0.61\n",
      "敦北公園                \t0.55\n",
      "安泰街83巷              \t0.29\n",
      "金華公園                \t0.12\n",
      "碧山公園                \t0.02\n",
      "捷運古亭站(6號出口)         \t0.12\n",
      "仁愛安和路口              \t0.27\n",
      "西松高中                \t0.40\n",
      "三軍總醫院(松山分院)         \t0.42\n",
      "國立臺北大學(臺北校區)        \t0.41\n",
      "捷運忠孝新生站(2號出口)       \t0.43\n",
      "捷運信義安和站(1號出口)       \t0.47\n",
      "光華商場                \t0.39\n",
      "敦化長春路口              \t0.41\n",
      "捷運萬隆站(1號出口)         \t0.34\n",
      "民有一號公園              \t0.59\n",
      "雙園國中                \t0.20\n",
      "成功金龍路口              \t0.60\n",
      "民族林森路口              \t0.26\n",
      "捷運南京三民站(3號出口)       \t0.50\n",
      "莒光大埔街口              \t0.22\n",
      "永盛公園(民生東路一段23巷)     \t0.47\n",
      "新興公園                \t0.31\n",
      "市立圖書館葫蘆堵分館          \t0.12\n",
      "南京東路六段368巷          \t0.47\n",
      "基隆路一段101巷口          \t0.70\n",
      "重慶南海路口              \t0.67\n",
      "一江公園                \t0.33\n",
      "樂群二明水路口             \t0.26\n",
      "迪化休閒運動公園            \t0.18\n",
      "民族玉門街口              \t0.82\n",
      "捷運中山站(2號出口)         \t0.12\n",
      "復盛公園                \t0.43\n",
      "敦化南路二段103巷口         \t0.25\n",
      "景文中學                \t0.75\n",
      "承德路三段8巷口            \t0.86\n",
      "彩虹橋                 \t0.13\n",
      "成德國中                \t0.28\n",
      "重慶國中                \t0.62\n",
      "南京光復路口              \t0.27\n",
      "捷運芝山站(1號出口)         \t0.68\n",
      "文林建民路口              \t0.17\n",
      "忠孝東路六段185巷口         \t0.40\n",
      "捷運忠孝復興站(5號出口)       \t0.43\n",
      "中正運動中心              \t0.63\n",
      "陽明高中                \t0.69\n",
      "博愛寶慶路口              \t0.38\n",
      "民生立體停車場             \t0.17\n",
      "重慶酒泉街口              \t0.04\n",
      "復興南路二段128巷口         \t0.58\n",
      "中山青島路口              \t0.76\n",
      "民權迪化街口              \t0.26\n",
      "紀州庵                 \t0.23\n",
      "建國濟南路口              \t0.50\n",
      "福山公園                \t0.65\n",
      "臺北市網球中心             \t0.38\n",
      "松友公園                \t0.19\n",
      "新明成功路口              \t0.47\n",
      "健安新城                \t0.03\n",
      "民權建國路口              \t0.59\n",
      "振興醫院                \t0.34\n",
      "和平金山路口              \t0.10\n",
      "復興南路一段340巷口         \t0.84\n",
      "嘉興公園                \t0.13\n",
      "陽明大學                \t0.46\n",
      "碧湖公園                \t0.07\n",
      "豐年公園                \t0.13\n",
      "臺灣戲曲中心              \t0.48\n",
      "世新大學                \t0.76\n",
      "新和國小                \t0.32\n",
      "南門國中                \t0.79\n",
      "重慶民族路口              \t0.31\n",
      "中崙福成宮               \t0.25\n",
      "麗湖國小                \t0.15\n",
      "銘傳大學                \t0.79\n",
      "民生建國路口              \t0.03\n",
      "南港路二段178巷口          \t0.40\n",
      "陽光街321巷口            \t0.55\n",
      "春光公園                \t0.37\n",
      "塔悠疏散門               \t0.13\n",
      "民權東路六段15巷           \t0.53\n",
      "聯合醫院和平院區            \t0.45\n",
      "一壽橋                 \t0.35\n",
      "松基公園                \t0.40\n",
      "和興路26巷口             \t0.15\n",
      "錦州吉林路口              \t0.57\n",
      "吳興街260巷             \t0.12\n",
      "景華街128巷口            \t0.17\n",
      "福德國小                \t0.00\n",
      "稻香重三路口              \t0.29\n",
      "景仁公園                \t0.57\n",
      "南京東興路口              \t0.37\n",
      "內溝溪生態展示館            \t0.25\n",
      "松德虎林街口              \t0.28\n",
      "安強公園                \t0.18\n",
      "新東街51巷口             \t0.14\n",
      "劍潭海外青年活動中心          \t0.42\n",
      "聯合醫院陽明院區            \t0.73\n",
      "和平龍泉街口              \t0.50\n",
      "和平敦化路口              \t0.00\n",
      "南京新生路口              \t0.47\n",
      "下灣公園                \t0.21\n",
      "捷運內湖站(1號出口)         \t0.29\n",
      "民族延平路口              \t0.20\n"
     ]
    }
   ],
   "source": [
    "for k in bike_data['retVal']:\n",
    "    bike_data['retVal'][k][\"perc\"] = # \n",
    "\n",
    "for k in bike_data[\"retVal\"]:\n",
    "    print(\"{0:20s}\\t{1:.2f}\".format(bike_data['retVal'][k][\"sna\"], bike_data['retVal'][k][\"perc\"]))"
   ]
  },
  {
   "cell_type": "markdown",
   "metadata": {},
   "source": [
    "## Save bike data to .json\n",
    "\n",
    "在Python中把資料dump成json會遠比csv來得方便，在R中則剛好相反。原因是Python的dictionary與list兩項資料結構恰好json的格式一一相符，所以非常容易就可以把資料dump出去或者read進來。如果是要dump成csv檔的話，就必須想辦法把資料整理成pandas dataframe的二維型態。\n"
   ]
  },
  {
   "cell_type": "code",
   "execution_count": 86,
   "metadata": {
    "ExecuteTime": {
     "end_time": "2020-03-23T05:09:40.179454Z",
     "start_time": "2020-03-23T05:09:40.167117Z"
    }
   },
   "outputs": [],
   "source": [
    "json.dump(bike_data, open('ubike.json', 'w'))"
   ]
  },
  {
   "cell_type": "markdown",
   "metadata": {},
   "source": [
    "## filtering and rescaling\n",
    "\n",
    "一個簡單的測試，看看有多少站台他腳踏車站已經七成滿了（代表騎車過去可能會沒地方停）。"
   ]
  },
  {
   "cell_type": "code",
   "execution_count": 87,
   "metadata": {
    "ExecuteTime": {
     "end_time": "2020-03-23T05:12:03.581359Z",
     "start_time": "2020-03-23T05:12:03.574962Z"
    }
   },
   "outputs": [
    {
     "name": "stdout",
     "output_type": "stream",
     "text": [
      "0004 市民廣場 43 60\n",
      "------------------------------\n",
      "0031 辛亥新生路口 27 30\n",
      "------------------------------\n",
      "0036 臺大資訊大樓 63 72\n",
      "------------------------------\n",
      "0047 捷運忠孝新生站(4號出口) 24 34\n",
      "------------------------------\n",
      "0056 仁愛林森路口 32 42\n",
      "------------------------------\n",
      "0078 捷運圓山站(2號出口) 41 52\n",
      "------------------------------\n",
      "0113 仁愛逸仙路口 31 38\n",
      "------------------------------\n",
      "0142 捷運木柵站 38 52\n",
      "------------------------------\n",
      "0154 中正基河路口 30 38\n",
      "------------------------------\n",
      "0166 臺北市立景美女中 26 34\n",
      "------------------------------\n",
      "0172 捷運南京三民站(1號出口) 18 24\n",
      "------------------------------\n",
      "0175 捷運南京復興站(5號出口) 38 52\n",
      "------------------------------\n",
      "0182 捷運古亭站(2號出口) 42 50\n",
      "------------------------------\n",
      "0204 臺北市立大學(天母校區) 31 42\n",
      "------------------------------\n",
      "0209 捷運復興崗站 32 42\n",
      "------------------------------\n",
      "0249 中華桂林路口 25 32\n",
      "------------------------------\n",
      "0255 光復南路22巷口 25 30\n",
      "------------------------------\n",
      "0267 八德中坡路口 31 38\n",
      "------------------------------\n",
      "0281 松江公園 23 32\n",
      "------------------------------\n",
      "0293 自來水園區 35 40\n",
      "------------------------------\n",
      "0331 民族玉門街口 28 34\n",
      "------------------------------\n",
      "0335 景文中學 24 32\n",
      "------------------------------\n",
      "0336 承德路三段8巷口 19 22\n",
      "------------------------------\n",
      "0351 中山青島路口 29 38\n",
      "------------------------------\n",
      "0363 復興南路一段340巷口 27 32\n",
      "------------------------------\n",
      "0369 世新大學 26 34\n",
      "------------------------------\n",
      "0371 南門國中 30 38\n",
      "------------------------------\n",
      "0375 銘傳大學 38 48\n",
      "------------------------------\n",
      "0398 聯合醫院陽明院區 22 30\n",
      "------------------------------\n"
     ]
    }
   ],
   "source": [
    "for k, v in bike_data['retVal'].items():\n",
    "    if float(v['sbi'])/int(v['tot']) > 0.7:\n",
    "        print(k, v['sna'], v['sbi'], v['tot'])\n",
    "        print(\"-\"*30)\n"
   ]
  },
  {
   "cell_type": "markdown",
   "metadata": {},
   "source": [
    "# For\n",
    "無論是在列數「水果」或者把所有腳踏車站的資訊列印出來，都需要用到一個指令__For__。他會讓程式在指定的範圍內重複執行，所以也經常被稱為__for-each__。"
   ]
  },
  {
   "cell_type": "markdown",
   "metadata": {},
   "source": [
    "## For  - to sum all values in a list"
   ]
  },
  {
   "cell_type": "code",
   "execution_count": 3,
   "metadata": {
    "collapsed": true
   },
   "outputs": [
    {
     "name": "stdout",
     "output_type": "stream",
     "text": [
      "495\n",
      "Enter an n>100\n",
      "5050\n"
     ]
    },
    {
     "ename": "NameError",
     "evalue": "name 'bike_data' is not defined",
     "output_type": "error",
     "traceback": [
      "\u001b[0;31m---------------------------------------------------------------------------\u001b[0m",
      "\u001b[0;31mNameError\u001b[0m                                 Traceback (most recent call last)",
      "\u001b[0;32m<ipython-input-3-c9221861ba47>\u001b[0m in \u001b[0;36m<module>\u001b[0;34m()\u001b[0m\n\u001b[1;32m     16\u001b[0m \u001b[0msbi_sum\u001b[0m \u001b[0;34m=\u001b[0m \u001b[0;36m0\u001b[0m\u001b[0;34m\u001b[0m\u001b[0m\n\u001b[1;32m     17\u001b[0m \u001b[0mtot_sum\u001b[0m \u001b[0;34m=\u001b[0m \u001b[0;36m0\u001b[0m\u001b[0;34m\u001b[0m\u001b[0m\n\u001b[0;32m---> 18\u001b[0;31m \u001b[0;32mfor\u001b[0m \u001b[0musite\u001b[0m \u001b[0;32min\u001b[0m \u001b[0mbike_data\u001b[0m\u001b[0;34m[\u001b[0m\u001b[0;34m'retVal'\u001b[0m\u001b[0;34m]\u001b[0m\u001b[0;34m.\u001b[0m\u001b[0mkeys\u001b[0m\u001b[0;34m(\u001b[0m\u001b[0;34m)\u001b[0m\u001b[0;34m:\u001b[0m\u001b[0;34m\u001b[0m\u001b[0m\n\u001b[0m\u001b[1;32m     19\u001b[0m     \u001b[0msbi_sum\u001b[0m \u001b[0;34m=\u001b[0m \u001b[0msbi_sum\u001b[0m \u001b[0;34m+\u001b[0m \u001b[0mint\u001b[0m\u001b[0;34m(\u001b[0m\u001b[0mbike_data\u001b[0m\u001b[0;34m[\u001b[0m\u001b[0;34m'retVal'\u001b[0m\u001b[0;34m]\u001b[0m\u001b[0;34m[\u001b[0m\u001b[0msite\u001b[0m\u001b[0;34m]\u001b[0m\u001b[0;34m[\u001b[0m\u001b[0;34m'sbi'\u001b[0m\u001b[0;34m]\u001b[0m\u001b[0;34m)\u001b[0m\u001b[0;34m\u001b[0m\u001b[0m\n\u001b[1;32m     20\u001b[0m     \u001b[0mtot_sum\u001b[0m \u001b[0;34m=\u001b[0m \u001b[0mtot_sum\u001b[0m \u001b[0;34m+\u001b[0m \u001b[0mint\u001b[0m\u001b[0;34m(\u001b[0m\u001b[0mbike_data\u001b[0m\u001b[0;34m[\u001b[0m\u001b[0;34m'retVal'\u001b[0m\u001b[0;34m]\u001b[0m\u001b[0;34m[\u001b[0m\u001b[0msite\u001b[0m\u001b[0;34m]\u001b[0m\u001b[0;34m[\u001b[0m\u001b[0;34m'tot'\u001b[0m\u001b[0;34m]\u001b[0m\u001b[0;34m)\u001b[0m\u001b[0;34m\u001b[0m\u001b[0m\n",
      "\u001b[0;31mNameError\u001b[0m: name 'bike_data' is not defined"
     ]
    }
   ],
   "source": [
    "# accmulate all sbi\n",
    "sbi_sum = 0\n",
    "tot_sum = 0\n",
    "for site in bike_data['retVal'].keys():\n",
    "\n",
    "    \n",
    "    \n",
    "print sbi_sum, tot_sum"
   ]
  },
  {
   "cell_type": "markdown",
   "metadata": {},
   "source": [
    "## For - accumulated something according to index of list or key of dictionary"
   ]
  },
  {
   "cell_type": "code",
   "execution_count": 13,
   "metadata": {
    "ExecuteTime": {
     "end_time": "2020-03-23T03:09:40.737717Z",
     "start_time": "2020-03-23T03:09:40.733199Z"
    }
   },
   "outputs": [
    {
     "name": "stdout",
     "output_type": "stream",
     "text": [
      "11\n",
      "[1, 0, 0, 0, 0, 0, 0, 0, 0, 0, 0]\n",
      "[2, 0, 0, 0, 0, 0, 0, 0, 0, 0, 0]\n",
      "[3, 0, 0, 0, 0, 0, 0, 0, 0, 0, 0]\n",
      "[4, 0, 0, 0, 0, 0, 0, 0, 0, 0, 0]\n",
      "[5, 0, 0, 0, 0, 0, 0, 0, 0, 0, 0]\n",
      "[5, 1, 0, 0, 0, 0, 0, 0, 0, 0, 0]\n",
      "[5, 2, 0, 0, 0, 0, 0, 0, 0, 0, 0]\n",
      "[5, 2, 0, 1, 0, 0, 0, 0, 0, 0, 0]\n",
      "[5, 2, 0, 1, 1, 0, 0, 0, 0, 0, 0]\n",
      "[5, 2, 0, 2, 1, 0, 0, 0, 0, 0, 0]\n",
      "[6, 2, 0, 2, 1, 0, 0, 0, 0, 0, 0]\n",
      "[6, 3, 0, 2, 1, 0, 0, 0, 0, 0, 0]\n"
     ]
    }
   ],
   "source": [
    "grades = [60, 65, 62, 65, 62, 73, 78, 90, 100, 99, 67, 73]\n",
    "glist = [0, 0, 0, 0, 0, 0, 0, 0, 0, 0, 0]\n",
    "print(len(glist))\n",
    "\n",
    "\n",
    "\n"
   ]
  },
  {
   "cell_type": "markdown",
   "metadata": {},
   "source": [
    "## Assign values into equal length brackets"
   ]
  },
  {
   "cell_type": "code",
   "execution_count": 15,
   "metadata": {
    "ExecuteTime": {
     "end_time": "2020-03-23T03:10:20.628510Z",
     "start_time": "2020-03-23T03:10:17.652229Z"
    }
   },
   "outputs": [
    {
     "name": "stdout",
     "output_type": "stream",
     "text": [
      "[9, 7, 3, 8, 5, 3, 7, 4, 8, 6]\n"
     ]
    },
    {
     "data": {
      "text/plain": [
       "(array([9., 7., 3., 8., 5., 3., 7., 4., 8., 6.]),\n",
       " array([ 0. ,  9.9, 19.8, 29.7, 39.6, 49.5, 59.4, 69.3, 79.2, 89.1, 99. ]),\n",
       " <a list of 10 Patch objects>)"
      ]
     },
     "execution_count": 15,
     "metadata": {},
     "output_type": "execute_result"
    },
    {
     "data": {
      "image/png": "[encoded data removed]",
      "text/plain": [
       "<Figure size 432x288 with 1 Axes>"
      ]
     },
     "metadata": {
      "needs_background": "light"
     },
     "output_type": "display_data"
    }
   ],
   "source": [
    "grades = [17, 65, 5, 74, 93, 1, 94, 16, 80, 95, 32, 78, 17, 70, 22, 43, 95, 67, 3, 30, 40, 51, 96, 17, 13, 21, 4, 47, 19, 44, 59, 6, 0, 83, 40, 89, 39, 57, 99, 35, 81, 31, 89, 63, 80, 85, 36, 60, 17, 68, 62, 36, 3, 28, 8, 38, 83, 73, 67, 2]\n",
    "glist = [0, 0, 0, 0, 0, 0, 0, 0, 0, 0]\n",
    "\n",
    "\n",
    "\n",
    "\n",
    "%matplotlib inline\n",
    "import matplotlib.pyplot as plt\n",
    "\n"
   ]
  },
  {
   "cell_type": "markdown",
   "metadata": {},
   "source": [
    "## Practice: Generating fibonnacci sequence\n",
    " 費氏數列第一個為0，第二個為1，第三者之後為前兩項相加，請問第10項是多少？\n",
    " 請嘗試將你的答案列印為以下的模樣\n",
    " ```\n",
    "1 \t 1\n",
    "2 \t 2\n",
    "3 \t 3\n",
    "4 \t 5\n",
    "5 \t 8\n",
    "6 \t 13\n",
    "7 \t 21\n",
    "8 \t 34\n",
    "9 \t 55\n",
    "10 \t 89\n",
    "```"
   ]
  },
  {
   "cell_type": "code",
   "execution_count": 42,
   "metadata": {
    "ExecuteTime": {
     "end_time": "2020-03-23T03:16:50.167139Z",
     "start_time": "2020-03-23T03:16:50.163536Z"
    }
   },
   "outputs": [
    {
     "name": "stdout",
     "output_type": "stream",
     "text": [
      "1 \t 1\n",
      "2 \t 2\n",
      "3 \t 3\n",
      "4 \t 5\n",
      "5 \t 8\n",
      "6 \t 13\n",
      "7 \t 21\n",
      "8 \t 34\n",
      "9 \t 55\n",
      "10 \t 89\n"
     ]
    }
   ],
   "source": [
    "## Generating fibonnacci number sequence\n",
    "# 0, 1, 1, 2, 3, 5, 8, 13, 21, 34, 55, ...\n",
    "a, b = 0, 1\n",
    "\n",
    "\n",
    "\n"
   ]
  },
  {
   "cell_type": "markdown",
   "metadata": {},
   "source": [
    "## Generating Pi\n",
    "\n",
    "Gregory and Leibniz found Pi/4 = 1 - 1/3 + 1/5 - 1/7 + 1/9...\n",
    "https://mathworld.wolfram.com/PiFormulas.html\n",
    "\n"
   ]
  },
  {
   "cell_type": "code",
   "execution_count": 23,
   "metadata": {
    "ExecuteTime": {
     "end_time": "2020-03-23T03:12:23.041131Z",
     "start_time": "2020-03-23T03:12:22.748354Z"
    }
   },
   "outputs": [
    {
     "name": "stdout",
     "output_type": "stream",
     "text": [
      "3.1415919869232103\n"
     ]
    }
   ],
   "source": [
    "x, s = 0.0, 1\n",
    "\n",
    "\n",
    "\n",
    "\n",
    "print(x)\n"
   ]
  },
  {
   "cell_type": "code",
   "execution_count": 30,
   "metadata": {
    "ExecuteTime": {
     "end_time": "2020-03-23T03:13:53.567724Z",
     "start_time": "2020-03-23T03:13:53.563045Z"
    }
   },
   "outputs": [
    {
     "name": "stdout",
     "output_type": "stream",
     "text": [
      "**********\n",
      "*********\n",
      "********\n",
      "*******\n",
      "******\n",
      "*****\n",
      "****\n",
      "***\n",
      "**\n",
      "*\n"
     ]
    }
   ],
   "source": [
    "for i in range(10):\n",
    "\n",
    "    \n",
    "    \n",
    "    "
   ]
  },
  {
   "cell_type": "markdown",
   "metadata": {},
   "source": [
    "## Example Print 9x9 tables"
   ]
  },
  {
   "cell_type": "code",
   "execution_count": 41,
   "metadata": {
    "ExecuteTime": {
     "end_time": "2020-03-23T03:15:57.047752Z",
     "start_time": "2020-03-23T03:15:57.042848Z"
    }
   },
   "outputs": [
    {
     "name": "stdout",
     "output_type": "stream",
     "text": [
      " 1*1 = 1   1*2 = 2   1*3 = 3   1*4 = 4   1*5 = 5   1*6 = 6   1*7 = 7   1*8 = 8   1*9 = 9  \n",
      " 2*1 = 2   2*2 = 4   2*3 = 6   2*4 = 8   2*5 = 10  2*6 = 12  2*7 = 14  2*8 = 16  2*9 = 18 \n",
      " 3*1 = 3   3*2 = 6   3*3 = 9   3*4 = 12  3*5 = 15  3*6 = 18  3*7 = 21  3*8 = 24  3*9 = 27 \n",
      " 4*1 = 4   4*2 = 8   4*3 = 12  4*4 = 16  4*5 = 20  4*6 = 24  4*7 = 28  4*8 = 32  4*9 = 36 \n",
      " 5*1 = 5   5*2 = 10  5*3 = 15  5*4 = 20  5*5 = 25  5*6 = 30  5*7 = 35  5*8 = 40  5*9 = 45 \n",
      " 6*1 = 6   6*2 = 12  6*3 = 18  6*4 = 24  6*5 = 30  6*6 = 36  6*7 = 42  6*8 = 48  6*9 = 54 \n",
      " 7*1 = 7   7*2 = 14  7*3 = 21  7*4 = 28  7*5 = 35  7*6 = 42  7*7 = 49  7*8 = 56  7*9 = 63 \n",
      " 8*1 = 8   8*2 = 16  8*3 = 24  8*4 = 32  8*5 = 40  8*6 = 48  8*7 = 56  8*8 = 64  8*9 = 72 \n",
      " 9*1 = 9   9*2 = 18  9*3 = 27  9*4 = 36  9*5 = 45  9*6 = 54  9*7 = 63  9*8 = 72  9*9 = 81 \n"
     ]
    }
   ],
   "source": [
    "\n",
    "\n",
    "\n",
    "\n"
   ]
  }
 ],
 "metadata": {
  "anaconda-cloud": {},
  "kernelspec": {
   "display_name": "Python 3",
   "language": "python",
   "name": "python3"
  },
  "language_info": {
   "codemirror_mode": {
    "name": "ipython",
    "version": 3
   },
   "file_extension": ".py",
   "mimetype": "text/x-python",
   "name": "python",
   "nbconvert_exporter": "python",
   "pygments_lexer": "ipython3",
   "version": "3.7.6"
  },
  "toc": {
   "base_numbering": 1,
   "nav_menu": {
    "height": "413px",
    "width": "160px"
   },
   "number_sections": true,
   "sideBar": true,
   "skip_h1_title": false,
   "title_cell": "Table of Contents",
   "title_sidebar": "Contents",
   "toc_cell": false,
   "toc_position": {
    "height": "calc(100% - 180px)",
    "left": "10px",
    "top": "150px",
    "width": "183.4px"
   },
   "toc_section_display": true,
   "toc_window_display": true
  },
  "varInspector": {
   "cols": {
    "lenName": 16,
    "lenType": 16,
    "lenVar": 40
   },
   "kernels_config": {
    "python": {
     "delete_cmd_postfix": "",
     "delete_cmd_prefix": "del ",
     "library": "var_list.py",
     "varRefreshCmd": "print(var_dic_list())"
    },
    "r": {
     "delete_cmd_postfix": ") ",
     "delete_cmd_prefix": "rm(",
     "library": "var_list.r",
     "varRefreshCmd": "cat(var_dic_list()) "
    }
   },
   "types_to_exclude": [
    "module",
    "function",
    "builtin_function_or_method",
    "instance",
    "_Feature"
   ],
   "window_display": false
  }
 },
 "nbformat": 4,
 "nbformat_minor": 1
}
